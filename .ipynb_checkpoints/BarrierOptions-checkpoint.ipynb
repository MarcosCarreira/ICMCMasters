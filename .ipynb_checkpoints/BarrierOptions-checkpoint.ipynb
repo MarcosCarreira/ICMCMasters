{
 "cells": [
  {
   "cell_type": "markdown",
   "metadata": {},
   "source": [
    "# A Brownian Bridge On the RKI: Pricing Barrier Options using Monte Carlo"
   ]
  },
  {
   "cell_type": "markdown",
   "metadata": {},
   "source": [
    "# By: Marcos Costa Santos Carreira"
   ]
  },
  {
   "cell_type": "markdown",
   "metadata": {},
   "source": [
    "# April 2016"
   ]
  },
  {
   "cell_type": "markdown",
   "metadata": {},
   "source": [
    "## Goal: Price a RKO Put and the equivalent RKI Put using Brownian Bridge with the goal of using the lowest number of path points possible (with a reasonable margin of error)"
   ]
  },
  {
   "cell_type": "markdown",
   "metadata": {},
   "source": [
    "## Formulas for pricing barrier options without rebates (Haug):"
   ]
  },
  {
   "cell_type": "markdown",
   "metadata": {},
   "source": [
    "(1) $$ \\mu =\\frac{b-\\frac{\\sigma ^2}{2}}{\\sigma ^2};b=r-q;$$"
   ]
  },
  {
   "cell_type": "markdown",
   "metadata": {},
   "source": [
    "(2) $$ \\lambda =\\sqrt{\\mu ^2+\\frac{2 r}{\\sigma ^2}};$$"
   ]
  },
  {
   "cell_type": "markdown",
   "metadata": {},
   "source": [
    "\"What immortal hand or eye\n",
    "\n",
    "Could frame thy fearful symmetry?\""
   ]
  },
  {
   "cell_type": "markdown",
   "metadata": {},
   "source": [
    "(3) $$ x_1=\\frac{\\log \\left(\\frac{S}{X}\\right)}{\\sigma  \\sqrt{t}}+(1+ \\mu) \\sigma  \\sqrt{t};$$"
   ]
  },
  {
   "cell_type": "markdown",
   "metadata": {},
   "source": [
    "(4) $$ x_2=\\frac{\\log \\left(\\frac{S}{H}\\right)}{\\sigma  \\sqrt{t}}+(1+ \\mu) \\sigma  \\sqrt{t};$$"
   ]
  },
  {
   "cell_type": "markdown",
   "metadata": {},
   "source": [
    "(5) $$ y_1=\\frac{\\log \\left(\\frac{H^2}{S X}\\right)}{\\sigma  \\sqrt{t}}+(1+ \\mu) \\sigma  \\sqrt{t};$$"
   ]
  },
  {
   "cell_type": "markdown",
   "metadata": {},
   "source": [
    "(6) $$ y_2=\\frac{\\log \\left(\\frac{H}{S}\\right)}{\\sigma  \\sqrt{t}}+(1+ \\mu) \\sigma  \\sqrt{t};$$"
   ]
  },
  {
   "cell_type": "markdown",
   "metadata": {},
   "source": [
    "Formula 7 (A) corresponds to the plain vanilla option:"
   ]
  },
  {
   "cell_type": "markdown",
   "metadata": {},
   "source": [
    "(7) $$ A=\\phi S e^{(b-r) t} N  \\left(\\phi x_1 \\right) -\\phi X e^{-r t} N  \\left(\\phi x_1 - \\phi \\sigma  \\sqrt{t}  \\right);$$"
   ]
  },
  {
   "cell_type": "markdown",
   "metadata": {},
   "source": [
    "(8) $$ B=\\phi S e^{(b-r) t} N  \\left(\\phi x_2 \\right) -\\phi X e^{-r t} N  \\left(\\phi x_2 - \\phi \\sigma  \\sqrt{t}  \\right);$$"
   ]
  },
  {
   "cell_type": "markdown",
   "metadata": {},
   "source": [
    "(9) $$ C=\\phi S e^{(b-r) t} \\left(\\frac{H}{S}\\right)^{2 (\\mu +1)} N \\left(\\eta  y_1\\right) -\\phi X  e^{-r t} \\left(\\frac{H}{S}\\right)^{2 \\mu } N \\left(\\eta  y_1-\\eta  \\sigma  \\sqrt{t}\\right);$$"
   ]
  },
  {
   "cell_type": "markdown",
   "metadata": {},
   "source": [
    "(10) $$ D=\\phi S e^{(b-r) t} \\left(\\frac{H}{S}\\right)^{2 (\\mu +1)} N \\left(\\eta  y_2\\right) -\\phi X  e^{-r t} \\left(\\frac{H}{S}\\right)^{2 \\mu } N \\left(\\eta  y_2-\\eta  \\sigma  \\sqrt{t}\\right);$$"
   ]
  },
  {
   "cell_type": "markdown",
   "metadata": {},
   "source": [
    "For a put where H<X and H<S:"
   ]
  },
  {
   "cell_type": "markdown",
   "metadata": {},
   "source": [
    "(11) $$ pKI=B-C+D;$$"
   ]
  },
  {
   "cell_type": "markdown",
   "metadata": {},
   "source": [
    "(12) $$ pKO=A-B+C-D;$$"
   ]
  },
  {
   "cell_type": "markdown",
   "metadata": {},
   "source": [
    "And as expected:"
   ]
  },
  {
   "cell_type": "markdown",
   "metadata": {},
   "source": [
    "(13) $$ p=pKI+pKO=A;$$"
   ]
  },
  {
   "cell_type": "markdown",
   "metadata": {},
   "source": [
    "### Simplifying the formulas for the particular case r=q=b=0:"
   ]
  },
  {
   "cell_type": "markdown",
   "metadata": {},
   "source": [
    "(1.b) $$ \\mu =-\\frac{1}{2}$$"
   ]
  },
  {
   "cell_type": "markdown",
   "metadata": {},
   "source": [
    "(2.b) $$ \\lambda =\\frac{1}{2};$$"
   ]
  },
  {
   "cell_type": "markdown",
   "metadata": {},
   "source": [
    "(3.b) $$ x_1=\\frac{\\log \\left(\\frac{S}{X}\\right)}{\\sigma  \\sqrt{t}}+(\\frac{1}{2}) \\sigma  \\sqrt{t};$$"
   ]
  },
  {
   "cell_type": "markdown",
   "metadata": {},
   "source": [
    "(4.b) $$ x_2=\\frac{\\log \\left(\\frac{S}{H}\\right)}{\\sigma  \\sqrt{t}}+(\\frac{1}{2}) \\sigma  \\sqrt{t};$$"
   ]
  },
  {
   "cell_type": "markdown",
   "metadata": {},
   "source": [
    "(5.b) $$ y_1=\\frac{\\log \\left(\\frac{H^2}{S X}\\right)}{\\sigma  \\sqrt{t}}+(\\frac{1}{2}) \\sigma  \\sqrt{t};$$"
   ]
  },
  {
   "cell_type": "markdown",
   "metadata": {},
   "source": [
    "(6.b) $$ y_2=\\frac{\\log \\left(\\frac{H}{S}\\right)}{\\sigma  \\sqrt{t}}+(\\frac{1}{2}) \\sigma  \\sqrt{t};$$"
   ]
  },
  {
   "cell_type": "markdown",
   "metadata": {},
   "source": [
    "(7.b) $$ A=\\phi \\left( S N  \\left(\\phi x_1 \\right) - X N  \\left(\\phi \\left(x_1 - \\sigma  \\sqrt{t} \\right)  \\right)\\right);$$"
   ]
  },
  {
   "cell_type": "markdown",
   "metadata": {},
   "source": [
    "(8.b) $$ B=\\phi \\left( S N  \\left(\\phi x_2 \\right) - X N  \\left(\\phi \\left(x_2 - \\sigma  \\sqrt{t} \\right)  \\right)\\right);$$"
   ]
  },
  {
   "cell_type": "markdown",
   "metadata": {},
   "source": [
    "(9.b) $$ C=\\phi\\left( H N \\left(\\eta  y_1\\right) - \\frac{S X}{H} N \\left(\\eta\\left(  y_1-  \\sigma  \\sqrt{t}\\right)\\right)\\right);$$"
   ]
  },
  {
   "cell_type": "markdown",
   "metadata": {},
   "source": [
    "(10.b) $$ D=\\phi\\left( H N \\left(\\eta  y_2\\right) - \\frac{S X}{H} N \\left(\\eta\\left(  y_2-  \\sigma  \\sqrt{t}\\right)\\right)\\right);$$"
   ]
  },
  {
   "cell_type": "markdown",
   "metadata": {},
   "source": [
    "## Time to start coding"
   ]
  },
  {
   "cell_type": "markdown",
   "metadata": {},
   "source": [
    "Import modules"
   ]
  },
  {
   "cell_type": "code",
   "execution_count": 1,
   "metadata": {
    "collapsed": false
   },
   "outputs": [],
   "source": [
    "import numpy as np\n",
    "import matplotlib.pyplot as plt\n",
    "import pandas as pd\n",
    "import scipy.stats as st"
   ]
  },
  {
   "cell_type": "code",
   "execution_count": 2,
   "metadata": {
    "collapsed": false
   },
   "outputs": [],
   "source": [
    "%matplotlib inline"
   ]
  },
  {
   "cell_type": "markdown",
   "metadata": {},
   "source": [
    "## Defining the Black&Scholes function"
   ]
  },
  {
   "cell_type": "code",
   "execution_count": 3,
   "metadata": {
    "collapsed": true
   },
   "outputs": [],
   "source": [
    "def bsv(phi,S,K,r,q,vol,t):\n",
    "    mu=((r-q)-(vol**2)/2)/(vol**2)\n",
    "    efv=t*(vol**2)\n",
    "    # calculate d1 and d2\n",
    "    d1=(np.log(S/K))/(np.sqrt(efv))+(1+mu)*(np.sqrt(efv))\n",
    "    d2=d1-np.sqrt(efv)\n",
    "    # calculate N(d1) and N(d2)\n",
    "    Nd1=st.norm.cdf(phi*d1)\n",
    "    Nd2=st.norm.cdf(phi*d2)\n",
    "    # calculate premium, delta\n",
    "    de=phi*np.exp(-q*t)*Nd1\n",
    "    pr=phi*S*np.exp(-q*t)*Nd1-phi*K*np.exp(-r*t)*Nd2\n",
    "    return [pr,de]"
   ]
  },
  {
   "cell_type": "markdown",
   "metadata": {},
   "source": [
    "### Defining parameters"
   ]
  },
  {
   "cell_type": "code",
   "execution_count": 4,
   "metadata": {
    "collapsed": true
   },
   "outputs": [],
   "source": [
    "S0=100\n",
    "phi=-1\n",
    "eta=1\n",
    "K=100\n",
    "H=85\n",
    "r=0\n",
    "q=0\n",
    "vol=0.20\n",
    "T=128/256\n",
    "nst0=128\n",
    "npth=50000"
   ]
  },
  {
   "cell_type": "markdown",
   "metadata": {},
   "source": [
    "### Calculating the plain vanilla prices"
   ]
  },
  {
   "cell_type": "code",
   "execution_count": 5,
   "metadata": {
    "collapsed": false
   },
   "outputs": [],
   "source": [
    "putpr, putdel = bsv(phi,S0,K,r,q,vol,T)\n",
    "callpr, calldel = bsv(phi,S0,K,r,q,vol,T)"
   ]
  },
  {
   "cell_type": "code",
   "execution_count": 6,
   "metadata": {
    "collapsed": false
   },
   "outputs": [
    {
     "data": {
      "text/plain": [
       "[5.6371977797016655, 5.6371977797016655]"
      ]
     },
     "execution_count": 6,
     "metadata": {},
     "output_type": "execute_result"
    }
   ],
   "source": [
    "[putpr, callpr]"
   ]
  },
  {
   "cell_type": "markdown",
   "metadata": {},
   "source": [
    "## Defining the other functions for the RKO and RKI formulas:"
   ]
  },
  {
   "cell_type": "code",
   "execution_count": 7,
   "metadata": {
    "collapsed": true
   },
   "outputs": [],
   "source": [
    "def bsv2(phi,S,K,H,r,q,vol,t):\n",
    "    mu=((r-q)-(vol**2)/2)/(vol**2)\n",
    "    efv=t*(vol**2)\n",
    "    # calculate d1 and d2\n",
    "    d1=(np.log(S/H))/(np.sqrt(efv))+(1+mu)*(np.sqrt(efv))\n",
    "    d2=d1-np.sqrt(efv)\n",
    "    # calculate N(d1) and N(d2)\n",
    "    Nd1=st.norm.cdf(phi*d1)\n",
    "    Nd2=st.norm.cdf(phi*d2)\n",
    "    # calculate value\n",
    "    pr=phi*S*np.exp(-q*t)*Nd1-phi*K*np.exp(-r*t)*Nd2\n",
    "    return pr"
   ]
  },
  {
   "cell_type": "code",
   "execution_count": 8,
   "metadata": {
    "collapsed": false
   },
   "outputs": [],
   "source": [
    "def bsv3(phi,eta,S,K,H,r,q,vol,t):\n",
    "    mu=((r-q)-(vol**2)/2)/(vol**2)\n",
    "    lmb=np.sqrt((mu**2)+(2*r)/(vol**2))\n",
    "    efv=t*(vol**2)\n",
    "    # calculate d1 and d2\n",
    "    d1=(np.log((H/S)*(H/K)))/(np.sqrt(efv))+(1+mu)*(np.sqrt(efv))\n",
    "    d2=d1-np.sqrt(efv)\n",
    "    # calculate N(d1) and N(d2)\n",
    "    Nd1=st.norm.cdf(eta*d1)\n",
    "    Nd2=st.norm.cdf(eta*d2)\n",
    "    # calculate value\n",
    "    pr=phi*S*(H/S)**(2*(mu+1))*np.exp(-q*t)*Nd1-phi*K*(H/S)**(2*mu)*np.exp(-r*t)*Nd2\n",
    "    return pr"
   ]
  },
  {
   "cell_type": "code",
   "execution_count": 9,
   "metadata": {
    "collapsed": true
   },
   "outputs": [],
   "source": [
    "def bsv4(phi,eta,S,K,H,r,q,vol,t):\n",
    "    mu=((r-q)-(vol**2)/2)/(vol**2)\n",
    "    lmb=np.sqrt((mu**2)+(2*r)/(vol**2))\n",
    "    efv=t*(vol**2)\n",
    "    # calculate d1 and d2\n",
    "    d1=(np.log(H/S))/(np.sqrt(efv))+(1+mu)*(np.sqrt(efv))\n",
    "    d2=d1-np.sqrt(efv)\n",
    "    # calculate N(d1) and N(d2)\n",
    "    Nd1=st.norm.cdf(eta*d1)\n",
    "    Nd2=st.norm.cdf(eta*d2)\n",
    "    # calculate value\n",
    "    pr=phi*S*(H/S)**(2*(mu+1))*np.exp(-q*t)*Nd1-phi*K*(H/S)**(2*mu)*np.exp(-r*t)*Nd2\n",
    "    return pr"
   ]
  },
  {
   "cell_type": "markdown",
   "metadata": {},
   "source": [
    "### Calculating the KI and KO prices"
   ]
  },
  {
   "cell_type": "code",
   "execution_count": 10,
   "metadata": {
    "collapsed": false
   },
   "outputs": [],
   "source": [
    "putKIpr = bsv2(phi,S0,K,H,r,q,vol,T)-bsv3(phi,eta,S0,K,H,r,q,vol,T)+bsv4(phi,eta,S0,K,H,r,q,vol,T)"
   ]
  },
  {
   "cell_type": "code",
   "execution_count": 11,
   "metadata": {
    "collapsed": false
   },
   "outputs": [
    {
     "data": {
      "text/plain": [
       "4.1213831653884165"
      ]
     },
     "execution_count": 11,
     "metadata": {},
     "output_type": "execute_result"
    }
   ],
   "source": [
    "putKIpr"
   ]
  },
  {
   "cell_type": "markdown",
   "metadata": {},
   "source": [
    "Consulting the Haug spreadsheets:"
   ]
  },
  {
   "cell_type": "code",
   "execution_count": 12,
   "metadata": {
    "collapsed": true
   },
   "outputs": [],
   "source": [
    "img1=plt.imread('RKI.png')"
   ]
  },
  {
   "cell_type": "code",
   "execution_count": 13,
   "metadata": {
    "collapsed": false
   },
   "outputs": [
    {
     "data": {
      "text/plain": [
       "<matplotlib.image.AxesImage at 0x11c63a588>"
      ]
     },
     "execution_count": 13,
     "metadata": {},
     "output_type": "execute_result"
    },
    {
     "data": {
      "image/png": "[encoded data removed]",
      "text/plain": [
       "<matplotlib.figure.Figure at 0x119d44d68>"
      ]
     },
     "metadata": {},
     "output_type": "display_data"
    }
   ],
   "source": [
    "plt.imshow(img1)"
   ]
  },
  {
   "cell_type": "code",
   "execution_count": 14,
   "metadata": {
    "collapsed": false
   },
   "outputs": [],
   "source": [
    "putKOpr = bsv(phi,S0,K,r,q,vol,T)[0]-putKIpr"
   ]
  },
  {
   "cell_type": "code",
   "execution_count": 15,
   "metadata": {
    "collapsed": false
   },
   "outputs": [
    {
     "data": {
      "text/plain": [
       "1.5158146143132489"
      ]
     },
     "execution_count": 15,
     "metadata": {},
     "output_type": "execute_result"
    }
   ],
   "source": [
    "putKOpr"
   ]
  },
  {
   "cell_type": "markdown",
   "metadata": {},
   "source": [
    "Consulting the Haug spreadsheets:"
   ]
  },
  {
   "cell_type": "code",
   "execution_count": 16,
   "metadata": {
    "collapsed": true
   },
   "outputs": [],
   "source": [
    "img2=plt.imread('RKO.png')"
   ]
  },
  {
   "cell_type": "code",
   "execution_count": 17,
   "metadata": {
    "collapsed": false
   },
   "outputs": [
    {
     "data": {
      "text/plain": [
       "<matplotlib.image.AxesImage at 0x11d2d2cf8>"
      ]
     },
     "execution_count": 17,
     "metadata": {},
     "output_type": "execute_result"
    },
    {
     "data": {
      "image/png": "[encoded data removed]",
      "text/plain": [
       "<matplotlib.figure.Figure at 0x11c63ae10>"
      ]
     },
     "metadata": {},
     "output_type": "display_data"
    }
   ],
   "source": [
    "plt.imshow(img2)"
   ]
  },
  {
   "cell_type": "markdown",
   "metadata": {},
   "source": [
    "### Auxiliary functions"
   ]
  },
  {
   "cell_type": "code",
   "execution_count": 18,
   "metadata": {
    "collapsed": true
   },
   "outputs": [],
   "source": [
    "def ca(x,size):\n",
    "    y=np.empty(size)\n",
    "    y.fill(x)\n",
    "    return y"
   ]
  },
  {
   "cell_type": "code",
   "execution_count": 19,
   "metadata": {
    "collapsed": true
   },
   "outputs": [],
   "source": [
    "def ppzero(s):\n",
    "    return pd.Series(pd.Series.append(pd.Series([0]),s).values)"
   ]
  },
  {
   "cell_type": "markdown",
   "metadata": {},
   "source": [
    "## Monte Carlo path generator"
   ]
  },
  {
   "cell_type": "code",
   "execution_count": 20,
   "metadata": {
    "collapsed": false
   },
   "outputs": [],
   "source": [
    "def mcpath(nsteps, S0, drift, vol, t):\n",
    "    # generate random numbers\n",
    "    nmdr=pd.Series(np.random.standard_normal(nsteps))\n",
    "    # find each step\n",
    "    dt=t*1/nsteps\n",
    "    ts=pd.Series(ca(dt,nsteps))\n",
    "    ts0=ppzero(ts)\n",
    "    s1=(drift-(vol**2)/2)*dt\n",
    "    s2=vol*np.sqrt(dt)\n",
    "    steps=s1*pd.Series(ca(1,nsteps))+s2*nmdr\n",
    "    steps0=ppzero(steps)\n",
    "    # add steps\n",
    "    cmsteps=steps0.cumsum()\n",
    "    cts=ts0.cumsum()\n",
    "    # convert steps to path\n",
    "    Sj=S0*np.exp(cmsteps.values)\n",
    "    # return timeseries [t,St]\n",
    "    return pd.Series(Sj,index=cts.values)"
   ]
  },
  {
   "cell_type": "code",
   "execution_count": 21,
   "metadata": {
    "collapsed": false
   },
   "outputs": [],
   "source": [
    "testpath0=mcpath(10,S0,r-q,vol,T)"
   ]
  },
  {
   "cell_type": "code",
   "execution_count": 22,
   "metadata": {
    "collapsed": false
   },
   "outputs": [
    {
     "data": {
      "text/plain": [
       "<matplotlib.axes._subplots.AxesSubplot at 0x11d2a2f28>"
      ]
     },
     "execution_count": 22,
     "metadata": {},
     "output_type": "execute_result"
    },
    {
     "data": {
      "image/png": "[encoded data removed]",
      "text/plain": [
       "<matplotlib.figure.Figure at 0x11d2af358>"
      ]
     },
     "metadata": {},
     "output_type": "display_data"
    }
   ],
   "source": [
    "testpath0.plot()"
   ]
  },
  {
   "cell_type": "markdown",
   "metadata": {},
   "source": [
    "## Monte Carlo paths generator"
   ]
  },
  {
   "cell_type": "code",
   "execution_count": 23,
   "metadata": {
    "collapsed": true
   },
   "outputs": [],
   "source": [
    "def mcpaths(npaths, nsteps, S0, drift, vol, t):\n",
    "    # generate npaths using mcpath\n",
    "    paths=pd.DataFrame([mcpath(nsteps, S0, drift, vol, t) for j in range(npaths)])\n",
    "    return paths"
   ]
  },
  {
   "cell_type": "code",
   "execution_count": 24,
   "metadata": {
    "collapsed": false
   },
   "outputs": [],
   "source": [
    "testpath1=mcpaths(5,10,S0,r-q,vol,T)"
   ]
  },
  {
   "cell_type": "code",
   "execution_count": 25,
   "metadata": {
    "collapsed": false,
    "scrolled": true
   },
   "outputs": [
    {
     "data": {
      "text/plain": [
       "<matplotlib.axes._subplots.AxesSubplot at 0x119d44898>"
      ]
     },
     "execution_count": 25,
     "metadata": {},
     "output_type": "execute_result"
    },
    {
     "data": {
      "image/png": "[encoded data removed]",
      "text/plain": [
       "<matplotlib.figure.Figure at 0x11e44d588>"
      ]
     },
     "metadata": {},
     "output_type": "display_data"
    }
   ],
   "source": [
    "testpath1.transpose().plot()"
   ]
  },
  {
   "cell_type": "markdown",
   "metadata": {},
   "source": [
    "## Simulating the values at the maturity"
   ]
  },
  {
   "cell_type": "code",
   "execution_count": 26,
   "metadata": {
    "collapsed": true
   },
   "outputs": [],
   "source": [
    "npt1=npth"
   ]
  },
  {
   "cell_type": "code",
   "execution_count": 27,
   "metadata": {
    "collapsed": false
   },
   "outputs": [],
   "source": [
    "testst=mcpaths(npt1,1,S0,r-q,vol,T)"
   ]
  },
  {
   "cell_type": "code",
   "execution_count": 28,
   "metadata": {
    "collapsed": false
   },
   "outputs": [
    {
     "data": {
      "text/plain": [
       "<matplotlib.axes._subplots.AxesSubplot at 0x11e7b4a20>"
      ]
     },
     "execution_count": 28,
     "metadata": {},
     "output_type": "execute_result"
    },
    {
     "data": {
      "image/png": "[encoded data removed]",
      "text/plain": [
       "<matplotlib.figure.Figure at 0x11e79e7f0>"
      ]
     },
     "metadata": {},
     "output_type": "display_data"
    }
   ],
   "source": [
    "(testst.transpose()).iloc[1].plot(kind='hist', bins=20)"
   ]
  },
  {
   "cell_type": "code",
   "execution_count": 29,
   "metadata": {
    "collapsed": false
   },
   "outputs": [
    {
     "data": {
      "text/plain": [
       "[100.0, 99.9927427966557]"
      ]
     },
     "execution_count": 29,
     "metadata": {},
     "output_type": "execute_result"
    }
   ],
   "source": [
    "[100*np.exp((r-q)*T),(testst.transpose()).iloc[1].mean()]"
   ]
  },
  {
   "cell_type": "markdown",
   "metadata": {},
   "source": [
    "## Checking the payoff of the vanilla calls and puts"
   ]
  },
  {
   "cell_type": "code",
   "execution_count": 30,
   "metadata": {
    "collapsed": true
   },
   "outputs": [],
   "source": [
    "putpocalc=np.maximum((K-(testst.transpose()).iloc[1]),0).mean()\n",
    "callpocalc=np.maximum(((testst.transpose()-K).iloc[1]),0).mean()"
   ]
  },
  {
   "cell_type": "code",
   "execution_count": 31,
   "metadata": {
    "collapsed": false
   },
   "outputs": [
    {
     "data": {
      "text/plain": [
       "[5.6371977797016655, 5.6239311765082771]"
      ]
     },
     "execution_count": 31,
     "metadata": {},
     "output_type": "execute_result"
    }
   ],
   "source": [
    "[putpr, putpocalc*np.exp(-r*T)]"
   ]
  },
  {
   "cell_type": "code",
   "execution_count": 32,
   "metadata": {
    "collapsed": false
   },
   "outputs": [
    {
     "data": {
      "text/plain": [
       "[5.6371977797016655, 5.6166739731641826]"
      ]
     },
     "execution_count": 32,
     "metadata": {},
     "output_type": "execute_result"
    }
   ],
   "source": [
    "[callpr, callpocalc*np.exp(-r*T)]"
   ]
  },
  {
   "cell_type": "code",
   "execution_count": 33,
   "metadata": {
    "collapsed": false
   },
   "outputs": [
    {
     "data": {
      "text/plain": [
       "[5.6371977797016655, 5.6203025748362299]"
      ]
     },
     "execution_count": 33,
     "metadata": {},
     "output_type": "execute_result"
    }
   ],
   "source": [
    "[(putpr+callpr)/2, (putpocalc+callpocalc)*np.exp(-r*T)/2]"
   ]
  },
  {
   "cell_type": "markdown",
   "metadata": {},
   "source": [
    "## Checking the convergence of Monte Carlo"
   ]
  },
  {
   "cell_type": "code",
   "execution_count": 34,
   "metadata": {
    "collapsed": true
   },
   "outputs": [],
   "source": [
    "putporoll=np.maximum((K-(testst.transpose()).iloc[1]),0).cumsum()/np.array(np.arange(1,npt1+1))\n",
    "callporoll=np.maximum(((testst.transpose()-K).iloc[1]),0).cumsum()/np.array(np.arange(1,npt1+1))"
   ]
  },
  {
   "cell_type": "code",
   "execution_count": 35,
   "metadata": {
    "collapsed": false
   },
   "outputs": [
    {
     "data": {
      "text/plain": [
       "<matplotlib.axes._subplots.AxesSubplot at 0x11e79e978>"
      ]
     },
     "execution_count": 35,
     "metadata": {},
     "output_type": "execute_result"
    },
    {
     "data": {
      "image/png": "[encoded data removed]",
      "text/plain": [
       "<matplotlib.figure.Figure at 0x11ed6e048>"
      ]
     },
     "metadata": {},
     "output_type": "display_data"
    }
   ],
   "source": [
    "ax1,ax2,ay1,ay2 = plt.axis()\n",
    "plt.axis((ax1,ax2,-0.05,+0.05))\n",
    "plt.axhline(0, color='grey')\n",
    "plt.xlabel('# of paths')\n",
    "plt.ylabel('% error')\n",
    "pd.Series(putporoll/putpr-1).plot()\n",
    "pd.Series(callporoll/callpr-1).plot()"
   ]
  },
  {
   "cell_type": "markdown",
   "metadata": {},
   "source": [
    "The chart above should be quite symmetrical, given that a positive error for the call is a negative error for the put and vice versa."
   ]
  },
  {
   "cell_type": "markdown",
   "metadata": {},
   "source": [
    "## Simulating the values for more steps"
   ]
  },
  {
   "cell_type": "code",
   "execution_count": 36,
   "metadata": {
    "collapsed": true
   },
   "outputs": [],
   "source": [
    "npt2=npth"
   ]
  },
  {
   "cell_type": "code",
   "execution_count": 37,
   "metadata": {
    "collapsed": true
   },
   "outputs": [],
   "source": [
    "nstp2=nst0"
   ]
  },
  {
   "cell_type": "code",
   "execution_count": 38,
   "metadata": {
    "collapsed": false
   },
   "outputs": [],
   "source": [
    "testst2=mcpaths(npt2,nstp2,S0,r-q,vol,T)"
   ]
  },
  {
   "cell_type": "markdown",
   "metadata": {},
   "source": [
    "The formula for the payout of the One-Touch paying 1 at expiration with S>H:"
   ]
  },
  {
   "cell_type": "markdown",
   "metadata": {},
   "source": [
    "(11) $$ OTpo=N \\left( \\phi \\left( x_2 - \\sigma \\sqrt{t} \\right) \\right) + \\left( \\frac{H}{S}\\right)^{2 \\mu } N \\left( \\eta \\left( y_2 - \\sigma \\sqrt{t} \\right) \\right) ;$$"
   ]
  },
  {
   "cell_type": "markdown",
   "metadata": {},
   "source": [
    "This corresponds to the probability of hitting the barrier over the life of the option."
   ]
  },
  {
   "cell_type": "code",
   "execution_count": 39,
   "metadata": {
    "collapsed": true
   },
   "outputs": [],
   "source": [
    "def otpo(phi,eta,S,H,r,q,vol,t):\n",
    "    mu=((r-q)-(vol**2)/2)/(vol**2)\n",
    "    lmb=np.sqrt((mu**2)+(2*r)/(vol**2))\n",
    "    efv=t*(vol**2)\n",
    "    # calculate arguments for N(): x2 - vol sqrt(t) and y2 - vol sqrt(t)\n",
    "    d1=(np.log(S/H))/(np.sqrt(efv))+(1+mu)*(np.sqrt(efv))-np.sqrt(efv)\n",
    "    d2=(np.log(H/S))/(np.sqrt(efv))+(1+mu)*(np.sqrt(efv))-np.sqrt(efv)\n",
    "    # calculate N(d1) and N(d2)\n",
    "    Nd1=st.norm.cdf(phi*d1)\n",
    "    Nd2=st.norm.cdf(eta*d2)\n",
    "    # calculate value\n",
    "    pr=Nd1+(H/S)**(2*mu)*Nd2\n",
    "    return pr"
   ]
  },
  {
   "cell_type": "markdown",
   "metadata": {},
   "source": [
    "Expected frequency of hits:"
   ]
  },
  {
   "cell_type": "code",
   "execution_count": 40,
   "metadata": {
    "collapsed": false
   },
   "outputs": [
    {
     "data": {
      "text/plain": [
       "0.27129719564023963"
      ]
     },
     "execution_count": 40,
     "metadata": {},
     "output_type": "execute_result"
    }
   ],
   "source": [
    "ph85=otpo(-1,+1,S0,H,r,q,vol,T)\n",
    "ph85"
   ]
  },
  {
   "cell_type": "markdown",
   "metadata": {},
   "source": [
    "Measured frequency of hits:"
   ]
  },
  {
   "cell_type": "code",
   "execution_count": 41,
   "metadata": {
    "collapsed": true
   },
   "outputs": [],
   "source": [
    "def hitbd(s,b):\n",
    "    if (np.min(s)<=b):\n",
    "        return 1\n",
    "    else:\n",
    "        return 0"
   ]
  },
  {
   "cell_type": "code",
   "execution_count": 44,
   "metadata": {
    "collapsed": false
   },
   "outputs": [],
   "source": [
    "hit85=np.array(list(map(lambda x: hitbd(x,H),testst2.values)))"
   ]
  },
  {
   "cell_type": "code",
   "execution_count": 45,
   "metadata": {
    "collapsed": false
   },
   "outputs": [
    {
     "data": {
      "text/plain": [
       "0.25452000000000002"
      ]
     },
     "execution_count": 45,
     "metadata": {},
     "output_type": "execute_result"
    }
   ],
   "source": [
    "hit85.mean()"
   ]
  },
  {
   "cell_type": "markdown",
   "metadata": {},
   "source": [
    "Why these two aren't equal? We forgot the continuity correction:"
   ]
  },
  {
   "cell_type": "code",
   "execution_count": 46,
   "metadata": {
    "collapsed": false
   },
   "outputs": [
    {
     "data": {
      "text/plain": [
       "0.99274395314915387"
      ]
     },
     "execution_count": 46,
     "metadata": {},
     "output_type": "execute_result"
    }
   ],
   "source": [
    "beta=0.5826\n",
    "ccf=np.exp(-beta*vol*np.sqrt(T/nstp2))\n",
    "ccf"
   ]
  },
  {
   "cell_type": "markdown",
   "metadata": {},
   "source": [
    "Adjusting the barrier:"
   ]
  },
  {
   "cell_type": "code",
   "execution_count": 47,
   "metadata": {
    "collapsed": false
   },
   "outputs": [
    {
     "data": {
      "text/plain": [
       "0.24987963310431055"
      ]
     },
     "execution_count": 47,
     "metadata": {},
     "output_type": "execute_result"
    }
   ],
   "source": [
    "ph85cc=otpo(-1,+1,S0,H*ccf,r,q,vol,T)\n",
    "ph85cc"
   ]
  },
  {
   "cell_type": "code",
   "execution_count": 48,
   "metadata": {
    "collapsed": false
   },
   "outputs": [
    {
     "data": {
      "text/plain": [
       "0.74548000000000003"
      ]
     },
     "execution_count": 48,
     "metadata": {},
     "output_type": "execute_result"
    }
   ],
   "source": [
    "(1-hit85).mean()"
   ]
  },
  {
   "cell_type": "code",
   "execution_count": 49,
   "metadata": {
    "collapsed": false
   },
   "outputs": [],
   "source": [
    "hit85roll=hit85.cumsum()/np.array(np.arange(1,npt2+1))"
   ]
  },
  {
   "cell_type": "code",
   "execution_count": 50,
   "metadata": {
    "collapsed": false
   },
   "outputs": [],
   "source": [
    "putpo85=np.maximum((K-(testst2.transpose()).iloc[nstp2]),0)"
   ]
  },
  {
   "cell_type": "code",
   "execution_count": 51,
   "metadata": {
    "collapsed": true
   },
   "outputs": [],
   "source": [
    "po85=((1-hit85)*putpo85).mean()"
   ]
  },
  {
   "cell_type": "code",
   "execution_count": 52,
   "metadata": {
    "collapsed": true
   },
   "outputs": [],
   "source": [
    "pr85=po85*np.exp(-r*T)"
   ]
  },
  {
   "cell_type": "markdown",
   "metadata": {},
   "source": [
    "As expected, no match:"
   ]
  },
  {
   "cell_type": "code",
   "execution_count": 53,
   "metadata": {
    "collapsed": false
   },
   "outputs": [
    {
     "data": {
      "text/plain": [
       "[1.6819333671597994, 1.5158146143132489]"
      ]
     },
     "execution_count": 53,
     "metadata": {},
     "output_type": "execute_result"
    }
   ],
   "source": [
    "[pr85,putKOpr]"
   ]
  },
  {
   "cell_type": "markdown",
   "metadata": {},
   "source": [
    "Adding the continuity correction:"
   ]
  },
  {
   "cell_type": "code",
   "execution_count": 54,
   "metadata": {
    "collapsed": false
   },
   "outputs": [],
   "source": [
    "putKIprcc = bsv2(phi,S0,K,H*ccf,r,q,vol,T)-bsv3(phi,eta,S0,K,H*ccf,r,q,vol,T)+bsv4(phi,eta,S0,K,H*ccf,r,q,vol,T)\n",
    "putKOprcc = bsv(phi,S0,K,r,q,vol,T)[0]-putKIprcc"
   ]
  },
  {
   "cell_type": "markdown",
   "metadata": {},
   "source": [
    "We have now a closer match:"
   ]
  },
  {
   "cell_type": "code",
   "execution_count": 55,
   "metadata": {
    "collapsed": false
   },
   "outputs": [
    {
     "data": {
      "text/plain": [
       "[3.9405485089596297, 1.6966492707420358]"
      ]
     },
     "execution_count": 55,
     "metadata": {},
     "output_type": "execute_result"
    }
   ],
   "source": [
    "[putKIprcc,putKOprcc]"
   ]
  },
  {
   "cell_type": "code",
   "execution_count": 56,
   "metadata": {
    "collapsed": false
   },
   "outputs": [
    {
     "data": {
      "text/plain": [
       "[3.9552644125418661, 1.6819333671597994]"
      ]
     },
     "execution_count": 56,
     "metadata": {},
     "output_type": "execute_result"
    }
   ],
   "source": [
    "[putpr-pr85,pr85]"
   ]
  },
  {
   "cell_type": "markdown",
   "metadata": {},
   "source": [
    "Checking the convergence:"
   ]
  },
  {
   "cell_type": "code",
   "execution_count": 57,
   "metadata": {
    "collapsed": false
   },
   "outputs": [],
   "source": [
    "pr85roll=(((1-hit85)*putpo85)*np.exp(-r*T)).cumsum()/np.array(np.arange(1,npt2+1))"
   ]
  },
  {
   "cell_type": "code",
   "execution_count": 58,
   "metadata": {
    "collapsed": false
   },
   "outputs": [
    {
     "data": {
      "text/plain": [
       "<matplotlib.axes._subplots.AxesSubplot at 0x1233c6a20>"
      ]
     },
     "execution_count": 58,
     "metadata": {},
     "output_type": "execute_result"
    },
    {
     "data": {
      "image/png": "[encoded data removed]",
      "text/plain": [
       "<matplotlib.figure.Figure at 0x12339dda0>"
      ]
     },
     "metadata": {},
     "output_type": "display_data"
    }
   ],
   "source": [
    "ax1,ax2,ay1,ay2 = plt.axis()\n",
    "plt.axis((ax1,ax2,putKOprcc-0.25,putKOprcc+0.25))\n",
    "plt.axhline(putKOprcc, color='grey')\n",
    "plt.xlabel('# of paths')\n",
    "plt.ylabel('Premium values')\n",
    "pd.Series(pr85roll).plot()"
   ]
  },
  {
   "cell_type": "code",
   "execution_count": 59,
   "metadata": {
    "collapsed": false
   },
   "outputs": [
    {
     "data": {
      "text/plain": [
       "<matplotlib.axes._subplots.AxesSubplot at 0x1233622e8>"
      ]
     },
     "execution_count": 59,
     "metadata": {},
     "output_type": "execute_result"
    },
    {
     "data": {
      "image/png": "[encoded data removed]",
      "text/plain": [
       "<matplotlib.figure.Figure at 0x12331ff98>"
      ]
     },
     "metadata": {},
     "output_type": "display_data"
    }
   ],
   "source": [
    "ax1,ax2,ay1,ay2 = plt.axis()\n",
    "plt.axis((ax1,ax2,0.2,0.3))\n",
    "plt.axhline(ph85cc, color='grey')\n",
    "plt.xlabel('# of paths')\n",
    "plt.ylabel('Hit probability')\n",
    "pd.Series(hit85roll).plot()"
   ]
  },
  {
   "cell_type": "markdown",
   "metadata": {},
   "source": [
    "## Monte Carlo path generator with Brownian Bridge"
   ]
  },
  {
   "cell_type": "markdown",
   "metadata": {},
   "source": [
    "### Let's be careful here and develop the code ... step by step"
   ]
  },
  {
   "cell_type": "markdown",
   "metadata": {},
   "source": [
    "### After all, we don't want to take a step too far and then come back ... or do we?"
   ]
  },
  {
   "cell_type": "markdown",
   "metadata": {},
   "source": [
    "Brownian motion:"
   ]
  },
  {
   "cell_type": "markdown",
   "metadata": {},
   "source": [
    "(12) $$ W(t_{i+1})=W(t_i)+\\sqrt{t_{i+1}-t_i}Z(t_{i+1});$$"
   ]
  },
  {
   "cell_type": "markdown",
   "metadata": {},
   "source": [
    "(13) $$ X(t_{i+1})=X(t_i)+\\mu(t_{i+1}-t_i) + \\sigma\\sqrt{t_{i+1}-t_i}Z(t_{i+1});$$"
   ]
  },
  {
   "cell_type": "markdown",
   "metadata": {},
   "source": [
    "(14) $$ (W(s) \\mid W(s_1)=x_1,W(s_2)=x_2)=N\\left(\\frac{(s_{i+1}-s).x_i+(s-s_i).x_{i+1}}{(s_{i+1}-s_i)},\\frac{(s_{i+1}-s)(s-s_i)}{(s_{i+1}-s_i)}\\right); $$"
   ]
  },
  {
   "cell_type": "markdown",
   "metadata": {},
   "source": [
    "(15) $$ W(s)=\\frac{(s_{i+1}-s).x_i+(s-s_i).x_{i+1}}{(s_{i+1}-s_i)}+\\sqrt{\\frac{(s_{i+1}-s)(s-s_i)}{(s_{i+1}-s_i)}}Z;$$"
   ]
  },
  {
   "cell_type": "markdown",
   "metadata": {},
   "source": [
    "### Pseudocode from Glasserman for W:"
   ]
  },
  {
   "cell_type": "markdown",
   "metadata": {},
   "source": [
    "  \n",
    "    Z[i] is draw i of N(0,1)\n",
    "    h=2^m=nsteps\n",
    "    jmax=1 \n",
    "    w[h]=sqrt(t[h]).Z[h]   \n",
    "    t[0]=0   \n",
    "    w[0]=0   \n",
    "    for k=1 to m\n",
    "        imin=h/2\n",
    "        i=imin\n",
    "        lt=0\n",
    "        rt=h\n",
    "        for j=1 to jmax\n",
    "            a=( (t[rt]-t[i]).w[lt] + (t[i]-t[lt]).w[rt] ) / (t[rt]-t[lt])\n",
    "            b=sqrt( (t[rt]-t[i]).(t[i]-t[lt]) / (t[rt]-t[lt]) )\n",
    "            w[i]=a+b.Z[i]\n",
    "            i=i+h\n",
    "            lt=lt+h\n",
    "            rt=rt+h\n",
    "        end\n",
    "        jmax=2.jmax\n",
    "        h=imin\n",
    "    end\n",
    "    return array w (size h)"
   ]
  },
  {
   "cell_type": "markdown",
   "metadata": {},
   "source": [
    "### Defining functions for the inner loop:"
   ]
  },
  {
   "cell_type": "markdown",
   "metadata": {},
   "source": [
    "Get W(s) given W(t1) and W(t2)"
   ]
  },
  {
   "cell_type": "code",
   "execution_count": 60,
   "metadata": {
    "collapsed": false
   },
   "outputs": [],
   "source": [
    "def bbw(t1,t2,t,w1,w2):\n",
    "    # generate random number\n",
    "    z=np.random.standard_normal()\n",
    "    # initial value for Log(S0)\n",
    "    a=((t2-t)*w1+(t-t1)*w2)/(t2-t1)\n",
    "    b=np.sqrt((t2-t)*(t-t1)/(t2-t1))\n",
    "    w=a+b*z\n",
    "    return w"
   ]
  },
  {
   "cell_type": "code",
   "execution_count": 61,
   "metadata": {
    "collapsed": false
   },
   "outputs": [
    {
     "data": {
      "text/plain": [
       "<matplotlib.axes._subplots.AxesSubplot at 0x12331f320>"
      ]
     },
     "execution_count": 61,
     "metadata": {},
     "output_type": "execute_result"
    },
    {
     "data": {
      "image/png": "[encoded data removed]",
      "text/plain": [
       "<matplotlib.figure.Figure at 0x12d974a58>"
      ]
     },
     "metadata": {},
     "output_type": "display_data"
    }
   ],
   "source": [
    "plt.axvline(6, color='grey')\n",
    "pd.Series(np.array([bbw(0,1,0.5,5,7) for j in range(10000)])).plot(kind='hist', bins=20)"
   ]
  },
  {
   "cell_type": "markdown",
   "metadata": {},
   "source": [
    "Get the next \"layer\" of W(s) given W(tj) for a range tj"
   ]
  },
  {
   "cell_type": "code",
   "execution_count": 62,
   "metadata": {
    "collapsed": false
   },
   "outputs": [],
   "source": [
    "def bbwnxt(tms):\n",
    "    wr=tms.values\n",
    "    tr=tms.index.values\n",
    "    # new time index\n",
    "    ntr=np.array((tr[1:]+tr[:-1])/2)\n",
    "    # apply bbw for each overlapping pair\n",
    "    w = np.array([bbw(tr[j],tr[j+1],ntr[j],wr[j],wr[j+1]) for j in range(len(tr)-1)])\n",
    "    return pd.Series(w,index=ntr)"
   ]
  },
  {
   "cell_type": "code",
   "execution_count": 63,
   "metadata": {
    "collapsed": false
   },
   "outputs": [
    {
     "data": {
      "text/plain": [
       "0.00    0.0\n",
       "0.25   -0.2\n",
       "0.50    0.1\n",
       "0.75    0.1\n",
       "1.00    0.5\n",
       "dtype: float64"
      ]
     },
     "execution_count": 63,
     "metadata": {},
     "output_type": "execute_result"
    }
   ],
   "source": [
    "ts1=pd.Series(np.array([0,-0.2,0.1,0.1,0.5]),index=(np.arange(5)/4))\n",
    "ts1"
   ]
  },
  {
   "cell_type": "code",
   "execution_count": 64,
   "metadata": {
    "collapsed": false
   },
   "outputs": [
    {
     "data": {
      "text/plain": [
       "0.125    0.032643\n",
       "0.375    0.511188\n",
       "0.625    0.009450\n",
       "0.875    0.247514\n",
       "dtype: float64"
      ]
     },
     "execution_count": 64,
     "metadata": {},
     "output_type": "execute_result"
    }
   ],
   "source": [
    "ts2=bbwnxt(ts1)\n",
    "ts2"
   ]
  },
  {
   "cell_type": "code",
   "execution_count": 66,
   "metadata": {
    "collapsed": false
   },
   "outputs": [
    {
     "data": {
      "text/plain": [
       "[-0.10130872417223702,\n",
       " -0.048821878139203953,\n",
       " 0.096925269278702722,\n",
       " 0.30231098563023917]"
      ]
     },
     "execution_count": 66,
     "metadata": {},
     "output_type": "execute_result"
    }
   ],
   "source": [
    "list(map(np.mean,np.array([bbwnxt(ts1).values for k in range(10000)]).transpose()))"
   ]
  },
  {
   "cell_type": "code",
   "execution_count": 67,
   "metadata": {
    "collapsed": false
   },
   "outputs": [
    {
     "data": {
      "text/plain": [
       "0.000    0.000000\n",
       "0.125    0.032643\n",
       "0.250   -0.200000\n",
       "0.375    0.511188\n",
       "0.500    0.100000\n",
       "0.625    0.009450\n",
       "0.750    0.100000\n",
       "0.875    0.247514\n",
       "1.000    0.500000\n",
       "dtype: float64"
      ]
     },
     "execution_count": 67,
     "metadata": {},
     "output_type": "execute_result"
    }
   ],
   "source": [
    "pd.concat([ts1,ts2]).sort_index()"
   ]
  },
  {
   "cell_type": "markdown",
   "metadata": {},
   "source": [
    "Put together both layers sorted by the time index"
   ]
  },
  {
   "cell_type": "code",
   "execution_count": 68,
   "metadata": {
    "collapsed": false
   },
   "outputs": [],
   "source": [
    "def bbwtnxt(tms):\n",
    "    return pd.concat([tms,bbwnxt(tms)]).sort_index()"
   ]
  },
  {
   "cell_type": "code",
   "execution_count": 69,
   "metadata": {
    "collapsed": false
   },
   "outputs": [
    {
     "data": {
      "text/plain": [
       "0.000    0.000000\n",
       "0.125   -0.418704\n",
       "0.250   -0.200000\n",
       "0.375    0.206293\n",
       "0.500    0.100000\n",
       "0.625   -0.383564\n",
       "0.750    0.100000\n",
       "0.875    0.379829\n",
       "1.000    0.500000\n",
       "dtype: float64"
      ]
     },
     "execution_count": 69,
     "metadata": {},
     "output_type": "execute_result"
    }
   ],
   "source": [
    "bbwtnxt(ts1)"
   ]
  },
  {
   "cell_type": "markdown",
   "metadata": {},
   "source": [
    "### Defining the outer loop:"
   ]
  },
  {
   "cell_type": "code",
   "execution_count": 70,
   "metadata": {
    "collapsed": false
   },
   "outputs": [],
   "source": [
    "def bbwpath(m,w0,T):\n",
    "    # generate random number\n",
    "    z=np.random.standard_normal()\n",
    "    # value for x(T)\n",
    "    wT=w0+z*np.sqrt(T)\n",
    "    w=pd.Series(np.array([w0,wT]),index=np.array([0,T]))\n",
    "    for j in range(m):\n",
    "        w=bbwtnxt(w)\n",
    "    return w"
   ]
  },
  {
   "cell_type": "code",
   "execution_count": 71,
   "metadata": {
    "collapsed": false
   },
   "outputs": [
    {
     "data": {
      "text/plain": [
       "0.0000    0.000000\n",
       "0.3125   -0.192661\n",
       "0.6250    0.238561\n",
       "0.9375    0.502339\n",
       "1.2500    0.715124\n",
       "1.5625    0.825417\n",
       "1.8750    0.842957\n",
       "2.1875    1.774314\n",
       "2.5000    0.582030\n",
       "2.8125    0.820670\n",
       "3.1250    0.599277\n",
       "3.4375   -0.475990\n",
       "3.7500   -0.965547\n",
       "4.0625   -0.511381\n",
       "4.3750   -0.423678\n",
       "4.6875    1.223634\n",
       "5.0000    1.167084\n",
       "dtype: float64"
      ]
     },
     "execution_count": 71,
     "metadata": {},
     "output_type": "execute_result"
    }
   ],
   "source": [
    "bbwpath(4,0,5)"
   ]
  },
  {
   "cell_type": "code",
   "execution_count": 72,
   "metadata": {
    "collapsed": false
   },
   "outputs": [],
   "source": [
    "def bbwpathall(m,w0,T):\n",
    "    wall=[pd.Series(np.array([w0]),index=np.array([0]))]\n",
    "    # generate random number\n",
    "    z=np.random.standard_normal()\n",
    "    # value for x(T)\n",
    "    wT=w0+z*np.sqrt(T)\n",
    "    w=pd.Series(np.array([w0,wT]),index=np.array([0,T]))\n",
    "    wall=wall+[w]\n",
    "    for j in range(m):\n",
    "        w=bbwtnxt(w)\n",
    "        wall=wall+[w]\n",
    "    return wall"
   ]
  },
  {
   "cell_type": "code",
   "execution_count": 73,
   "metadata": {
    "collapsed": true
   },
   "outputs": [],
   "source": [
    "bbp1=bbwpathall(4,0,1)"
   ]
  },
  {
   "cell_type": "code",
   "execution_count": 74,
   "metadata": {
    "collapsed": false
   },
   "outputs": [
    {
     "data": {
      "text/plain": [
       "[<matplotlib.axes._subplots.AxesSubplot at 0x121deed30>,\n",
       " <matplotlib.axes._subplots.AxesSubplot at 0x121deed30>,\n",
       " <matplotlib.axes._subplots.AxesSubplot at 0x121deed30>,\n",
       " <matplotlib.axes._subplots.AxesSubplot at 0x121deed30>,\n",
       " <matplotlib.axes._subplots.AxesSubplot at 0x121deed30>]"
      ]
     },
     "execution_count": 74,
     "metadata": {},
     "output_type": "execute_result"
    },
    {
     "data": {
      "image/png": "[encoded data removed]",
      "text/plain": [
       "<matplotlib.figure.Figure at 0x12d974cf8>"
      ]
     },
     "metadata": {},
     "output_type": "display_data"
    }
   ],
   "source": [
    "[bbp1[j].plot() for j in range(1,len(bbp1))]"
   ]
  },
  {
   "cell_type": "markdown",
   "metadata": {},
   "source": [
    "### Pseudocode from Glasserman for X:"
   ]
  },
  {
   "cell_type": "markdown",
   "metadata": {},
   "source": [
    "  \n",
    "    Z[i] is draw i of N(0,1)\n",
    "    h=2^m=nsteps\n",
    "    jmax=1 \n",
    "    w[h]=mu*t[h]+sigma*sqrt(t[h]).Z[h]   \n",
    "    t[0]=0   \n",
    "    w[0]=0   \n",
    "    for k=1 to m\n",
    "        imin=h/2\n",
    "        i=imin\n",
    "        lt=0\n",
    "        rt=h\n",
    "        for j=1 to jmax\n",
    "            a=( (t[rt]-t[i]).w[lt] + (t[i]-t[lt]).w[rt] ) / (t[rt]-t[lt])\n",
    "            b=sqrt( (t[rt]-t[i]).(t[i]-t[lt]) / (t[rt]-t[lt]) )\n",
    "            w[i]=a+b.sigma*Z[i]\n",
    "            i=i+h\n",
    "            lt=lt+h\n",
    "            rt=rt+h\n",
    "        end\n",
    "        jmax=2.jmax\n",
    "        h=imin\n",
    "    end\n",
    "    return array w (size h)"
   ]
  },
  {
   "cell_type": "markdown",
   "metadata": {},
   "source": [
    "### Defining the functions for a general Brownian Bridge:"
   ]
  },
  {
   "cell_type": "code",
   "execution_count": 75,
   "metadata": {
    "collapsed": false
   },
   "outputs": [],
   "source": [
    "def bbx(t1,t2,t,w1,w2,sigma):\n",
    "    # generate random number\n",
    "    z=np.random.standard_normal()\n",
    "    # initial value for Log(S0)\n",
    "    a=((t2-t)*w1+(t-t1)*w2)/(t2-t1)\n",
    "    b=np.sqrt((t2-t)*(t-t1)/(t2-t1))\n",
    "    w=a+b*sigma*z\n",
    "    return w"
   ]
  },
  {
   "cell_type": "code",
   "execution_count": 76,
   "metadata": {
    "collapsed": false
   },
   "outputs": [],
   "source": [
    "def bbxnxt(tms,sigma):\n",
    "    wr=tms.values\n",
    "    tr=tms.index.values\n",
    "    # new time index\n",
    "    ntr=np.array((tr[1:]+tr[:-1])/2)\n",
    "    # apply bbw for each overlapping pair\n",
    "    w = np.array([bbx(tr[j],tr[j+1],ntr[j],wr[j],wr[j+1],sigma) for j in range(len(tr)-1)])\n",
    "    return pd.Series(w,index=ntr)"
   ]
  },
  {
   "cell_type": "code",
   "execution_count": 77,
   "metadata": {
    "collapsed": false
   },
   "outputs": [],
   "source": [
    "def bbxtnxt(tms,sigma):\n",
    "    return pd.concat([tms,bbxnxt(tms,sigma)]).sort_index()"
   ]
  },
  {
   "cell_type": "code",
   "execution_count": 78,
   "metadata": {
    "collapsed": false
   },
   "outputs": [],
   "source": [
    "def bbxpath(m,w0,T,sigma,mu):\n",
    "    # generate random number\n",
    "    z=np.random.standard_normal()\n",
    "    # value for x(T)\n",
    "    wT=w0+mu*T+z*sigma*np.sqrt(T)\n",
    "    w=pd.Series(np.array([w0,wT]),index=np.array([0,T]))\n",
    "    for j in range(m):\n",
    "        w=bbxtnxt(w,sigma)\n",
    "    return w"
   ]
  },
  {
   "cell_type": "code",
   "execution_count": 79,
   "metadata": {
    "collapsed": false
   },
   "outputs": [],
   "source": [
    "def bbxpathall(m,w0,T,sigma,mu):\n",
    "    wall=[pd.Series(np.array([w0]),index=np.array([0]))]\n",
    "    # generate random number\n",
    "    z=np.random.standard_normal()\n",
    "    # value for x(T)\n",
    "    wT=w0+mu*T+z*sigma*np.sqrt(T)\n",
    "    w=pd.Series(np.array([w0,wT]),index=np.array([0,T]))\n",
    "    wall=wall+[w]\n",
    "    for j in range(m):\n",
    "        w=bbxtnxt(w,sigma)\n",
    "        wall=wall+[w]\n",
    "    return wall"
   ]
  },
  {
   "cell_type": "code",
   "execution_count": 80,
   "metadata": {
    "collapsed": false
   },
   "outputs": [],
   "source": [
    "bbp2=bbxpathall(4,0,1,0.2,0.1)"
   ]
  },
  {
   "cell_type": "code",
   "execution_count": 81,
   "metadata": {
    "collapsed": false
   },
   "outputs": [
    {
     "data": {
      "text/plain": [
       "[<matplotlib.axes._subplots.AxesSubplot at 0x121e28710>,\n",
       " <matplotlib.axes._subplots.AxesSubplot at 0x121e28710>,\n",
       " <matplotlib.axes._subplots.AxesSubplot at 0x121e28710>,\n",
       " <matplotlib.axes._subplots.AxesSubplot at 0x121e28710>,\n",
       " <matplotlib.axes._subplots.AxesSubplot at 0x121e28710>]"
      ]
     },
     "execution_count": 81,
     "metadata": {},
     "output_type": "execute_result"
    },
    {
     "data": {
      "image/png": "[encoded data removed]",
      "text/plain": [
       "<matplotlib.figure.Figure at 0x121e16a58>"
      ]
     },
     "metadata": {},
     "output_type": "display_data"
    }
   ],
   "source": [
    "[bbp2[j].plot() for j in range(1,len(bbp2))]"
   ]
  },
  {
   "cell_type": "code",
   "execution_count": 82,
   "metadata": {
    "collapsed": false
   },
   "outputs": [],
   "source": [
    "def mcpathbb(nsteps, S0, drift, vol, t):\n",
    "    lrpath=bbxpath(int(np.log2(nsteps)),0,t,vol,drift-(vol**2)/2)\n",
    "    spath=pd.Series(S0*np.exp(lrpath.values),index=lrpath.index)\n",
    "    return spath"
   ]
  },
  {
   "cell_type": "code",
   "execution_count": 83,
   "metadata": {
    "collapsed": false
   },
   "outputs": [
    {
     "data": {
      "text/plain": [
       "<matplotlib.axes._subplots.AxesSubplot at 0x1221b7780>"
      ]
     },
     "execution_count": 83,
     "metadata": {},
     "output_type": "execute_result"
    },
    {
     "data": {
      "image/png": "[encoded data removed]",
      "text/plain": [
       "<matplotlib.figure.Figure at 0x12223b160>"
      ]
     },
     "metadata": {},
     "output_type": "display_data"
    }
   ],
   "source": [
    "mcpathbb(nstp2,S0,r-q,vol,T).plot()"
   ]
  },
  {
   "cell_type": "markdown",
   "metadata": {},
   "source": [
    "## Monte Carlo paths generator for Brownian Bridges"
   ]
  },
  {
   "cell_type": "code",
   "execution_count": 84,
   "metadata": {
    "collapsed": true
   },
   "outputs": [],
   "source": [
    "def mcpathsbb(npaths, nsteps, S0, drift, vol, t):\n",
    "    # generate npaths using mcpathbb\n",
    "    paths=pd.DataFrame([mcpathbb(nsteps, S0, drift, vol, t) for j in range(npaths)])\n",
    "    return paths"
   ]
  },
  {
   "cell_type": "code",
   "execution_count": 85,
   "metadata": {
    "collapsed": false
   },
   "outputs": [],
   "source": [
    "testpath3=mcpathsbb(5,nst0,S0,r-q,vol,T)"
   ]
  },
  {
   "cell_type": "code",
   "execution_count": 86,
   "metadata": {
    "collapsed": false
   },
   "outputs": [
    {
     "data": {
      "text/html": [
       "<div>\n",
       "<table border=\"1\" class=\"dataframe\">\n",
       "  <thead>\n",
       "    <tr style=\"text-align: right;\">\n",
       "      <th></th>\n",
       "      <th>0.0</th>\n",
       "      <th>0.00390625</th>\n",
       "      <th>0.0078125</th>\n",
       "      <th>0.01171875</th>\n",
       "      <th>0.015625</th>\n",
       "      <th>0.01953125</th>\n",
       "      <th>0.0234375</th>\n",
       "      <th>0.02734375</th>\n",
       "      <th>0.03125</th>\n",
       "      <th>0.03515625</th>\n",
       "      <th>...</th>\n",
       "      <th>0.46484375</th>\n",
       "      <th>0.46875</th>\n",
       "      <th>0.47265625</th>\n",
       "      <th>0.4765625</th>\n",
       "      <th>0.48046875</th>\n",
       "      <th>0.484375</th>\n",
       "      <th>0.48828125</th>\n",
       "      <th>0.4921875</th>\n",
       "      <th>0.49609375</th>\n",
       "      <th>0.5</th>\n",
       "    </tr>\n",
       "  </thead>\n",
       "  <tbody>\n",
       "    <tr>\n",
       "      <th>0</th>\n",
       "      <td>100.0</td>\n",
       "      <td>102.031961</td>\n",
       "      <td>102.475542</td>\n",
       "      <td>101.564126</td>\n",
       "      <td>103.204276</td>\n",
       "      <td>102.398652</td>\n",
       "      <td>102.221632</td>\n",
       "      <td>104.144931</td>\n",
       "      <td>104.302586</td>\n",
       "      <td>102.011446</td>\n",
       "      <td>...</td>\n",
       "      <td>101.295129</td>\n",
       "      <td>99.896433</td>\n",
       "      <td>99.245774</td>\n",
       "      <td>98.112819</td>\n",
       "      <td>96.942139</td>\n",
       "      <td>94.694026</td>\n",
       "      <td>94.307776</td>\n",
       "      <td>94.078153</td>\n",
       "      <td>94.444615</td>\n",
       "      <td>95.028141</td>\n",
       "    </tr>\n",
       "    <tr>\n",
       "      <th>1</th>\n",
       "      <td>100.0</td>\n",
       "      <td>99.715186</td>\n",
       "      <td>99.327607</td>\n",
       "      <td>99.334486</td>\n",
       "      <td>98.882453</td>\n",
       "      <td>98.923332</td>\n",
       "      <td>98.939100</td>\n",
       "      <td>96.624666</td>\n",
       "      <td>95.764343</td>\n",
       "      <td>94.613900</td>\n",
       "      <td>...</td>\n",
       "      <td>89.056132</td>\n",
       "      <td>90.561294</td>\n",
       "      <td>88.037032</td>\n",
       "      <td>88.168933</td>\n",
       "      <td>86.719263</td>\n",
       "      <td>86.131429</td>\n",
       "      <td>87.235006</td>\n",
       "      <td>87.058180</td>\n",
       "      <td>86.812673</td>\n",
       "      <td>87.911659</td>\n",
       "    </tr>\n",
       "    <tr>\n",
       "      <th>2</th>\n",
       "      <td>100.0</td>\n",
       "      <td>100.910050</td>\n",
       "      <td>100.255902</td>\n",
       "      <td>100.633641</td>\n",
       "      <td>98.286163</td>\n",
       "      <td>96.983374</td>\n",
       "      <td>95.549196</td>\n",
       "      <td>94.156600</td>\n",
       "      <td>93.928782</td>\n",
       "      <td>94.108558</td>\n",
       "      <td>...</td>\n",
       "      <td>142.524027</td>\n",
       "      <td>142.257554</td>\n",
       "      <td>141.669252</td>\n",
       "      <td>141.532674</td>\n",
       "      <td>142.848434</td>\n",
       "      <td>145.257688</td>\n",
       "      <td>145.883138</td>\n",
       "      <td>145.571458</td>\n",
       "      <td>144.693966</td>\n",
       "      <td>147.603134</td>\n",
       "    </tr>\n",
       "    <tr>\n",
       "      <th>3</th>\n",
       "      <td>100.0</td>\n",
       "      <td>98.504543</td>\n",
       "      <td>101.802863</td>\n",
       "      <td>104.138034</td>\n",
       "      <td>104.640948</td>\n",
       "      <td>103.643624</td>\n",
       "      <td>102.397325</td>\n",
       "      <td>102.076442</td>\n",
       "      <td>101.667105</td>\n",
       "      <td>101.469354</td>\n",
       "      <td>...</td>\n",
       "      <td>103.163555</td>\n",
       "      <td>104.674433</td>\n",
       "      <td>106.225994</td>\n",
       "      <td>105.965814</td>\n",
       "      <td>107.328651</td>\n",
       "      <td>109.452909</td>\n",
       "      <td>108.285605</td>\n",
       "      <td>109.669523</td>\n",
       "      <td>108.431641</td>\n",
       "      <td>109.170160</td>\n",
       "    </tr>\n",
       "    <tr>\n",
       "      <th>4</th>\n",
       "      <td>100.0</td>\n",
       "      <td>99.703887</td>\n",
       "      <td>98.637641</td>\n",
       "      <td>97.798491</td>\n",
       "      <td>98.821811</td>\n",
       "      <td>98.962424</td>\n",
       "      <td>99.303861</td>\n",
       "      <td>100.501688</td>\n",
       "      <td>100.482740</td>\n",
       "      <td>101.574567</td>\n",
       "      <td>...</td>\n",
       "      <td>110.519869</td>\n",
       "      <td>109.866587</td>\n",
       "      <td>110.053404</td>\n",
       "      <td>110.208282</td>\n",
       "      <td>109.879421</td>\n",
       "      <td>110.673772</td>\n",
       "      <td>110.869953</td>\n",
       "      <td>109.705768</td>\n",
       "      <td>108.727519</td>\n",
       "      <td>109.332336</td>\n",
       "    </tr>\n",
       "  </tbody>\n",
       "</table>\n",
       "<p>5 rows × 129 columns</p>\n",
       "</div>"
      ],
      "text/plain": [
       "   0.000000    0.003906    0.007812    0.011719    0.015625    0.019531  \\\n",
       "0     100.0  102.031961  102.475542  101.564126  103.204276  102.398652   \n",
       "1     100.0   99.715186   99.327607   99.334486   98.882453   98.923332   \n",
       "2     100.0  100.910050  100.255902  100.633641   98.286163   96.983374   \n",
       "3     100.0   98.504543  101.802863  104.138034  104.640948  103.643624   \n",
       "4     100.0   99.703887   98.637641   97.798491   98.821811   98.962424   \n",
       "\n",
       "     0.023438    0.027344    0.031250    0.035156     ...        0.464844  \\\n",
       "0  102.221632  104.144931  104.302586  102.011446     ...      101.295129   \n",
       "1   98.939100   96.624666   95.764343   94.613900     ...       89.056132   \n",
       "2   95.549196   94.156600   93.928782   94.108558     ...      142.524027   \n",
       "3  102.397325  102.076442  101.667105  101.469354     ...      103.163555   \n",
       "4   99.303861  100.501688  100.482740  101.574567     ...      110.519869   \n",
       "\n",
       "     0.468750    0.472656    0.476562    0.480469    0.484375    0.488281  \\\n",
       "0   99.896433   99.245774   98.112819   96.942139   94.694026   94.307776   \n",
       "1   90.561294   88.037032   88.168933   86.719263   86.131429   87.235006   \n",
       "2  142.257554  141.669252  141.532674  142.848434  145.257688  145.883138   \n",
       "3  104.674433  106.225994  105.965814  107.328651  109.452909  108.285605   \n",
       "4  109.866587  110.053404  110.208282  109.879421  110.673772  110.869953   \n",
       "\n",
       "     0.492188    0.496094    0.500000  \n",
       "0   94.078153   94.444615   95.028141  \n",
       "1   87.058180   86.812673   87.911659  \n",
       "2  145.571458  144.693966  147.603134  \n",
       "3  109.669523  108.431641  109.170160  \n",
       "4  109.705768  108.727519  109.332336  \n",
       "\n",
       "[5 rows x 129 columns]"
      ]
     },
     "execution_count": 86,
     "metadata": {},
     "output_type": "execute_result"
    }
   ],
   "source": [
    "testpath3"
   ]
  },
  {
   "cell_type": "code",
   "execution_count": 87,
   "metadata": {
    "collapsed": false
   },
   "outputs": [
    {
     "data": {
      "text/plain": [
       "<matplotlib.axes._subplots.AxesSubplot at 0x1222bfc18>"
      ]
     },
     "execution_count": 87,
     "metadata": {},
     "output_type": "execute_result"
    },
    {
     "data": {
      "image/png": "[encoded data removed]",
      "text/plain": [
       "<matplotlib.figure.Figure at 0x122449400>"
      ]
     },
     "metadata": {},
     "output_type": "display_data"
    }
   ],
   "source": [
    "testpath3.transpose().plot()"
   ]
  },
  {
   "cell_type": "code",
   "execution_count": 88,
   "metadata": {
    "collapsed": false
   },
   "outputs": [],
   "source": [
    "testpath4=mcpathsbb(npth,1,S0,r-q,vol,T)"
   ]
  },
  {
   "cell_type": "code",
   "execution_count": 89,
   "metadata": {
    "collapsed": false
   },
   "outputs": [
    {
     "data": {
      "text/plain": [
       "[100.0, 100.06995872946752]"
      ]
     },
     "execution_count": 89,
     "metadata": {},
     "output_type": "execute_result"
    }
   ],
   "source": [
    "[100*np.exp((r-q)*T),(testpath4.transpose()).iloc[1].mean()]"
   ]
  },
  {
   "cell_type": "code",
   "execution_count": 90,
   "metadata": {
    "collapsed": true
   },
   "outputs": [],
   "source": [
    "putpocalc2=np.maximum((K-(testpath4.transpose()).iloc[1]),0).mean()\n",
    "callpocalc2=np.maximum(((testpath4.transpose()-K).iloc[1]),0).mean()"
   ]
  },
  {
   "cell_type": "code",
   "execution_count": 91,
   "metadata": {
    "collapsed": false
   },
   "outputs": [
    {
     "data": {
      "text/plain": [
       "[5.6371977797016655, 5.603323466940429]"
      ]
     },
     "execution_count": 91,
     "metadata": {},
     "output_type": "execute_result"
    }
   ],
   "source": [
    "[putpr, putpocalc2*np.exp(-r*T)]"
   ]
  },
  {
   "cell_type": "code",
   "execution_count": 92,
   "metadata": {
    "collapsed": false
   },
   "outputs": [
    {
     "data": {
      "text/plain": [
       "[5.6371977797016655, 5.6732821964092475]"
      ]
     },
     "execution_count": 92,
     "metadata": {},
     "output_type": "execute_result"
    }
   ],
   "source": [
    "[callpr, callpocalc2*np.exp(-r*T)]"
   ]
  },
  {
   "cell_type": "code",
   "execution_count": 93,
   "metadata": {
    "collapsed": false
   },
   "outputs": [
    {
     "data": {
      "text/plain": [
       "[5.6371977797016655, 5.6383028316748387]"
      ]
     },
     "execution_count": 93,
     "metadata": {},
     "output_type": "execute_result"
    }
   ],
   "source": [
    "[(putpr+callpr)/2, (putpocalc2+callpocalc2)*np.exp(-r*T)/2]"
   ]
  },
  {
   "cell_type": "code",
   "execution_count": 161,
   "metadata": {
    "collapsed": true
   },
   "outputs": [],
   "source": [
    "testpath5=mcpathsbb(npt2,nstp2,S0,r-q,vol,T)"
   ]
  },
  {
   "cell_type": "code",
   "execution_count": 163,
   "metadata": {
    "collapsed": false
   },
   "outputs": [],
   "source": [
    "hit85BB=np.array(list(map(lambda x: hitbd(x,H),testpath5.values)))"
   ]
  },
  {
   "cell_type": "code",
   "execution_count": 164,
   "metadata": {
    "collapsed": false
   },
   "outputs": [
    {
     "data": {
      "text/plain": [
       "0.25081999999999999"
      ]
     },
     "execution_count": 164,
     "metadata": {},
     "output_type": "execute_result"
    }
   ],
   "source": [
    "hit85BB.mean()"
   ]
  },
  {
   "cell_type": "code",
   "execution_count": 165,
   "metadata": {
    "collapsed": false
   },
   "outputs": [],
   "source": [
    "hit85BBroll=hit85BB.cumsum()/np.array(np.arange(1,npt2+1))"
   ]
  },
  {
   "cell_type": "code",
   "execution_count": 166,
   "metadata": {
    "collapsed": false
   },
   "outputs": [],
   "source": [
    "putpo85BB=np.maximum((K-(testpath5.transpose()).iloc[nstp2]),0)"
   ]
  },
  {
   "cell_type": "code",
   "execution_count": 167,
   "metadata": {
    "collapsed": true
   },
   "outputs": [],
   "source": [
    "po85BB=((1-hit85BB)*putpo85BB).mean()"
   ]
  },
  {
   "cell_type": "code",
   "execution_count": 168,
   "metadata": {
    "collapsed": true
   },
   "outputs": [],
   "source": [
    "pr85BB=po85BB*np.exp(-r*T)"
   ]
  },
  {
   "cell_type": "code",
   "execution_count": 170,
   "metadata": {
    "collapsed": false
   },
   "outputs": [
    {
     "data": {
      "text/plain": [
       "[1.6966492707420358, 1.6819333671597994, 1.6964612611051675]"
      ]
     },
     "execution_count": 170,
     "metadata": {},
     "output_type": "execute_result"
    }
   ],
   "source": [
    "[putKOprcc,pr85,pr85BB]"
   ]
  },
  {
   "cell_type": "markdown",
   "metadata": {},
   "source": [
    "Checking the convergence:"
   ]
  },
  {
   "cell_type": "code",
   "execution_count": 169,
   "metadata": {
    "collapsed": false
   },
   "outputs": [],
   "source": [
    "pr85BBroll=(((1-hit85BB)*putpo85BB)*np.exp(-r*T)).cumsum()/np.array(np.arange(1,npt2+1))"
   ]
  },
  {
   "cell_type": "code",
   "execution_count": 172,
   "metadata": {
    "collapsed": false
   },
   "outputs": [
    {
     "data": {
      "text/plain": [
       "<matplotlib.axes._subplots.AxesSubplot at 0x16e3d0f60>"
      ]
     },
     "execution_count": 172,
     "metadata": {},
     "output_type": "execute_result"
    },
    {
     "data": {
      "image/png": "[encoded data removed]",
      "text/plain": [
       "<matplotlib.figure.Figure at 0x16e3c0780>"
      ]
     },
     "metadata": {},
     "output_type": "display_data"
    }
   ],
   "source": [
    "ax1,ax2,ay1,ay2 = plt.axis()\n",
    "plt.axis((ax1,ax2,putKOprcc-0.25,putKOprcc+0.25))\n",
    "plt.axhline(putKOprcc, color='grey')\n",
    "plt.xlabel('# of paths')\n",
    "plt.ylabel('Premium values')\n",
    "pd.Series(pr85BBroll).plot()"
   ]
  },
  {
   "cell_type": "code",
   "execution_count": 173,
   "metadata": {
    "collapsed": false
   },
   "outputs": [
    {
     "data": {
      "text/plain": [
       "<matplotlib.axes._subplots.AxesSubplot at 0x16e360630>"
      ]
     },
     "execution_count": 173,
     "metadata": {},
     "output_type": "execute_result"
    },
    {
     "data": {
      "image/png": "[encoded data removed]",
      "text/plain": [
       "<matplotlib.figure.Figure at 0x16e70d400>"
      ]
     },
     "metadata": {},
     "output_type": "display_data"
    }
   ],
   "source": [
    "ax1,ax2,ay1,ay2 = plt.axis()\n",
    "plt.axis((ax1,ax2,0.2,0.3))\n",
    "plt.axhline(ph85cc, color='grey')\n",
    "plt.xlabel('# of paths')\n",
    "plt.ylabel('Hit probability')\n",
    "pd.Series(hit85BBroll).plot()"
   ]
  },
  {
   "cell_type": "markdown",
   "metadata": {},
   "source": [
    "## Controling the Brownian Bridges"
   ]
  },
  {
   "cell_type": "markdown",
   "metadata": {},
   "source": [
    "    One new point ( S(T) ) and one new interval ( S(0)->S(T) ) is defined\n",
    "    \n",
    "    The payoff is calculated using S(T)\n",
    "    \n",
    "    For each new point S(t) check if the barrier is hit ( S(t) <= H )\n",
    "    If the barrier is hit:\n",
    "        Payoff = 0\n",
    "        Stop path generation\n",
    "    \n",
    "    If barrier was not hit for the new points S(t):\n",
    "        Calculate the probability of hitting the barrier at the midpoint of each interval defined by these new S(t)\n",
    "        If the probability is lower than a threshold, freeze this interval (i.e. do not subdivide it further)\n",
    "        If the probability is higher than the threshold, generate the midpoint\n",
    "        \n",
    "    Go back to the test S(t) <= H"
   ]
  },
  {
   "cell_type": "markdown",
   "metadata": {},
   "source": [
    "The algorithm above will be run using the logreturns; asset prices will be calculated as necessary"
   ]
  },
  {
   "cell_type": "code",
   "execution_count": 121,
   "metadata": {
    "collapsed": true
   },
   "outputs": [],
   "source": [
    "def prhit(s0,sT,h,vol,dt):\n",
    "    if h<min(s0,sT):\n",
    "        return np.exp((-2*np.log(h/s0)*np.log(h/sT))/(dt*vol**2))\n",
    "    else:\n",
    "        return 1"
   ]
  },
  {
   "cell_type": "code",
   "execution_count": 122,
   "metadata": {
    "collapsed": false
   },
   "outputs": [
    {
     "data": {
      "text/plain": [
       "<matplotlib.axes._subplots.AxesSubplot at 0x12dd052b0>"
      ]
     },
     "execution_count": 122,
     "metadata": {},
     "output_type": "execute_result"
    },
    {
     "data": {
      "image/png": "[encoded data removed]",
      "text/plain": [
       "<matplotlib.figure.Figure at 0x12d6bdf60>"
      ]
     },
     "metadata": {},
     "output_type": "display_data"
    }
   ],
   "source": [
    "pd.Series(np.array([prhit(S0,S0,h,vol,T) for h in np.arange(S0-20,S0)]),index=np.arange(S0-20,S0)).plot()"
   ]
  },
  {
   "cell_type": "code",
   "execution_count": 219,
   "metadata": {
    "collapsed": false
   },
   "outputs": [],
   "source": [
    "def adaptbb(nsteps, S0, K, H, drift, vol, T, alfa, ccf):\n",
    "    m=int(np.log2(nsteps))\n",
    "    h=np.log(H/S0)\n",
    "    # We started with only w0=0\n",
    "    # Now we generate the first point: wT\n",
    "    wT=(drift-(vol**2)/2)*T+np.random.standard_normal()*vol*np.sqrt(T)\n",
    "    # And we calculate the payoff\n",
    "    ST=S0*np.exp(wT)\n",
    "    PO=max(K-ST,0)\n",
    "    # initial values for the answer\n",
    "    tint=np.array([0,T])\n",
    "    wint=np.array([0,wT])\n",
    "    w=pd.Series(wint,index=tint)\n",
    "    # Initial check for the barrier and the counter of the depth of the Brownian Bridge\n",
    "    if (wT<=h):\n",
    "        hit=1\n",
    "        PO=0\n",
    "    else:\n",
    "        hit=0\n",
    "    # Initial value for the counter of the depth of the Brownian Bridge\n",
    "    mc=1\n",
    "    # The lst arrays indicate the last points generated (to check for a barrier hit)\n",
    "    lstt=np.array([T])\n",
    "    lstw=np.array([wT])\n",
    "    # And the lstint arrays indicate the last intervals generated (to calculate the probability in their midpoints)\n",
    "    # These arrays have jx2 dimension, each call retrieves a row with the extremes of the interval\n",
    "    lstintt=np.array([[0,T]])\n",
    "    lstintw=np.array([[0,wT]])\n",
    "    lstintv=S0*np.exp(lstintw)\n",
    "    # We need to check the intervals in the case of no additional points generated\n",
    "    # So we initialize the temporary variable of the new intervals in a different way\n",
    "    loopt=np.array([[1]])\n",
    "    while (hit==0 and mc<=m and np.any(loopt)):\n",
    "        # add inner loop with j over all possible values of lstintt, lstintv and lstintw\n",
    "        loopt=np.array([0])\n",
    "        loopw=np.array([0])\n",
    "        loopintt=np.array([0,0])\n",
    "        loopintw=np.array([0,0])\n",
    "        for j in range(len(lstintt)):\n",
    "            # Adjust barrier in probability calculation\n",
    "            if prhit(lstintv[j][0],lstintv[j][1],H*ccf,vol,lstintt[j][1]-lstintt[j][0])>alfa:\n",
    "                newt=(lstintt[j][0]+lstintt[j][1])/2\n",
    "                newx=bbx(lstintt[j][0],lstintt[j][1],newt,lstintw[j][0],lstintw[j][1],vol)\n",
    "                loopt=np.append(loopt,newt)\n",
    "                loopw=np.append(loopw,newx)\n",
    "                newintt1=np.array([lstintt[j][0],newt])\n",
    "                newintt2=np.array([newt,lstintt[j][1]])\n",
    "                loopintt=np.vstack((loopintt,newintt1,newintt2))\n",
    "                newintw1=np.array([lstintw[j][0],newx])\n",
    "                newintw2=np.array([newx,lstintw[j][1]])\n",
    "                loopintw=np.vstack((loopintw,newintw1,newintw2))\n",
    "                # add to array of new points if prob>alfa\n",
    "        lstt=loopt[1:]\n",
    "        lstw=loopw[1:]\n",
    "        neww=pd.Series(lstw,index=lstt)\n",
    "        w=pd.concat([w,neww]).sort_index()\n",
    "        lstintt=loopintt[1:]\n",
    "        lstintw=loopintw[1:]\n",
    "        lstintv=S0*np.exp(lstintw)\n",
    "        mc=mc+1\n",
    "        # Just check the minimum of lstw, no need to check them all\n",
    "        if np.any(loopt):\n",
    "            if np.amin(lstw)<=h:\n",
    "                hit=1\n",
    "                PO=0\n",
    "    ans1=[S0*np.exp(w),hit,PO]\n",
    "    return ans1"
   ]
  },
  {
   "cell_type": "code",
   "execution_count": 220,
   "metadata": {
    "collapsed": true
   },
   "outputs": [],
   "source": [
    "alfa1=0.01"
   ]
  },
  {
   "cell_type": "code",
   "execution_count": 221,
   "metadata": {
    "collapsed": false
   },
   "outputs": [
    {
     "data": {
      "text/plain": [
       "[[0.0    100.000000\n",
       "  0.5    107.287453\n",
       "  dtype: float64, 0, 0], [0.0    100.000000\n",
       "  0.5     99.445335\n",
       "  dtype: float64, 0, 0.55466488922742485], [0.0    100.000000\n",
       "  0.5    107.310061\n",
       "  dtype: float64, 0, 0], [0.0    100.000000\n",
       "  0.5    107.966239\n",
       "  dtype: float64, 0, 0], [0.0    100.000000\n",
       "  0.5    129.003758\n",
       "  dtype: float64, 0, 0], [0.0    100.000000\n",
       "  0.5     96.709061\n",
       "  dtype: float64, 0, 3.2909386453620471], [0.0    100.000000\n",
       "  0.5     89.392955\n",
       "  dtype: float64, 0, 10.607044535090239], [0.0    100.000000\n",
       "  0.5     93.890877\n",
       "  dtype: float64, 0, 6.1091231214519155], [0.0    100.000000\n",
       "  0.5    103.806792\n",
       "  dtype: float64, 0, 0], [0.0    100.000000\n",
       "  0.5     92.801255\n",
       "  dtype: float64, 0, 7.1987447906962529]]"
      ]
     },
     "execution_count": 221,
     "metadata": {},
     "output_type": "execute_result"
    }
   ],
   "source": [
    "tp1=[adaptbb(1, S0, K, H, r-q, vol, T, alfa1, ccf) for j in range(10)]\n",
    "tp1"
   ]
  },
  {
   "cell_type": "code",
   "execution_count": 222,
   "metadata": {
    "collapsed": false
   },
   "outputs": [
    {
     "data": {
      "text/plain": [
       "[<matplotlib.axes._subplots.AxesSubplot at 0x182047c18>,\n",
       " <matplotlib.axes._subplots.AxesSubplot at 0x182047c18>,\n",
       " <matplotlib.axes._subplots.AxesSubplot at 0x182047c18>,\n",
       " <matplotlib.axes._subplots.AxesSubplot at 0x182047c18>,\n",
       " <matplotlib.axes._subplots.AxesSubplot at 0x182047c18>,\n",
       " <matplotlib.axes._subplots.AxesSubplot at 0x182047c18>,\n",
       " <matplotlib.axes._subplots.AxesSubplot at 0x182047c18>,\n",
       " <matplotlib.axes._subplots.AxesSubplot at 0x182047c18>,\n",
       " <matplotlib.axes._subplots.AxesSubplot at 0x182047c18>,\n",
       " <matplotlib.axes._subplots.AxesSubplot at 0x182047c18>]"
      ]
     },
     "execution_count": 222,
     "metadata": {},
     "output_type": "execute_result"
    },
    {
     "data": {
      "image/png": "[encoded data removed]",
      "text/plain": [
       "<matplotlib.figure.Figure at 0x18284e2e8>"
      ]
     },
     "metadata": {},
     "output_type": "display_data"
    }
   ],
   "source": [
    "[x[0].plot() for x in tp1]"
   ]
  },
  {
   "cell_type": "code",
   "execution_count": 223,
   "metadata": {
    "collapsed": false
   },
   "outputs": [
    {
     "data": {
      "text/plain": [
       "[[0.0    100.000000\n",
       "  0.5    116.341754\n",
       "  dtype: float64, 0, 0], [0.0    100.000000\n",
       "  0.5    115.305532\n",
       "  dtype: float64, 0, 0], [0.00    100.00000\n",
       "  0.25     86.34946\n",
       "  0.50     94.76629\n",
       "  dtype: float64, 0, 5.2337096574579789], [0.00    100.000000\n",
       "  0.25     94.423574\n",
       "  0.50    106.904257\n",
       "  dtype: float64, 0, 0], [0.00    100.000000\n",
       "  0.25     96.346576\n",
       "  0.50     92.728942\n",
       "  dtype: float64, 0, 7.2710583756625482]]"
      ]
     },
     "execution_count": 223,
     "metadata": {},
     "output_type": "execute_result"
    }
   ],
   "source": [
    "tp2=[adaptbb(2, S0, K, H, r-q, vol, T, alfa1, ccf) for j in range(5)]\n",
    "tp2"
   ]
  },
  {
   "cell_type": "code",
   "execution_count": 224,
   "metadata": {
    "collapsed": false
   },
   "outputs": [
    {
     "data": {
      "text/plain": [
       "[<matplotlib.axes._subplots.AxesSubplot at 0x181781748>,\n",
       " <matplotlib.axes._subplots.AxesSubplot at 0x181781748>,\n",
       " <matplotlib.axes._subplots.AxesSubplot at 0x181781748>,\n",
       " <matplotlib.axes._subplots.AxesSubplot at 0x181781748>,\n",
       " <matplotlib.axes._subplots.AxesSubplot at 0x181781748>]"
      ]
     },
     "execution_count": 224,
     "metadata": {},
     "output_type": "execute_result"
    },
    {
     "data": {
      "image/png": "[encoded data removed]",
      "text/plain": [
       "<matplotlib.figure.Figure at 0x18285f978>"
      ]
     },
     "metadata": {},
     "output_type": "display_data"
    }
   ],
   "source": [
    "[x[0].plot() for x in tp2]"
   ]
  },
  {
   "cell_type": "code",
   "execution_count": 225,
   "metadata": {
    "collapsed": false
   },
   "outputs": [
    {
     "data": {
      "text/plain": [
       "[[0.0    100.000000\n",
       "  0.5    113.371211\n",
       "  dtype: float64, 0, 0], [0.000    100.000000\n",
       "  0.250     97.880875\n",
       "  0.375     87.998671\n",
       "  0.500     92.231707\n",
       "  dtype: float64, 0, 7.7682934239888084], [0.0    100.000000\n",
       "  0.5     83.480791\n",
       "  dtype: float64, 1, 0], [0.00    100.000000\n",
       "  0.25    103.895006\n",
       "  0.50    100.360556\n",
       "  dtype: float64, 0, 0], [0.00    100.000000\n",
       "  0.25     96.931824\n",
       "  0.50     99.906048\n",
       "  dtype: float64, 0, 0.093951844155810704], [0.0    100.00000\n",
       "  0.5    119.62378\n",
       "  dtype: float64, 0, 0], [0.0    100.000000\n",
       "  0.5    113.100804\n",
       "  dtype: float64, 0, 0], [0.0    100.000000\n",
       "  0.5    119.713693\n",
       "  dtype: float64, 0, 0], [0.0    100.000000\n",
       "  0.5    113.573365\n",
       "  dtype: float64, 0, 0], [0.000    100.000000\n",
       "  0.125     99.639064\n",
       "  0.250     95.132232\n",
       "  0.375     92.089316\n",
       "  0.500     86.009121\n",
       "  dtype: float64, 0, 13.990879178839549]]"
      ]
     },
     "execution_count": 225,
     "metadata": {},
     "output_type": "execute_result"
    }
   ],
   "source": [
    "tp3=[adaptbb(4, S0, K, H, r-q, vol, T, alfa1, ccf) for j in range(10)]\n",
    "tp3"
   ]
  },
  {
   "cell_type": "code",
   "execution_count": 226,
   "metadata": {
    "collapsed": false
   },
   "outputs": [
    {
     "data": {
      "text/plain": [
       "[<matplotlib.axes._subplots.AxesSubplot at 0x18170cba8>,\n",
       " <matplotlib.axes._subplots.AxesSubplot at 0x18170cba8>,\n",
       " <matplotlib.axes._subplots.AxesSubplot at 0x18170cba8>,\n",
       " <matplotlib.axes._subplots.AxesSubplot at 0x18170cba8>,\n",
       " <matplotlib.axes._subplots.AxesSubplot at 0x18170cba8>,\n",
       " <matplotlib.axes._subplots.AxesSubplot at 0x18170cba8>,\n",
       " <matplotlib.axes._subplots.AxesSubplot at 0x18170cba8>,\n",
       " <matplotlib.axes._subplots.AxesSubplot at 0x18170cba8>,\n",
       " <matplotlib.axes._subplots.AxesSubplot at 0x18170cba8>,\n",
       " <matplotlib.axes._subplots.AxesSubplot at 0x18170cba8>]"
      ]
     },
     "execution_count": 226,
     "metadata": {},
     "output_type": "execute_result"
    },
    {
     "data": {
      "image/png": "[encoded data removed]",
      "text/plain": [
       "<matplotlib.figure.Figure at 0x1816b12e8>"
      ]
     },
     "metadata": {},
     "output_type": "display_data"
    }
   ],
   "source": [
    "[x[0].plot() for x in tp3]"
   ]
  },
  {
   "cell_type": "code",
   "execution_count": 227,
   "metadata": {
    "collapsed": false
   },
   "outputs": [
    {
     "data": {
      "text/plain": [
       "[[0.0000    100.000000\n",
       "  0.1250     95.735746\n",
       "  0.2500     95.223692\n",
       "  0.3125     88.932641\n",
       "  0.3750     89.136686\n",
       "  0.4375     90.828419\n",
       "  0.5000     94.518464\n",
       "  dtype: float64, 0, 5.4815359817173714], [0.0000    100.000000\n",
       "  0.1250     96.537411\n",
       "  0.2500     93.336817\n",
       "  0.3125     91.542376\n",
       "  0.3750     88.408757\n",
       "  0.4375     89.155428\n",
       "  0.5000     89.455643\n",
       "  dtype: float64, 0, 10.544357461444193], [0.0    100.000000\n",
       "  0.5     83.165641\n",
       "  dtype: float64, 1, 0], [0.000    100.000000\n",
       "  0.250    108.169617\n",
       "  0.375    103.434581\n",
       "  0.500     91.198166\n",
       "  dtype: float64, 0, 8.8018335528057605], [0.00    100.00000\n",
       "  0.25    100.79801\n",
       "  0.50     99.95929\n",
       "  dtype: float64, 0, 0.040709510141326177], [0.0    100.000000\n",
       "  0.5    111.563479\n",
       "  dtype: float64, 0, 0], [0.0000    100.000000\n",
       "  0.2500     99.458257\n",
       "  0.3750     94.752673\n",
       "  0.4375     91.765921\n",
       "  0.5000     90.490160\n",
       "  dtype: float64, 0, 9.5098404381516417], [0.0000    100.000000\n",
       "  0.1250     92.766115\n",
       "  0.1875     90.198080\n",
       "  0.2500     90.803775\n",
       "  0.3125     90.308322\n",
       "  0.3750     94.770650\n",
       "  0.4375     94.943208\n",
       "  0.5000     90.520438\n",
       "  dtype: float64, 0, 9.4795615575342396], [0.000    100.000000\n",
       "  0.125     98.773144\n",
       "  0.250     96.476873\n",
       "  0.500    102.685437\n",
       "  dtype: float64, 0, 0], [0.00    100.000000\n",
       "  0.25    106.126033\n",
       "  0.50    105.810722\n",
       "  dtype: float64, 0, 0]]"
      ]
     },
     "execution_count": 227,
     "metadata": {},
     "output_type": "execute_result"
    }
   ],
   "source": [
    "tp4=[adaptbb(8, S0, K, H, r-q, vol, T, alfa1, ccf) for j in range(10)]\n",
    "tp4"
   ]
  },
  {
   "cell_type": "code",
   "execution_count": 228,
   "metadata": {
    "collapsed": false
   },
   "outputs": [
    {
     "data": {
      "text/plain": [
       "[<matplotlib.axes._subplots.AxesSubplot at 0x18153f668>,\n",
       " <matplotlib.axes._subplots.AxesSubplot at 0x18153f668>,\n",
       " <matplotlib.axes._subplots.AxesSubplot at 0x18153f668>,\n",
       " <matplotlib.axes._subplots.AxesSubplot at 0x18153f668>,\n",
       " <matplotlib.axes._subplots.AxesSubplot at 0x18153f668>,\n",
       " <matplotlib.axes._subplots.AxesSubplot at 0x18153f668>,\n",
       " <matplotlib.axes._subplots.AxesSubplot at 0x18153f668>,\n",
       " <matplotlib.axes._subplots.AxesSubplot at 0x18153f668>,\n",
       " <matplotlib.axes._subplots.AxesSubplot at 0x18153f668>,\n",
       " <matplotlib.axes._subplots.AxesSubplot at 0x18153f668>]"
      ]
     },
     "execution_count": 228,
     "metadata": {},
     "output_type": "execute_result"
    },
    {
     "data": {
      "image/png": "[encoded data removed]",
      "text/plain": [
       "<matplotlib.figure.Figure at 0x181634f98>"
      ]
     },
     "metadata": {},
     "output_type": "display_data"
    }
   ],
   "source": [
    "[x[0].plot() for x in tp4]"
   ]
  },
  {
   "cell_type": "markdown",
   "metadata": {},
   "source": [
    "### Checking the results"
   ]
  },
  {
   "cell_type": "code",
   "execution_count": 229,
   "metadata": {
    "collapsed": true
   },
   "outputs": [],
   "source": [
    "def checkpath(x, H):\n",
    "    if np.amin(x)<=H:\n",
    "        return 1\n",
    "    else:\n",
    "        return 0"
   ]
  },
  {
   "cell_type": "code",
   "execution_count": 230,
   "metadata": {
    "collapsed": false
   },
   "outputs": [],
   "source": [
    "adappathsplus1=[adaptbb(nst0, S0, K, H, r-q, vol, T, alfa1, ccf) for j in range(npth)]"
   ]
  },
  {
   "cell_type": "code",
   "execution_count": 231,
   "metadata": {
    "collapsed": false
   },
   "outputs": [],
   "source": [
    "adappaths1=[x[0] for x in adappathsplus1]\n",
    "adaphits1=np.array([x[1] for x in adappathsplus1])\n",
    "adapPOs1=np.array([x[2] for x in adappathsplus1])"
   ]
  },
  {
   "cell_type": "code",
   "execution_count": 232,
   "metadata": {
    "collapsed": false
   },
   "outputs": [
    {
     "data": {
      "text/plain": [
       "228097"
      ]
     },
     "execution_count": 232,
     "metadata": {},
     "output_type": "execute_result"
    }
   ],
   "source": [
    "adapsize1=np.sum([len(x) for x in adappaths1])\n",
    "adapsize1"
   ]
  },
  {
   "cell_type": "code",
   "execution_count": 233,
   "metadata": {
    "collapsed": false
   },
   "outputs": [
    {
     "data": {
      "text/plain": [
       "<matplotlib.axes._subplots.AxesSubplot at 0x1440bae80>"
      ]
     },
     "execution_count": 233,
     "metadata": {},
     "output_type": "execute_result"
    },
    {
     "data": {
      "image/png": "[encoded data removed]",
      "text/plain": [
       "<matplotlib.figure.Figure at 0x17925c780>"
      ]
     },
     "metadata": {},
     "output_type": "display_data"
    }
   ],
   "source": [
    "adapsize1all=pd.Series(np.array([len(x) for x in adappaths1]))\n",
    "adapsize1all.hist(bins=60)"
   ]
  },
  {
   "cell_type": "code",
   "execution_count": 234,
   "metadata": {
    "collapsed": false
   },
   "outputs": [],
   "source": [
    "adapmin1=np.array([checkpath(x, H) for x in adappaths1])"
   ]
  },
  {
   "cell_type": "code",
   "execution_count": 235,
   "metadata": {
    "collapsed": false
   },
   "outputs": [
    {
     "data": {
      "text/plain": [
       "False"
      ]
     },
     "execution_count": 235,
     "metadata": {},
     "output_type": "execute_result"
    }
   ],
   "source": [
    "np.any(adapmin1-adaphits1)"
   ]
  },
  {
   "cell_type": "code",
   "execution_count": 236,
   "metadata": {
    "collapsed": false
   },
   "outputs": [
    {
     "data": {
      "text/plain": [
       "[0.24709999999999999, 0.24709999999999999]"
      ]
     },
     "execution_count": 236,
     "metadata": {},
     "output_type": "execute_result"
    }
   ],
   "source": [
    "[adapmin1.mean(),adaphits1.mean()]"
   ]
  },
  {
   "cell_type": "code",
   "execution_count": 237,
   "metadata": {
    "collapsed": false
   },
   "outputs": [
    {
     "data": {
      "text/plain": [
       "1.6749513885805296"
      ]
     },
     "execution_count": 237,
     "metadata": {},
     "output_type": "execute_result"
    }
   ],
   "source": [
    "adappr1=(adapPOs1.mean())*np.exp(-r*T)\n",
    "adappr1"
   ]
  },
  {
   "cell_type": "code",
   "execution_count": 238,
   "metadata": {
    "collapsed": false
   },
   "outputs": [],
   "source": [
    "adapPOsroll1=(adapPOs1*np.exp(-r*T)).cumsum()/np.array(np.arange(1,npth+1))"
   ]
  },
  {
   "cell_type": "code",
   "execution_count": 239,
   "metadata": {
    "collapsed": false
   },
   "outputs": [
    {
     "data": {
      "text/plain": [
       "array([ 0.        ,  0.        ,  1.16316077, ...,  1.67501839,\n",
       "        1.67498489,  1.67495139])"
      ]
     },
     "execution_count": 239,
     "metadata": {},
     "output_type": "execute_result"
    }
   ],
   "source": [
    "adapPOsroll1"
   ]
  },
  {
   "cell_type": "code",
   "execution_count": 255,
   "metadata": {
    "collapsed": true
   },
   "outputs": [],
   "source": [
    "alfa2=0.001"
   ]
  },
  {
   "cell_type": "code",
   "execution_count": 256,
   "metadata": {
    "collapsed": false
   },
   "outputs": [],
   "source": [
    "adappathsplus2=[adaptbb(nst0, S0, K, H, r-q, vol, T, alfa2, ccf) for j in range(npth)]"
   ]
  },
  {
   "cell_type": "code",
   "execution_count": 257,
   "metadata": {
    "collapsed": false
   },
   "outputs": [],
   "source": [
    "adappaths2=[x[0] for x in adappathsplus2]\n",
    "adaphits2=np.array([x[1] for x in adappathsplus2])\n",
    "adapPOs2=np.array([x[2] for x in adappathsplus2])"
   ]
  },
  {
   "cell_type": "code",
   "execution_count": 258,
   "metadata": {
    "collapsed": false
   },
   "outputs": [
    {
     "data": {
      "text/plain": [
       "307195"
      ]
     },
     "execution_count": 258,
     "metadata": {},
     "output_type": "execute_result"
    }
   ],
   "source": [
    "adapsize2=np.sum([len(x) for x in adappaths2])\n",
    "adapsize2"
   ]
  },
  {
   "cell_type": "code",
   "execution_count": 259,
   "metadata": {
    "collapsed": false
   },
   "outputs": [
    {
     "data": {
      "text/plain": [
       "0.25262000000000001"
      ]
     },
     "execution_count": 259,
     "metadata": {},
     "output_type": "execute_result"
    }
   ],
   "source": [
    "adaphits2.mean()"
   ]
  },
  {
   "cell_type": "code",
   "execution_count": 260,
   "metadata": {
    "collapsed": false
   },
   "outputs": [
    {
     "data": {
      "text/plain": [
       "1.6954605562007719"
      ]
     },
     "execution_count": 260,
     "metadata": {},
     "output_type": "execute_result"
    }
   ],
   "source": [
    "adappr2=(adapPOs2.mean())*np.exp(-r*T)\n",
    "adappr2"
   ]
  },
  {
   "cell_type": "code",
   "execution_count": 261,
   "metadata": {
    "collapsed": false
   },
   "outputs": [],
   "source": [
    "adapPOsroll2=(adapPOs2*np.exp(-r*T)).cumsum()/np.array(np.arange(1,npth+1))"
   ]
  },
  {
   "cell_type": "code",
   "execution_count": 262,
   "metadata": {
    "collapsed": true
   },
   "outputs": [],
   "source": [
    "alfa3=0.0001"
   ]
  },
  {
   "cell_type": "code",
   "execution_count": 263,
   "metadata": {
    "collapsed": false
   },
   "outputs": [],
   "source": [
    "adappathsplus3=[adaptbb(nst0, S0, K, H, r-q, vol, T, alfa3, ccf) for j in range(npth)]"
   ]
  },
  {
   "cell_type": "code",
   "execution_count": 264,
   "metadata": {
    "collapsed": false
   },
   "outputs": [],
   "source": [
    "adappaths3=[x[0] for x in adappathsplus3]\n",
    "adaphits3=np.array([x[1] for x in adappathsplus3])\n",
    "adapPOs3=np.array([x[2] for x in adappathsplus3])"
   ]
  },
  {
   "cell_type": "code",
   "execution_count": 265,
   "metadata": {
    "collapsed": false
   },
   "outputs": [
    {
     "data": {
      "text/plain": [
       "376428"
      ]
     },
     "execution_count": 265,
     "metadata": {},
     "output_type": "execute_result"
    }
   ],
   "source": [
    "adapsize3=np.sum([len(x) for x in adappaths3])\n",
    "adapsize3"
   ]
  },
  {
   "cell_type": "code",
   "execution_count": 266,
   "metadata": {
    "collapsed": false
   },
   "outputs": [
    {
     "data": {
      "text/plain": [
       "0.25113999999999997"
      ]
     },
     "execution_count": 266,
     "metadata": {},
     "output_type": "execute_result"
    }
   ],
   "source": [
    "adaphits3.mean()"
   ]
  },
  {
   "cell_type": "code",
   "execution_count": 267,
   "metadata": {
    "collapsed": false
   },
   "outputs": [
    {
     "data": {
      "text/plain": [
       "1.696825097480368"
      ]
     },
     "execution_count": 267,
     "metadata": {},
     "output_type": "execute_result"
    }
   ],
   "source": [
    "adappr3=(adapPOs3.mean())*np.exp(-r*T)\n",
    "adappr3"
   ]
  },
  {
   "cell_type": "code",
   "execution_count": 269,
   "metadata": {
    "collapsed": false
   },
   "outputs": [],
   "source": [
    "adapPOsroll3=(adapPOs3*np.exp(-r*T)).cumsum()/np.array(np.arange(1,npth+1))"
   ]
  },
  {
   "cell_type": "markdown",
   "metadata": {},
   "source": [
    "### Convergence analysis"
   ]
  },
  {
   "cell_type": "code",
   "execution_count": 270,
   "metadata": {
    "collapsed": false
   },
   "outputs": [],
   "source": [
    "dfroll=pd.DataFrame({\"MC\":pr85roll,\"BB0\":pr85BBroll,\"BB1\":adapPOsroll1,\"BB2\":adapPOsroll2,\"BB3\":adapPOsroll3})"
   ]
  },
  {
   "cell_type": "code",
   "execution_count": 274,
   "metadata": {
    "collapsed": false
   },
   "outputs": [
    {
     "data": {
      "text/plain": [
       "<matplotlib.text.Text at 0x123535eb8>"
      ]
     },
     "execution_count": 274,
     "metadata": {},
     "output_type": "execute_result"
    },
    {
     "data": {
      "image/png": "[encoded data removed]",
      "text/plain": [
       "<matplotlib.figure.Figure at 0x12d6d2f98>"
      ]
     },
     "metadata": {},
     "output_type": "display_data"
    }
   ],
   "source": [
    "chrt1=dfroll.plot(ylim=[putKOprcc-0.25,putKOprcc+0.25],figsize=(10,8))\n",
    "plt.axhline(putKOprcc, color='grey')\n",
    "chrt1.set_xlabel('# of paths')\n",
    "chrt1.set_ylabel('Premium values')"
   ]
  },
  {
   "cell_type": "markdown",
   "metadata": {
    "collapsed": true
   },
   "source": [
    "## Table 1: Comparison of the number of points, calculated values and frequency of barrier hits"
   ]
  },
  {
   "cell_type": "code",
   "execution_count": 275,
   "metadata": {
    "collapsed": false
   },
   "outputs": [
    {
     "data": {
      "text/html": [
       "<div>\n",
       "<table border=\"1\" class=\"dataframe\">\n",
       "  <thead>\n",
       "    <tr style=\"text-align: right;\">\n",
       "      <th></th>\n",
       "      <th>Number of points (millions)</th>\n",
       "      <th>RKO premium</th>\n",
       "      <th>Barrier hits</th>\n",
       "    </tr>\n",
       "    <tr>\n",
       "      <th>Method</th>\n",
       "      <th></th>\n",
       "      <th></th>\n",
       "      <th></th>\n",
       "    </tr>\n",
       "  </thead>\n",
       "  <tbody>\n",
       "    <tr>\n",
       "      <th>Formula</th>\n",
       "      <td>NaN</td>\n",
       "      <td>1.69665</td>\n",
       "      <td>0.24988</td>\n",
       "    </tr>\n",
       "    <tr>\n",
       "      <th>MC</th>\n",
       "      <td>6.45</td>\n",
       "      <td>1.68193</td>\n",
       "      <td>0.25452</td>\n",
       "    </tr>\n",
       "    <tr>\n",
       "      <th>AdBB 1%</th>\n",
       "      <td>0.228097</td>\n",
       "      <td>1.67495</td>\n",
       "      <td>0.2471</td>\n",
       "    </tr>\n",
       "    <tr>\n",
       "      <th>AdBB 0.1%</th>\n",
       "      <td>0.307195</td>\n",
       "      <td>1.69546</td>\n",
       "      <td>0.25262</td>\n",
       "    </tr>\n",
       "    <tr>\n",
       "      <th>AdBB 0.01%</th>\n",
       "      <td>0.376428</td>\n",
       "      <td>1.69683</td>\n",
       "      <td>0.25114</td>\n",
       "    </tr>\n",
       "  </tbody>\n",
       "</table>\n",
       "</div>"
      ],
      "text/plain": [
       "           Number of points (millions) RKO premium Barrier hits\n",
       "Method                                                         \n",
       "Formula                            NaN     1.69665      0.24988\n",
       "MC                                6.45     1.68193      0.25452\n",
       "AdBB 1%                       0.228097     1.67495       0.2471\n",
       "AdBB 0.1%                     0.307195     1.69546      0.25262\n",
       "AdBB 0.01%                    0.376428     1.69683      0.25114"
      ]
     },
     "execution_count": 275,
     "metadata": {},
     "output_type": "execute_result"
    }
   ],
   "source": [
    "frmsize='NaN'\n",
    "frmpremium=np.round(putKOprcc,5)\n",
    "frmhits=np.round(ph85cc,5)\n",
    "mcsize=(nst0+1)*npth/1e+06\n",
    "mcpremium=pr85\n",
    "mchits=hit85.mean()\n",
    "bbsize1=adapsize1/1e+06\n",
    "bbpremium1=adappr1\n",
    "bbhits1=adaphits1.mean()\n",
    "bbsize2=adapsize2/1e+06\n",
    "bbpremium2=adappr2\n",
    "bbhits2=adaphits2.mean()\n",
    "bbsize3=adapsize3/1e+06\n",
    "bbpremium3=adappr3\n",
    "bbhits3=adaphits3.mean()\n",
    "frmbanumbers=np.array([frmsize,frmpremium,frmhits])\n",
    "mcnumbers=np.array([mcsize,mcpremium,mchits])\n",
    "bbnumbers1=np.array([bbsize1,bbpremium1,bbhits1])\n",
    "bbnumbers2=np.array([bbsize2,bbpremium2,bbhits2])\n",
    "bbnumbers3=np.array([bbsize3,bbpremium3,bbhits3])\n",
    "dfsumm=pd.DataFrame([frmbanumbers,mcnumbers,bbnumbers1,bbnumbers2,bbnumbers3],\\\n",
    "                    index=[\"Formula\",\"MC\",\"AdBB 1%\",\"AdBB 0.1%\",\"AdBB 0.01%\"],\\\n",
    "                    columns=['Number of points (millions)', 'RKO premium', 'Barrier hits'])\n",
    "dfsumm.index.name='Method'\n",
    "dfsumm"
   ]
  },
  {
   "cell_type": "markdown",
   "metadata": {},
   "source": [
    "### Error analysis"
   ]
  },
  {
   "cell_type": "markdown",
   "metadata": {},
   "source": [
    "It seems that using 0.1% of probability cutoff delivers a good enough reduction in points generated with good enough precision."
   ]
  },
  {
   "cell_type": "markdown",
   "metadata": {},
   "source": [
    "## Conclusions"
   ]
  },
  {
   "cell_type": "markdown",
   "metadata": {},
   "source": [
    "  In this exercise we learned:\n",
    "  - How to price an european option with Monte Carlo\n",
    "  - How to price a barrier option with Monte Carlo\n",
    "  - The necessity of the continuity correction\n",
    "  - How to use the Brownian Bridge method to fill a path\n",
    "  - How to use an adaptative Brownian Bridge method to price a barrier option while trying to minimize the number of points generated\n",
    "  \n",
    "  \n",
    "  The algorithm to solve the last problem is interesting, because it forces one to think about the best way to structure the data in order to use the test conditions."
   ]
  },
  {
   "cell_type": "markdown",
   "metadata": {},
   "source": [
    "## References"
   ]
  },
  {
   "cell_type": "markdown",
   "metadata": {},
   "source": [
    "1. \"The Complete Guide to Option Pricing Formulas\", 2nd Edition, by Espen Gaarder Haug, McGrawHill, 2007\n",
    "2. \"Monte Carlo Methods in Financial Engineering\", Paul Glasserman, Springer, 2004\n",
    "3. \"A Continuity Correction for Discrete barrier Options\", Mark Braodie, Paul Glasserman, Steven Kou, Mathematical Finance, Vol. 7, No. 4, October 1997)\n",
    "4. \"Financial Engineering and Computation: Principles, Mathematics, Algorithms\", Yuh-Dauh Lyuu, Cambridge University Press, 2001"
   ]
  }
 ],
 "metadata": {
  "kernelspec": {
   "display_name": "Python 3",
   "language": "python",
   "name": "python3"
  },
  "language_info": {
   "codemirror_mode": {
    "name": "ipython",
    "version": 3
   },
   "file_extension": ".py",
   "mimetype": "text/x-python",
   "name": "python",
   "nbconvert_exporter": "python",
   "pygments_lexer": "ipython3",
   "version": "3.5.1"
  }
 },
 "nbformat": 4,
 "nbformat_minor": 0
}
