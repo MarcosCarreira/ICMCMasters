{
 "cells": [
  {
   "cell_type": "markdown",
   "metadata": {},
   "source": [
    "# A Brownian Bridge On the RKI: Pricing Barrier Options using Monte Carlo"
   ]
  },
  {
   "cell_type": "markdown",
   "metadata": {},
   "source": [
    "# By: Marcos Costa Santos Carreira"
   ]
  },
  {
   "cell_type": "markdown",
   "metadata": {},
   "source": [
    "# April 2016"
   ]
  },
  {
   "cell_type": "markdown",
   "metadata": {},
   "source": [
    "## Goal: Price a RKO Put and the equivalent RKI Put using Brownian Bridge with the goal of using the lowest number of path points possible (with a reasonable margin of error)"
   ]
  },
  {
   "cell_type": "markdown",
   "metadata": {},
   "source": [
    "## Formulas for pricing barrier options without rebates (Haug):"
   ]
  },
  {
   "cell_type": "markdown",
   "metadata": {},
   "source": [
    "(1) $$ \\mu =\\frac{b-\\frac{\\sigma ^2}{2}}{\\sigma ^2};b=r-q;$$"
   ]
  },
  {
   "cell_type": "markdown",
   "metadata": {},
   "source": [
    "(2) $$ \\lambda =\\sqrt{\\mu ^2+\\frac{2 r}{\\sigma ^2}};$$"
   ]
  },
  {
   "cell_type": "markdown",
   "metadata": {},
   "source": [
    "\"What immortal hand or eye\n",
    "\n",
    "Could frame thy fearful symmetry?\""
   ]
  },
  {
   "cell_type": "markdown",
   "metadata": {},
   "source": [
    "(3) $$ x_1=\\frac{\\log \\left(\\frac{S}{X}\\right)}{\\sigma  \\sqrt{t}}+(1+ \\mu) \\sigma  \\sqrt{t};$$"
   ]
  },
  {
   "cell_type": "markdown",
   "metadata": {},
   "source": [
    "(4) $$ x_2=\\frac{\\log \\left(\\frac{S}{H}\\right)}{\\sigma  \\sqrt{t}}+(1+ \\mu) \\sigma  \\sqrt{t};$$"
   ]
  },
  {
   "cell_type": "markdown",
   "metadata": {},
   "source": [
    "(5) $$ y_1=\\frac{\\log \\left(\\frac{H^2}{S X}\\right)}{\\sigma  \\sqrt{t}}+(1+ \\mu) \\sigma  \\sqrt{t};$$"
   ]
  },
  {
   "cell_type": "markdown",
   "metadata": {},
   "source": [
    "(6) $$ y_2=\\frac{\\log \\left(\\frac{H}{S}\\right)}{\\sigma  \\sqrt{t}}+(1+ \\mu) \\sigma  \\sqrt{t};$$"
   ]
  },
  {
   "cell_type": "markdown",
   "metadata": {},
   "source": [
    "Formula 7 (A) corresponds to the plain vanilla option:"
   ]
  },
  {
   "cell_type": "markdown",
   "metadata": {},
   "source": [
    "(7) $$ A=\\phi S e^{(b-r) t} N  \\left(\\phi x_1 \\right) -\\phi X e^{-r t} N  \\left(\\phi x_1 - \\phi \\sigma  \\sqrt{t}  \\right);$$"
   ]
  },
  {
   "cell_type": "markdown",
   "metadata": {},
   "source": [
    "(8) $$ B=\\phi S e^{(b-r) t} N  \\left(\\phi x_2 \\right) -\\phi X e^{-r t} N  \\left(\\phi x_2 - \\phi \\sigma  \\sqrt{t}  \\right);$$"
   ]
  },
  {
   "cell_type": "markdown",
   "metadata": {},
   "source": [
    "(9) $$ C=\\phi S e^{(b-r) t} \\left(\\frac{H}{S}\\right)^{2 (\\mu +1)} N \\left(\\eta  y_1\\right) -\\phi X  e^{-r t} \\left(\\frac{H}{S}\\right)^{2 \\mu } N \\left(\\eta  y_1-\\eta  \\sigma  \\sqrt{t}\\right);$$"
   ]
  },
  {
   "cell_type": "markdown",
   "metadata": {},
   "source": [
    "(10) $$ D=\\phi S e^{(b-r) t} \\left(\\frac{H}{S}\\right)^{2 (\\mu +1)} N \\left(\\eta  y_2\\right) -\\phi X  e^{-r t} \\left(\\frac{H}{S}\\right)^{2 \\mu } N \\left(\\eta  y_2-\\eta  \\sigma  \\sqrt{t}\\right);$$"
   ]
  },
  {
   "cell_type": "markdown",
   "metadata": {},
   "source": [
    "For a put where H<X and H<S:"
   ]
  },
  {
   "cell_type": "markdown",
   "metadata": {},
   "source": [
    "(11) $$ pKI=B-C+D;$$"
   ]
  },
  {
   "cell_type": "markdown",
   "metadata": {},
   "source": [
    "(12) $$ pKO=A-B+C-D;$$"
   ]
  },
  {
   "cell_type": "markdown",
   "metadata": {},
   "source": [
    "And as expected:"
   ]
  },
  {
   "cell_type": "markdown",
   "metadata": {},
   "source": [
    "(13) $$ p=pKI+pKO=A;$$"
   ]
  },
  {
   "cell_type": "markdown",
   "metadata": {},
   "source": [
    "### Simplifying the formulas for the particular case r=q=b=0:"
   ]
  },
  {
   "cell_type": "markdown",
   "metadata": {},
   "source": [
    "(1.b) $$ \\mu =-\\frac{1}{2}$$"
   ]
  },
  {
   "cell_type": "markdown",
   "metadata": {},
   "source": [
    "(2.b) $$ \\lambda =\\frac{1}{2};$$"
   ]
  },
  {
   "cell_type": "markdown",
   "metadata": {},
   "source": [
    "(3.b) $$ x_1=\\frac{\\log \\left(\\frac{S}{X}\\right)}{\\sigma  \\sqrt{t}}+(\\frac{1}{2}) \\sigma  \\sqrt{t};$$"
   ]
  },
  {
   "cell_type": "markdown",
   "metadata": {},
   "source": [
    "(4.b) $$ x_2=\\frac{\\log \\left(\\frac{S}{H}\\right)}{\\sigma  \\sqrt{t}}+(\\frac{1}{2}) \\sigma  \\sqrt{t};$$"
   ]
  },
  {
   "cell_type": "markdown",
   "metadata": {},
   "source": [
    "(5.b) $$ y_1=\\frac{\\log \\left(\\frac{H^2}{S X}\\right)}{\\sigma  \\sqrt{t}}+(\\frac{1}{2}) \\sigma  \\sqrt{t};$$"
   ]
  },
  {
   "cell_type": "markdown",
   "metadata": {},
   "source": [
    "(6.b) $$ y_2=\\frac{\\log \\left(\\frac{H}{S}\\right)}{\\sigma  \\sqrt{t}}+(\\frac{1}{2}) \\sigma  \\sqrt{t};$$"
   ]
  },
  {
   "cell_type": "markdown",
   "metadata": {},
   "source": [
    "(7.b) $$ A=\\phi \\left( S N  \\left(\\phi x_1 \\right) - X N  \\left(\\phi \\left(x_1 - \\sigma  \\sqrt{t} \\right)  \\right)\\right);$$"
   ]
  },
  {
   "cell_type": "markdown",
   "metadata": {},
   "source": [
    "(8.b) $$ B=\\phi \\left( S N  \\left(\\phi x_2 \\right) - X N  \\left(\\phi \\left(x_2 - \\sigma  \\sqrt{t} \\right)  \\right)\\right);$$"
   ]
  },
  {
   "cell_type": "markdown",
   "metadata": {},
   "source": [
    "(9.b) $$ C=\\phi\\left( H N \\left(\\eta  y_1\\right) - \\frac{S X}{H} N \\left(\\eta\\left(  y_1-  \\sigma  \\sqrt{t}\\right)\\right)\\right);$$"
   ]
  },
  {
   "cell_type": "markdown",
   "metadata": {},
   "source": [
    "(10.b) $$ D=\\phi\\left( H N \\left(\\eta  y_2\\right) - \\frac{S X}{H} N \\left(\\eta\\left(  y_2-  \\sigma  \\sqrt{t}\\right)\\right)\\right);$$"
   ]
  },
  {
   "cell_type": "markdown",
   "metadata": {},
   "source": [
    "## Time to start coding"
   ]
  },
  {
   "cell_type": "code",
   "execution_count": 1,
   "metadata": {
    "collapsed": true
   },
   "outputs": [],
   "source": [
    "from __future__ import division"
   ]
  },
  {
   "cell_type": "markdown",
   "metadata": {},
   "source": [
    "Import modules"
   ]
  },
  {
   "cell_type": "code",
   "execution_count": 2,
   "metadata": {
    "collapsed": false
   },
   "outputs": [
    {
     "name": "stderr",
     "output_type": "stream",
     "text": [
      "/Users/marcoscscarreira/Library/Enthought/Canopy_64bit/User/lib/python2.7/site-packages/matplotlib/font_manager.py:273: UserWarning: Matplotlib is building the font cache using fc-list. This may take a moment.\n",
      "  warnings.warn('Matplotlib is building the font cache using fc-list. This may take a moment.')\n"
     ]
    }
   ],
   "source": [
    "import numpy as np\n",
    "import matplotlib.pyplot as plt\n",
    "import pandas as pd\n",
    "import scipy.stats as st"
   ]
  },
  {
   "cell_type": "code",
   "execution_count": 3,
   "metadata": {
    "collapsed": false
   },
   "outputs": [],
   "source": [
    "%matplotlib inline"
   ]
  },
  {
   "cell_type": "markdown",
   "metadata": {},
   "source": [
    "## Defining the Black&Scholes function"
   ]
  },
  {
   "cell_type": "code",
   "execution_count": 4,
   "metadata": {
    "collapsed": true
   },
   "outputs": [],
   "source": [
    "def bsv(phi,S,K,r,q,vol,t):\n",
    "    mu=((r-q)-(vol**2)/2)/(vol**2)\n",
    "    efv=t*(vol**2)\n",
    "    # calculate d1 and d2\n",
    "    d1=(np.log(S/K))/(np.sqrt(efv))+(1+mu)*(np.sqrt(efv))\n",
    "    d2=d1-np.sqrt(efv)\n",
    "    # calculate N(d1) and N(d2)\n",
    "    Nd1=st.norm.cdf(phi*d1)\n",
    "    Nd2=st.norm.cdf(phi*d2)\n",
    "    # calculate premium, delta\n",
    "    de=phi*np.exp(-q*t)*Nd1\n",
    "    pr=phi*S*np.exp(-q*t)*Nd1-phi*K*np.exp(-r*t)*Nd2\n",
    "    return [pr,de]"
   ]
  },
  {
   "cell_type": "markdown",
   "metadata": {},
   "source": [
    "### Defining parameters"
   ]
  },
  {
   "cell_type": "code",
   "execution_count": 5,
   "metadata": {
    "collapsed": true
   },
   "outputs": [],
   "source": [
    "S0=100\n",
    "phi=-1\n",
    "eta=1\n",
    "K=100\n",
    "H=85\n",
    "r=0\n",
    "q=0\n",
    "vol=0.20\n",
    "T=128/256\n",
    "nst0=128\n",
    "npth=50000"
   ]
  },
  {
   "cell_type": "markdown",
   "metadata": {},
   "source": [
    "### Calculating the plain vanilla prices"
   ]
  },
  {
   "cell_type": "code",
   "execution_count": 6,
   "metadata": {
    "collapsed": false
   },
   "outputs": [],
   "source": [
    "putpr, putdel = bsv(phi,S0,K,r,q,vol,T)\n",
    "callpr, calldel = bsv(phi,S0,K,r,q,vol,T)"
   ]
  },
  {
   "cell_type": "code",
   "execution_count": 7,
   "metadata": {
    "collapsed": false
   },
   "outputs": [
    {
     "data": {
      "text/plain": [
       "[5.6371977797016655, 5.6371977797016655]"
      ]
     },
     "execution_count": 7,
     "metadata": {},
     "output_type": "execute_result"
    }
   ],
   "source": [
    "[putpr, callpr]"
   ]
  },
  {
   "cell_type": "markdown",
   "metadata": {},
   "source": [
    "## Defining the other functions for the RKO and RKI formulas:"
   ]
  },
  {
   "cell_type": "code",
   "execution_count": 8,
   "metadata": {
    "collapsed": true
   },
   "outputs": [],
   "source": [
    "def bsv2(phi,S,K,H,r,q,vol,t):\n",
    "    mu=((r-q)-(vol**2)/2)/(vol**2)\n",
    "    efv=t*(vol**2)\n",
    "    # calculate d1 and d2\n",
    "    d1=(np.log(S/H))/(np.sqrt(efv))+(1+mu)*(np.sqrt(efv))\n",
    "    d2=d1-np.sqrt(efv)\n",
    "    # calculate N(d1) and N(d2)\n",
    "    Nd1=st.norm.cdf(phi*d1)\n",
    "    Nd2=st.norm.cdf(phi*d2)\n",
    "    # calculate value\n",
    "    pr=phi*S*np.exp(-q*t)*Nd1-phi*K*np.exp(-r*t)*Nd2\n",
    "    return pr"
   ]
  },
  {
   "cell_type": "code",
   "execution_count": 9,
   "metadata": {
    "collapsed": false
   },
   "outputs": [],
   "source": [
    "def bsv3(phi,eta,S,K,H,r,q,vol,t):\n",
    "    mu=((r-q)-(vol**2)/2)/(vol**2)\n",
    "    lmb=np.sqrt((mu**2)+(2*r)/(vol**2))\n",
    "    efv=t*(vol**2)\n",
    "    # calculate d1 and d2\n",
    "    d1=(np.log((H/S)*(H/K)))/(np.sqrt(efv))+(1+mu)*(np.sqrt(efv))\n",
    "    d2=d1-np.sqrt(efv)\n",
    "    # calculate N(d1) and N(d2)\n",
    "    Nd1=st.norm.cdf(eta*d1)\n",
    "    Nd2=st.norm.cdf(eta*d2)\n",
    "    # calculate value\n",
    "    pr=phi*S*(H/S)**(2*(mu+1))*np.exp(-q*t)*Nd1-phi*K*(H/S)**(2*mu)*np.exp(-r*t)*Nd2\n",
    "    return pr"
   ]
  },
  {
   "cell_type": "code",
   "execution_count": 10,
   "metadata": {
    "collapsed": true
   },
   "outputs": [],
   "source": [
    "def bsv4(phi,eta,S,K,H,r,q,vol,t):\n",
    "    mu=((r-q)-(vol**2)/2)/(vol**2)\n",
    "    lmb=np.sqrt((mu**2)+(2*r)/(vol**2))\n",
    "    efv=t*(vol**2)\n",
    "    # calculate d1 and d2\n",
    "    d1=(np.log(H/S))/(np.sqrt(efv))+(1+mu)*(np.sqrt(efv))\n",
    "    d2=d1-np.sqrt(efv)\n",
    "    # calculate N(d1) and N(d2)\n",
    "    Nd1=st.norm.cdf(eta*d1)\n",
    "    Nd2=st.norm.cdf(eta*d2)\n",
    "    # calculate value\n",
    "    pr=phi*S*(H/S)**(2*(mu+1))*np.exp(-q*t)*Nd1-phi*K*(H/S)**(2*mu)*np.exp(-r*t)*Nd2\n",
    "    return pr"
   ]
  },
  {
   "cell_type": "markdown",
   "metadata": {},
   "source": [
    "### Calculating the KI and KO prices"
   ]
  },
  {
   "cell_type": "code",
   "execution_count": 11,
   "metadata": {
    "collapsed": false
   },
   "outputs": [],
   "source": [
    "putKIpr = bsv2(phi,S0,K,H,r,q,vol,T)-bsv3(phi,eta,S0,K,H,r,q,vol,T)+bsv4(phi,eta,S0,K,H,r,q,vol,T)"
   ]
  },
  {
   "cell_type": "code",
   "execution_count": 12,
   "metadata": {
    "collapsed": false
   },
   "outputs": [
    {
     "data": {
      "text/plain": [
       "4.1213831653884165"
      ]
     },
     "execution_count": 12,
     "metadata": {},
     "output_type": "execute_result"
    }
   ],
   "source": [
    "putKIpr"
   ]
  },
  {
   "cell_type": "markdown",
   "metadata": {},
   "source": [
    "Consulting the Haug spreadsheets:"
   ]
  },
  {
   "cell_type": "code",
   "execution_count": 13,
   "metadata": {
    "collapsed": true
   },
   "outputs": [],
   "source": [
    "img1=plt.imread('RKI.png')"
   ]
  },
  {
   "cell_type": "code",
   "execution_count": 14,
   "metadata": {
    "collapsed": false
   },
   "outputs": [
    {
     "data": {
      "text/plain": [
       "<matplotlib.image.AxesImage at 0x115e87710>"
      ]
     },
     "execution_count": 14,
     "metadata": {},
     "output_type": "execute_result"
    },
    {
     "data": {
      "image/png": "[encoded data removed]",
      "text/plain": [
       "<matplotlib.figure.Figure at 0x113f82b50>"
      ]
     },
     "metadata": {},
     "output_type": "display_data"
    }
   ],
   "source": [
    "plt.imshow(img1)"
   ]
  },
  {
   "cell_type": "code",
   "execution_count": 15,
   "metadata": {
    "collapsed": false
   },
   "outputs": [],
   "source": [
    "putKOpr = bsv(phi,S0,K,r,q,vol,T)[0]-putKIpr"
   ]
  },
  {
   "cell_type": "code",
   "execution_count": 16,
   "metadata": {
    "collapsed": false
   },
   "outputs": [
    {
     "data": {
      "text/plain": [
       "1.5158146143132489"
      ]
     },
     "execution_count": 16,
     "metadata": {},
     "output_type": "execute_result"
    }
   ],
   "source": [
    "putKOpr"
   ]
  },
  {
   "cell_type": "markdown",
   "metadata": {},
   "source": [
    "Consulting the Haug spreadsheets:"
   ]
  },
  {
   "cell_type": "code",
   "execution_count": 17,
   "metadata": {
    "collapsed": true
   },
   "outputs": [],
   "source": [
    "img2=plt.imread('RKO.png')"
   ]
  },
  {
   "cell_type": "code",
   "execution_count": 18,
   "metadata": {
    "collapsed": false
   },
   "outputs": [
    {
     "data": {
      "text/plain": [
       "<matplotlib.image.AxesImage at 0x116d5fc10>"
      ]
     },
     "execution_count": 18,
     "metadata": {},
     "output_type": "execute_result"
    },
    {
     "data": {
      "image/png": "[encoded data removed]",
      "text/plain": [
       "<matplotlib.figure.Figure at 0x115e20ad0>"
      ]
     },
     "metadata": {},
     "output_type": "display_data"
    }
   ],
   "source": [
    "plt.imshow(img2)"
   ]
  },
  {
   "cell_type": "markdown",
   "metadata": {},
   "source": [
    "### Auxiliary functions"
   ]
  },
  {
   "cell_type": "code",
   "execution_count": 19,
   "metadata": {
    "collapsed": true
   },
   "outputs": [],
   "source": [
    "def ca(x,size):\n",
    "    y=np.empty(size)\n",
    "    y.fill(x)\n",
    "    return y"
   ]
  },
  {
   "cell_type": "code",
   "execution_count": 20,
   "metadata": {
    "collapsed": true
   },
   "outputs": [],
   "source": [
    "def ppzero(s):\n",
    "    return pd.Series(pd.Series.append(pd.Series([0]),s).values)"
   ]
  },
  {
   "cell_type": "markdown",
   "metadata": {},
   "source": [
    "## Monte Carlo path generator"
   ]
  },
  {
   "cell_type": "code",
   "execution_count": 21,
   "metadata": {
    "collapsed": false
   },
   "outputs": [],
   "source": [
    "def mcpath(nsteps, S0, drift, vol, t):\n",
    "    # generate random numbers\n",
    "    nmdr=pd.Series(np.random.standard_normal(nsteps))\n",
    "    # find each step\n",
    "    dt=t*1/nsteps\n",
    "    ts=pd.Series(ca(dt,nsteps))\n",
    "    ts0=ppzero(ts)\n",
    "    s1=(drift-(vol**2)/2)*dt\n",
    "    s2=vol*np.sqrt(dt)\n",
    "    steps=s1*pd.Series(ca(1,nsteps))+s2*nmdr\n",
    "    steps0=ppzero(steps)\n",
    "    # add steps\n",
    "    cmsteps=steps0.cumsum()\n",
    "    cts=ts0.cumsum()\n",
    "    # convert steps to path\n",
    "    Sj=S0*np.exp(cmsteps.values)\n",
    "    # return timeseries [t,St]\n",
    "    return pd.Series(Sj,index=cts.values)"
   ]
  },
  {
   "cell_type": "code",
   "execution_count": 22,
   "metadata": {
    "collapsed": false
   },
   "outputs": [],
   "source": [
    "testpath0=mcpath(10,S0,r-q,vol,T)"
   ]
  },
  {
   "cell_type": "code",
   "execution_count": 23,
   "metadata": {
    "collapsed": false
   },
   "outputs": [
    {
     "data": {
      "text/plain": [
       "<matplotlib.axes._subplots.AxesSubplot at 0x116daf910>"
      ]
     },
     "execution_count": 23,
     "metadata": {},
     "output_type": "execute_result"
    },
    {
     "data": {
      "image/png": "[encoded data removed]",
      "text/plain": [
       "<matplotlib.figure.Figure at 0x116dcde90>"
      ]
     },
     "metadata": {},
     "output_type": "display_data"
    }
   ],
   "source": [
    "testpath0.plot()"
   ]
  },
  {
   "cell_type": "markdown",
   "metadata": {},
   "source": [
    "## Monte Carlo paths generator"
   ]
  },
  {
   "cell_type": "code",
   "execution_count": 24,
   "metadata": {
    "collapsed": true
   },
   "outputs": [],
   "source": [
    "def mcpaths(npaths, nsteps, S0, drift, vol, t):\n",
    "    # generate npaths using mcpath\n",
    "    paths=pd.DataFrame([mcpath(nsteps, S0, drift, vol, t) for j in range(npaths)])\n",
    "    return paths"
   ]
  },
  {
   "cell_type": "code",
   "execution_count": 25,
   "metadata": {
    "collapsed": false
   },
   "outputs": [],
   "source": [
    "testpath1=mcpaths(5,10,S0,r-q,vol,T)"
   ]
  },
  {
   "cell_type": "code",
   "execution_count": 26,
   "metadata": {
    "collapsed": false,
    "scrolled": true
   },
   "outputs": [
    {
     "data": {
      "text/plain": [
       "<matplotlib.axes._subplots.AxesSubplot at 0x1181d6250>"
      ]
     },
     "execution_count": 26,
     "metadata": {},
     "output_type": "execute_result"
    },
    {
     "data": {
      "image/png": "[encoded data removed]",
      "text/plain": [
       "<matplotlib.figure.Figure at 0x1180d0810>"
      ]
     },
     "metadata": {},
     "output_type": "display_data"
    }
   ],
   "source": [
    "testpath1.transpose().plot()"
   ]
  },
  {
   "cell_type": "markdown",
   "metadata": {},
   "source": [
    "## Simulating the values at the maturity"
   ]
  },
  {
   "cell_type": "code",
   "execution_count": 27,
   "metadata": {
    "collapsed": true
   },
   "outputs": [],
   "source": [
    "npt1=npth"
   ]
  },
  {
   "cell_type": "code",
   "execution_count": 28,
   "metadata": {
    "collapsed": false
   },
   "outputs": [],
   "source": [
    "testst=mcpaths(npt1,1,S0,r-q,vol,T)"
   ]
  },
  {
   "cell_type": "code",
   "execution_count": 29,
   "metadata": {
    "collapsed": false
   },
   "outputs": [
    {
     "data": {
      "text/plain": [
       "<matplotlib.axes._subplots.AxesSubplot at 0x116ec3390>"
      ]
     },
     "execution_count": 29,
     "metadata": {},
     "output_type": "execute_result"
    },
    {
     "data": {
      "image/png": "[encoded data removed]",
      "text/plain": [
       "<matplotlib.figure.Figure at 0x1181f31d0>"
      ]
     },
     "metadata": {},
     "output_type": "display_data"
    }
   ],
   "source": [
    "(testst.transpose()).iloc[1].plot(kind='hist', bins=20)"
   ]
  },
  {
   "cell_type": "code",
   "execution_count": 30,
   "metadata": {
    "collapsed": false
   },
   "outputs": [
    {
     "data": {
      "text/plain": [
       "[100.0, 99.96409294220278]"
      ]
     },
     "execution_count": 30,
     "metadata": {},
     "output_type": "execute_result"
    }
   ],
   "source": [
    "[100*np.exp((r-q)*T),(testst.transpose()).iloc[1].mean()]"
   ]
  },
  {
   "cell_type": "markdown",
   "metadata": {},
   "source": [
    "## Checking the payoff of the vanilla calls and puts"
   ]
  },
  {
   "cell_type": "code",
   "execution_count": 31,
   "metadata": {
    "collapsed": true
   },
   "outputs": [],
   "source": [
    "putpocalc=np.maximum((K-(testst.transpose()).iloc[1]),0).mean()\n",
    "callpocalc=np.maximum(((testst.transpose()-K).iloc[1]),0).mean()"
   ]
  },
  {
   "cell_type": "code",
   "execution_count": 32,
   "metadata": {
    "collapsed": false
   },
   "outputs": [
    {
     "data": {
      "text/plain": [
       "[5.6371977797016655, 5.6585398484320306]"
      ]
     },
     "execution_count": 32,
     "metadata": {},
     "output_type": "execute_result"
    }
   ],
   "source": [
    "[putpr, putpocalc*np.exp(-r*T)]"
   ]
  },
  {
   "cell_type": "code",
   "execution_count": 33,
   "metadata": {
    "collapsed": false
   },
   "outputs": [
    {
     "data": {
      "text/plain": [
       "[5.6371977797016655, 5.6226327906343014]"
      ]
     },
     "execution_count": 33,
     "metadata": {},
     "output_type": "execute_result"
    }
   ],
   "source": [
    "[callpr, callpocalc*np.exp(-r*T)]"
   ]
  },
  {
   "cell_type": "code",
   "execution_count": 34,
   "metadata": {
    "collapsed": false
   },
   "outputs": [
    {
     "data": {
      "text/plain": [
       "[5.6371977797016655, 5.640586319533166]"
      ]
     },
     "execution_count": 34,
     "metadata": {},
     "output_type": "execute_result"
    }
   ],
   "source": [
    "[(putpr+callpr)/2, (putpocalc+callpocalc)*np.exp(-r*T)/2]"
   ]
  },
  {
   "cell_type": "markdown",
   "metadata": {},
   "source": [
    "## Checking the convergence of Monte Carlo"
   ]
  },
  {
   "cell_type": "code",
   "execution_count": 35,
   "metadata": {
    "collapsed": true
   },
   "outputs": [],
   "source": [
    "putporoll=np.maximum((K-(testst.transpose()).iloc[1]),0).cumsum()/np.array(np.arange(1,npt1+1))\n",
    "callporoll=np.maximum(((testst.transpose()-K).iloc[1]),0).cumsum()/np.array(np.arange(1,npt1+1))"
   ]
  },
  {
   "cell_type": "code",
   "execution_count": 36,
   "metadata": {
    "collapsed": false
   },
   "outputs": [
    {
     "data": {
      "text/plain": [
       "<matplotlib.axes._subplots.AxesSubplot at 0x118d8d490>"
      ]
     },
     "execution_count": 36,
     "metadata": {},
     "output_type": "execute_result"
    },
    {
     "data": {
      "image/png": "[encoded data removed]",
      "text/plain": [
       "<matplotlib.figure.Figure at 0x118c72110>"
      ]
     },
     "metadata": {},
     "output_type": "display_data"
    }
   ],
   "source": [
    "ax1,ax2,ay1,ay2 = plt.axis()\n",
    "plt.axis((ax1,ax2,-0.05,+0.05))\n",
    "plt.axhline(0, color='grey')\n",
    "plt.xlabel('# of paths')\n",
    "plt.ylabel('% error')\n",
    "pd.Series(putporoll/putpr-1).plot()\n",
    "pd.Series(callporoll/callpr-1).plot()"
   ]
  },
  {
   "cell_type": "markdown",
   "metadata": {},
   "source": [
    "The chart above should be quite symmetrical, given that a positive error for the call is a negative error for the put and vice versa."
   ]
  },
  {
   "cell_type": "markdown",
   "metadata": {},
   "source": [
    "## Simulating the values for more steps"
   ]
  },
  {
   "cell_type": "code",
   "execution_count": 37,
   "metadata": {
    "collapsed": true
   },
   "outputs": [],
   "source": [
    "npt2=npth"
   ]
  },
  {
   "cell_type": "code",
   "execution_count": 38,
   "metadata": {
    "collapsed": true
   },
   "outputs": [],
   "source": [
    "nstp2=nst0"
   ]
  },
  {
   "cell_type": "code",
   "execution_count": 39,
   "metadata": {
    "collapsed": false
   },
   "outputs": [],
   "source": [
    "testst2=mcpaths(npt2,nstp2,S0,r-q,vol,T)"
   ]
  },
  {
   "cell_type": "markdown",
   "metadata": {},
   "source": [
    "The formula for the payout of the One-Touch paying 1 at expiration with S>H:"
   ]
  },
  {
   "cell_type": "markdown",
   "metadata": {},
   "source": [
    "(11) $$ OTpo=N \\left( \\phi \\left( x_2 - \\sigma \\sqrt{t} \\right) \\right) + \\left( \\frac{H}{S}\\right)^{2 \\mu } N \\left( \\eta \\left( y_2 - \\sigma \\sqrt{t} \\right) \\right) ;$$"
   ]
  },
  {
   "cell_type": "markdown",
   "metadata": {},
   "source": [
    "This corresponds to the probability of hitting the barrier over the life of the option."
   ]
  },
  {
   "cell_type": "code",
   "execution_count": 40,
   "metadata": {
    "collapsed": true
   },
   "outputs": [],
   "source": [
    "def otpo(phi,eta,S,H,r,q,vol,t):\n",
    "    mu=((r-q)-(vol**2)/2)/(vol**2)\n",
    "    lmb=np.sqrt((mu**2)+(2*r)/(vol**2))\n",
    "    efv=t*(vol**2)\n",
    "    # calculate arguments for N(): x2 - vol sqrt(t) and y2 - vol sqrt(t)\n",
    "    d1=(np.log(S/H))/(np.sqrt(efv))+(1+mu)*(np.sqrt(efv))-np.sqrt(efv)\n",
    "    d2=(np.log(H/S))/(np.sqrt(efv))+(1+mu)*(np.sqrt(efv))-np.sqrt(efv)\n",
    "    # calculate N(d1) and N(d2)\n",
    "    Nd1=st.norm.cdf(phi*d1)\n",
    "    Nd2=st.norm.cdf(eta*d2)\n",
    "    # calculate value\n",
    "    pr=Nd1+(H/S)**(2*mu)*Nd2\n",
    "    return pr"
   ]
  },
  {
   "cell_type": "markdown",
   "metadata": {},
   "source": [
    "Expected frequency of hits:"
   ]
  },
  {
   "cell_type": "code",
   "execution_count": 41,
   "metadata": {
    "collapsed": false
   },
   "outputs": [
    {
     "data": {
      "text/plain": [
       "0.27129719564023963"
      ]
     },
     "execution_count": 41,
     "metadata": {},
     "output_type": "execute_result"
    }
   ],
   "source": [
    "ph85=otpo(-1,+1,S0,H,r,q,vol,T)\n",
    "ph85"
   ]
  },
  {
   "cell_type": "markdown",
   "metadata": {},
   "source": [
    "Measured frequency of hits:"
   ]
  },
  {
   "cell_type": "code",
   "execution_count": 42,
   "metadata": {
    "collapsed": true
   },
   "outputs": [],
   "source": [
    "def hitbd(s,b):\n",
    "    if (np.min(s)<=b):\n",
    "        return 1\n",
    "    else:\n",
    "        return 0"
   ]
  },
  {
   "cell_type": "code",
   "execution_count": 43,
   "metadata": {
    "collapsed": false
   },
   "outputs": [],
   "source": [
    "hit85=np.array(map(lambda x: hitbd(x,H),testst2.values))"
   ]
  },
  {
   "cell_type": "code",
   "execution_count": 44,
   "metadata": {
    "collapsed": false
   },
   "outputs": [
    {
     "data": {
      "text/plain": [
       "0.25180000000000002"
      ]
     },
     "execution_count": 44,
     "metadata": {},
     "output_type": "execute_result"
    }
   ],
   "source": [
    "hit85.mean()"
   ]
  },
  {
   "cell_type": "markdown",
   "metadata": {},
   "source": [
    "Why these two aren't equal? We forgot the continuity correction:"
   ]
  },
  {
   "cell_type": "code",
   "execution_count": 45,
   "metadata": {
    "collapsed": false
   },
   "outputs": [
    {
     "data": {
      "text/plain": [
       "0.99274395314915387"
      ]
     },
     "execution_count": 45,
     "metadata": {},
     "output_type": "execute_result"
    }
   ],
   "source": [
    "beta=0.5826\n",
    "ccf=np.exp(-beta*vol*np.sqrt(T/nstp2))\n",
    "ccf"
   ]
  },
  {
   "cell_type": "markdown",
   "metadata": {},
   "source": [
    "Adjusting the barrier:"
   ]
  },
  {
   "cell_type": "code",
   "execution_count": 46,
   "metadata": {
    "collapsed": false
   },
   "outputs": [
    {
     "data": {
      "text/plain": [
       "0.24987963310431055"
      ]
     },
     "execution_count": 46,
     "metadata": {},
     "output_type": "execute_result"
    }
   ],
   "source": [
    "ph85cc=otpo(-1,+1,S0,H*ccf,r,q,vol,T)\n",
    "ph85cc"
   ]
  },
  {
   "cell_type": "code",
   "execution_count": 47,
   "metadata": {
    "collapsed": false
   },
   "outputs": [
    {
     "data": {
      "text/plain": [
       "0.74819999999999998"
      ]
     },
     "execution_count": 47,
     "metadata": {},
     "output_type": "execute_result"
    }
   ],
   "source": [
    "(1-hit85).mean()"
   ]
  },
  {
   "cell_type": "code",
   "execution_count": 48,
   "metadata": {
    "collapsed": false
   },
   "outputs": [],
   "source": [
    "hit85roll=hit85.cumsum()/np.array(np.arange(1,npt2+1))"
   ]
  },
  {
   "cell_type": "code",
   "execution_count": 49,
   "metadata": {
    "collapsed": false
   },
   "outputs": [],
   "source": [
    "putpo85=np.maximum((K-(testst2.transpose()).iloc[nstp2]),0)"
   ]
  },
  {
   "cell_type": "code",
   "execution_count": 50,
   "metadata": {
    "collapsed": true
   },
   "outputs": [],
   "source": [
    "po85=((1-hit85)*putpo85).mean()"
   ]
  },
  {
   "cell_type": "code",
   "execution_count": 51,
   "metadata": {
    "collapsed": true
   },
   "outputs": [],
   "source": [
    "pr85=po85*np.exp(-r*T)"
   ]
  },
  {
   "cell_type": "markdown",
   "metadata": {},
   "source": [
    "As expected, no match:"
   ]
  },
  {
   "cell_type": "code",
   "execution_count": 52,
   "metadata": {
    "collapsed": false
   },
   "outputs": [
    {
     "data": {
      "text/plain": [
       "[1.7077140211062876, 1.5158146143132489]"
      ]
     },
     "execution_count": 52,
     "metadata": {},
     "output_type": "execute_result"
    }
   ],
   "source": [
    "[pr85,putKOpr]"
   ]
  },
  {
   "cell_type": "markdown",
   "metadata": {},
   "source": [
    "Adding the continuity correction:"
   ]
  },
  {
   "cell_type": "code",
   "execution_count": 53,
   "metadata": {
    "collapsed": false
   },
   "outputs": [],
   "source": [
    "putKIprcc = bsv2(phi,S0,K,H*ccf,r,q,vol,T)-bsv3(phi,eta,S0,K,H*ccf,r,q,vol,T)+bsv4(phi,eta,S0,K,H*ccf,r,q,vol,T)\n",
    "putKOprcc = bsv(phi,S0,K,r,q,vol,T)[0]-putKIprcc"
   ]
  },
  {
   "cell_type": "markdown",
   "metadata": {},
   "source": [
    "We have now a closer match:"
   ]
  },
  {
   "cell_type": "code",
   "execution_count": 54,
   "metadata": {
    "collapsed": false
   },
   "outputs": [
    {
     "data": {
      "text/plain": [
       "[3.9405485089596297, 1.6966492707420358]"
      ]
     },
     "execution_count": 54,
     "metadata": {},
     "output_type": "execute_result"
    }
   ],
   "source": [
    "[putKIprcc,putKOprcc]"
   ]
  },
  {
   "cell_type": "code",
   "execution_count": 172,
   "metadata": {
    "collapsed": false
   },
   "outputs": [
    {
     "data": {
      "text/plain": [
       "[3.9294837585953779, 1.7077140211062876]"
      ]
     },
     "execution_count": 172,
     "metadata": {},
     "output_type": "execute_result"
    }
   ],
   "source": [
    "[putpr-pr85,pr85]"
   ]
  },
  {
   "cell_type": "markdown",
   "metadata": {},
   "source": [
    "Checking the convergence:"
   ]
  },
  {
   "cell_type": "code",
   "execution_count": 55,
   "metadata": {
    "collapsed": false
   },
   "outputs": [],
   "source": [
    "pr85roll=(((1-hit85)*putpo85)*np.exp(-r*T)).cumsum()/np.array(np.arange(1,npt2+1))"
   ]
  },
  {
   "cell_type": "code",
   "execution_count": 56,
   "metadata": {
    "collapsed": false
   },
   "outputs": [
    {
     "data": {
      "text/plain": [
       "<matplotlib.axes._subplots.AxesSubplot at 0x11b1cdd50>"
      ]
     },
     "execution_count": 56,
     "metadata": {},
     "output_type": "execute_result"
    },
    {
     "data": {
      "image/png": "[encoded data removed]",
      "text/plain": [
       "<matplotlib.figure.Figure at 0x11b1d98d0>"
      ]
     },
     "metadata": {},
     "output_type": "display_data"
    }
   ],
   "source": [
    "ax1,ax2,ay1,ay2 = plt.axis()\n",
    "plt.axis((ax1,ax2,putKOprcc-0.25,putKOprcc+0.25))\n",
    "plt.axhline(putKOprcc, color='grey')\n",
    "plt.xlabel('# of paths')\n",
    "plt.ylabel('Premium values')\n",
    "pd.Series(pr85roll).plot()"
   ]
  },
  {
   "cell_type": "code",
   "execution_count": 59,
   "metadata": {
    "collapsed": false
   },
   "outputs": [
    {
     "data": {
      "text/plain": [
       "<matplotlib.axes._subplots.AxesSubplot at 0x11aceb5d0>"
      ]
     },
     "execution_count": 59,
     "metadata": {},
     "output_type": "execute_result"
    },
    {
     "data": {
      "image/png": "[encoded data removed]",
      "text/plain": [
       "<matplotlib.figure.Figure at 0x11aa603d0>"
      ]
     },
     "metadata": {},
     "output_type": "display_data"
    }
   ],
   "source": [
    "ax1,ax2,ay1,ay2 = plt.axis()\n",
    "plt.axis((ax1,ax2,0.2,0.3))\n",
    "plt.axhline(ph85cc, color='grey')\n",
    "plt.xlabel('# of paths')\n",
    "plt.ylabel('Hit probability')\n",
    "pd.Series(hit85roll).plot()"
   ]
  },
  {
   "cell_type": "markdown",
   "metadata": {},
   "source": [
    "## Monte Carlo path generator with Brownian Bridge"
   ]
  },
  {
   "cell_type": "markdown",
   "metadata": {},
   "source": [
    "### Let's be careful here and develop the code ... step by step"
   ]
  },
  {
   "cell_type": "markdown",
   "metadata": {},
   "source": [
    "### After all, we don't want to take a step too far and then come back ... or do we?"
   ]
  },
  {
   "cell_type": "markdown",
   "metadata": {},
   "source": [
    "Brownian motion:"
   ]
  },
  {
   "cell_type": "markdown",
   "metadata": {},
   "source": [
    "(12) $$ W(t_{i+1})=W(t_i)+\\sqrt{t_{i+1}-t_i}Z(t_{i+1});$$"
   ]
  },
  {
   "cell_type": "markdown",
   "metadata": {},
   "source": [
    "(13) $$ X(t_{i+1})=X(t_i)+\\mu(t_{i+1}-t_i) + \\sigma\\sqrt{t_{i+1}-t_i}Z(t_{i+1});$$"
   ]
  },
  {
   "cell_type": "markdown",
   "metadata": {},
   "source": [
    "(14) $$ (W(s) \\mid W(s_1)=x_1,W(s_2)=x_2)=N\\left(\\frac{(s_{i+1}-s).x_i+(s-s_i).x_{i+1}}{(s_{i+1}-s_i)},\\frac{(s_{i+1}-s)(s-s_i)}{(s_{i+1}-s_i)}\\right); $$"
   ]
  },
  {
   "cell_type": "markdown",
   "metadata": {},
   "source": [
    "(15) $$ W(s)=\\frac{(s_{i+1}-s).x_i+(s-s_i).x_{i+1}}{(s_{i+1}-s_i)}+\\sqrt{\\frac{(s_{i+1}-s)(s-s_i)}{(s_{i+1}-s_i)}}Z;$$"
   ]
  },
  {
   "cell_type": "markdown",
   "metadata": {},
   "source": [
    "### Pseudocode from Glasserman for W:"
   ]
  },
  {
   "cell_type": "markdown",
   "metadata": {},
   "source": [
    "  \n",
    "    Z[i] is draw i of N(0,1)\n",
    "    h=2^m=nsteps\n",
    "    jmax=1 \n",
    "    w[h]=sqrt(t[h]).Z[h]   \n",
    "    t[0]=0   \n",
    "    w[0]=0   \n",
    "    for k=1 to m\n",
    "        imin=h/2\n",
    "        i=imin\n",
    "        lt=0\n",
    "        rt=h\n",
    "        for j=1 to jmax\n",
    "            a=( (t[rt]-t[i]).w[lt] + (t[i]-t[lt]).w[rt] ) / (t[rt]-t[lt])\n",
    "            b=sqrt( (t[rt]-t[i]).(t[i]-t[lt]) / (t[rt]-t[lt]) )\n",
    "            w[i]=a+b.Z[i]\n",
    "            i=i+h\n",
    "            lt=lt+h\n",
    "            rt=rt+h\n",
    "        end\n",
    "        jmax=2.jmax\n",
    "        h=imin\n",
    "    end\n",
    "    return array w (size h)"
   ]
  },
  {
   "cell_type": "markdown",
   "metadata": {},
   "source": [
    "### Defining functions for the inner loop:"
   ]
  },
  {
   "cell_type": "markdown",
   "metadata": {},
   "source": [
    "Get W(s) given W(t1) and W(t2)"
   ]
  },
  {
   "cell_type": "code",
   "execution_count": 60,
   "metadata": {
    "collapsed": false
   },
   "outputs": [],
   "source": [
    "def bbw(t1,t2,t,w1,w2):\n",
    "    # generate random number\n",
    "    z=np.random.standard_normal()\n",
    "    # initial value for Log(S0)\n",
    "    a=((t2-t)*w1+(t-t1)*w2)/(t2-t1)\n",
    "    b=np.sqrt((t2-t)*(t-t1)/(t2-t1))\n",
    "    w=a+b*z\n",
    "    return w"
   ]
  },
  {
   "cell_type": "code",
   "execution_count": 61,
   "metadata": {
    "collapsed": false
   },
   "outputs": [
    {
     "data": {
      "text/plain": [
       "<matplotlib.axes._subplots.AxesSubplot at 0x11aa89410>"
      ]
     },
     "execution_count": 61,
     "metadata": {},
     "output_type": "execute_result"
    },
    {
     "data": {
      "image/png": "[encoded data removed]",
      "text/plain": [
       "<matplotlib.figure.Figure at 0x11a4b3d50>"
      ]
     },
     "metadata": {},
     "output_type": "display_data"
    }
   ],
   "source": [
    "plt.axvline(6, color='grey')\n",
    "pd.Series(np.array([bbw(0,1,0.5,5,7) for j in range(10000)])).plot(kind='hist', bins=20)"
   ]
  },
  {
   "cell_type": "markdown",
   "metadata": {},
   "source": [
    "Get the next \"layer\" of W(s) given W(tj) for a range tj"
   ]
  },
  {
   "cell_type": "code",
   "execution_count": 62,
   "metadata": {
    "collapsed": false
   },
   "outputs": [],
   "source": [
    "def bbwnxt(tms):\n",
    "    wr=tms.values\n",
    "    tr=tms.index.values\n",
    "    # new time index\n",
    "    ntr=np.array((tr[1:]+tr[:-1])/2)\n",
    "    # apply bbw for each overlapping pair\n",
    "    w = np.array([bbw(tr[j],tr[j+1],ntr[j],wr[j],wr[j+1]) for j in range(len(tr)-1)])\n",
    "    return pd.Series(w,index=ntr)"
   ]
  },
  {
   "cell_type": "code",
   "execution_count": 63,
   "metadata": {
    "collapsed": false
   },
   "outputs": [
    {
     "data": {
      "text/plain": [
       "0.00    0.0\n",
       "0.25   -0.2\n",
       "0.50    0.1\n",
       "0.75    0.1\n",
       "1.00    0.5\n",
       "dtype: float64"
      ]
     },
     "execution_count": 63,
     "metadata": {},
     "output_type": "execute_result"
    }
   ],
   "source": [
    "ts1=pd.Series(np.array([0,-0.2,0.1,0.1,0.5]),index=(np.arange(5)/4))\n",
    "ts1"
   ]
  },
  {
   "cell_type": "code",
   "execution_count": 64,
   "metadata": {
    "collapsed": false
   },
   "outputs": [
    {
     "data": {
      "text/plain": [
       "0.125   -0.229975\n",
       "0.375   -0.110418\n",
       "0.625    0.361240\n",
       "0.875    0.190716\n",
       "dtype: float64"
      ]
     },
     "execution_count": 64,
     "metadata": {},
     "output_type": "execute_result"
    }
   ],
   "source": [
    "ts2=bbwnxt(ts1)\n",
    "ts2"
   ]
  },
  {
   "cell_type": "code",
   "execution_count": 65,
   "metadata": {
    "collapsed": false
   },
   "outputs": [
    {
     "data": {
      "text/plain": [
       "[-0.099665122154071334,\n",
       " -0.049515527448578088,\n",
       " 0.099077396377223959,\n",
       " 0.29774657700976487]"
      ]
     },
     "execution_count": 65,
     "metadata": {},
     "output_type": "execute_result"
    }
   ],
   "source": [
    "map(np.mean,np.array([bbwnxt(ts1).values for k in range(10000)]).transpose())"
   ]
  },
  {
   "cell_type": "code",
   "execution_count": 66,
   "metadata": {
    "collapsed": false
   },
   "outputs": [
    {
     "data": {
      "text/plain": [
       "0.000    0.000000\n",
       "0.125   -0.229975\n",
       "0.250   -0.200000\n",
       "0.375   -0.110418\n",
       "0.500    0.100000\n",
       "0.625    0.361240\n",
       "0.750    0.100000\n",
       "0.875    0.190716\n",
       "1.000    0.500000\n",
       "dtype: float64"
      ]
     },
     "execution_count": 66,
     "metadata": {},
     "output_type": "execute_result"
    }
   ],
   "source": [
    "pd.concat([ts1,ts2]).sort_index()"
   ]
  },
  {
   "cell_type": "markdown",
   "metadata": {},
   "source": [
    "Put together both layers sorted by the time index"
   ]
  },
  {
   "cell_type": "code",
   "execution_count": 67,
   "metadata": {
    "collapsed": false
   },
   "outputs": [],
   "source": [
    "def bbwtnxt(tms):\n",
    "    return pd.concat([tms,bbwnxt(tms)]).sort_index()"
   ]
  },
  {
   "cell_type": "code",
   "execution_count": 68,
   "metadata": {
    "collapsed": false
   },
   "outputs": [
    {
     "data": {
      "text/plain": [
       "0.000    0.000000\n",
       "0.125   -0.439381\n",
       "0.250   -0.200000\n",
       "0.375    0.239280\n",
       "0.500    0.100000\n",
       "0.625    0.218537\n",
       "0.750    0.100000\n",
       "0.875   -0.133567\n",
       "1.000    0.500000\n",
       "dtype: float64"
      ]
     },
     "execution_count": 68,
     "metadata": {},
     "output_type": "execute_result"
    }
   ],
   "source": [
    "bbwtnxt(ts1)"
   ]
  },
  {
   "cell_type": "markdown",
   "metadata": {},
   "source": [
    "### Defining the outer loop:"
   ]
  },
  {
   "cell_type": "code",
   "execution_count": 69,
   "metadata": {
    "collapsed": false
   },
   "outputs": [],
   "source": [
    "def bbwpath(m,w0,T):\n",
    "    # generate random number\n",
    "    z=np.random.standard_normal()\n",
    "    # value for x(T)\n",
    "    wT=w0+z*np.sqrt(T)\n",
    "    w=pd.Series(np.array([w0,wT]),index=np.array([0,T]))\n",
    "    for j in range(m):\n",
    "        w=bbwtnxt(w)\n",
    "    return w"
   ]
  },
  {
   "cell_type": "code",
   "execution_count": 70,
   "metadata": {
    "collapsed": false
   },
   "outputs": [
    {
     "data": {
      "text/plain": [
       "0.0000    0.000000\n",
       "0.3125   -0.204780\n",
       "0.6250   -0.162645\n",
       "0.9375   -0.882168\n",
       "1.2500   -1.502281\n",
       "1.5625   -1.701282\n",
       "1.8750   -1.637200\n",
       "2.1875   -1.241412\n",
       "2.5000   -0.504242\n",
       "2.8125   -1.491895\n",
       "3.1250   -1.055357\n",
       "3.4375   -0.819734\n",
       "3.7500   -0.237130\n",
       "4.0625   -0.765642\n",
       "4.3750   -0.604870\n",
       "4.6875   -0.743340\n",
       "5.0000   -0.643026\n",
       "dtype: float64"
      ]
     },
     "execution_count": 70,
     "metadata": {},
     "output_type": "execute_result"
    }
   ],
   "source": [
    "bbwpath(4,0,5)"
   ]
  },
  {
   "cell_type": "code",
   "execution_count": 71,
   "metadata": {
    "collapsed": false
   },
   "outputs": [],
   "source": [
    "def bbwpathall(m,w0,T):\n",
    "    wall=[pd.Series(np.array([w0]),index=np.array([0]))]\n",
    "    # generate random number\n",
    "    z=np.random.standard_normal()\n",
    "    # value for x(T)\n",
    "    wT=w0+z*np.sqrt(T)\n",
    "    w=pd.Series(np.array([w0,wT]),index=np.array([0,T]))\n",
    "    wall=wall+[w]\n",
    "    for j in range(m):\n",
    "        w=bbwtnxt(w)\n",
    "        wall=wall+[w]\n",
    "    return wall"
   ]
  },
  {
   "cell_type": "code",
   "execution_count": 72,
   "metadata": {
    "collapsed": true
   },
   "outputs": [],
   "source": [
    "bbp1=bbwpathall(4,0,1)"
   ]
  },
  {
   "cell_type": "code",
   "execution_count": 73,
   "metadata": {
    "collapsed": false
   },
   "outputs": [
    {
     "data": {
      "text/plain": [
       "[<matplotlib.axes._subplots.AxesSubplot at 0x11b1bd3d0>,\n",
       " <matplotlib.axes._subplots.AxesSubplot at 0x11b1bd3d0>,\n",
       " <matplotlib.axes._subplots.AxesSubplot at 0x11b1bd3d0>,\n",
       " <matplotlib.axes._subplots.AxesSubplot at 0x11b1bd3d0>,\n",
       " <matplotlib.axes._subplots.AxesSubplot at 0x11b1bd3d0>]"
      ]
     },
     "execution_count": 73,
     "metadata": {},
     "output_type": "execute_result"
    },
    {
     "data": {
      "image/png": "[encoded data removed]",
      "text/plain": [
       "<matplotlib.figure.Figure at 0x115e87e90>"
      ]
     },
     "metadata": {},
     "output_type": "display_data"
    }
   ],
   "source": [
    "[bbp1[j].plot() for j in range(1,len(bbp1))]"
   ]
  },
  {
   "cell_type": "markdown",
   "metadata": {},
   "source": [
    "### Pseudocode from Glasserman for X:"
   ]
  },
  {
   "cell_type": "markdown",
   "metadata": {},
   "source": [
    "  \n",
    "    Z[i] is draw i of N(0,1)\n",
    "    h=2^m=nsteps\n",
    "    jmax=1 \n",
    "    w[h]=mu*t[h]+sigma*sqrt(t[h]).Z[h]   \n",
    "    t[0]=0   \n",
    "    w[0]=0   \n",
    "    for k=1 to m\n",
    "        imin=h/2\n",
    "        i=imin\n",
    "        lt=0\n",
    "        rt=h\n",
    "        for j=1 to jmax\n",
    "            a=( (t[rt]-t[i]).w[lt] + (t[i]-t[lt]).w[rt] ) / (t[rt]-t[lt])\n",
    "            b=sqrt( (t[rt]-t[i]).(t[i]-t[lt]) / (t[rt]-t[lt]) )\n",
    "            w[i]=a+b.sigma*Z[i]\n",
    "            i=i+h\n",
    "            lt=lt+h\n",
    "            rt=rt+h\n",
    "        end\n",
    "        jmax=2.jmax\n",
    "        h=imin\n",
    "    end\n",
    "    return array w (size h)"
   ]
  },
  {
   "cell_type": "markdown",
   "metadata": {},
   "source": [
    "### Defining the functions for a general Brownian Bridge:"
   ]
  },
  {
   "cell_type": "code",
   "execution_count": 74,
   "metadata": {
    "collapsed": false
   },
   "outputs": [],
   "source": [
    "def bbx(t1,t2,t,w1,w2,sigma):\n",
    "    # generate random number\n",
    "    z=np.random.standard_normal()\n",
    "    # initial value for Log(S0)\n",
    "    a=((t2-t)*w1+(t-t1)*w2)/(t2-t1)\n",
    "    b=np.sqrt((t2-t)*(t-t1)/(t2-t1))\n",
    "    w=a+b*sigma*z\n",
    "    return w"
   ]
  },
  {
   "cell_type": "code",
   "execution_count": 75,
   "metadata": {
    "collapsed": false
   },
   "outputs": [],
   "source": [
    "def bbxnxt(tms,sigma):\n",
    "    wr=tms.values\n",
    "    tr=tms.index.values\n",
    "    # new time index\n",
    "    ntr=np.array((tr[1:]+tr[:-1])/2)\n",
    "    # apply bbw for each overlapping pair\n",
    "    w = np.array([bbx(tr[j],tr[j+1],ntr[j],wr[j],wr[j+1],sigma) for j in range(len(tr)-1)])\n",
    "    return pd.Series(w,index=ntr)"
   ]
  },
  {
   "cell_type": "code",
   "execution_count": 76,
   "metadata": {
    "collapsed": false
   },
   "outputs": [],
   "source": [
    "def bbxtnxt(tms,sigma):\n",
    "    return pd.concat([tms,bbxnxt(tms,sigma)]).sort_index()"
   ]
  },
  {
   "cell_type": "code",
   "execution_count": 77,
   "metadata": {
    "collapsed": false
   },
   "outputs": [],
   "source": [
    "def bbxpath(m,w0,T,sigma,mu):\n",
    "    # generate random number\n",
    "    z=np.random.standard_normal()\n",
    "    # value for x(T)\n",
    "    wT=w0+mu*T+z*sigma*np.sqrt(T)\n",
    "    w=pd.Series(np.array([w0,wT]),index=np.array([0,T]))\n",
    "    for j in range(m):\n",
    "        w=bbxtnxt(w,sigma)\n",
    "    return w"
   ]
  },
  {
   "cell_type": "code",
   "execution_count": 78,
   "metadata": {
    "collapsed": false
   },
   "outputs": [],
   "source": [
    "def bbxpathall(m,w0,T,sigma,mu):\n",
    "    wall=[pd.Series(np.array([w0]),index=np.array([0]))]\n",
    "    # generate random number\n",
    "    z=np.random.standard_normal()\n",
    "    # value for x(T)\n",
    "    wT=w0+mu*T+z*sigma*np.sqrt(T)\n",
    "    w=pd.Series(np.array([w0,wT]),index=np.array([0,T]))\n",
    "    wall=wall+[w]\n",
    "    for j in range(m):\n",
    "        w=bbxtnxt(w,sigma)\n",
    "        wall=wall+[w]\n",
    "    return wall"
   ]
  },
  {
   "cell_type": "code",
   "execution_count": 79,
   "metadata": {
    "collapsed": false
   },
   "outputs": [],
   "source": [
    "bbp2=bbxpathall(4,0,1,0.2,0.1)"
   ]
  },
  {
   "cell_type": "code",
   "execution_count": 80,
   "metadata": {
    "collapsed": false
   },
   "outputs": [
    {
     "data": {
      "text/plain": [
       "[<matplotlib.axes._subplots.AxesSubplot at 0x11b121690>,\n",
       " <matplotlib.axes._subplots.AxesSubplot at 0x11b121690>,\n",
       " <matplotlib.axes._subplots.AxesSubplot at 0x11b121690>,\n",
       " <matplotlib.axes._subplots.AxesSubplot at 0x11b121690>,\n",
       " <matplotlib.axes._subplots.AxesSubplot at 0x11b121690>]"
      ]
     },
     "execution_count": 80,
     "metadata": {},
     "output_type": "execute_result"
    },
    {
     "data": {
      "image/png": "[encoded data removed]",
      "text/plain": [
       "<matplotlib.figure.Figure at 0x11b171450>"
      ]
     },
     "metadata": {},
     "output_type": "display_data"
    }
   ],
   "source": [
    "[bbp2[j].plot() for j in range(1,len(bbp2))]"
   ]
  },
  {
   "cell_type": "code",
   "execution_count": 81,
   "metadata": {
    "collapsed": false
   },
   "outputs": [],
   "source": [
    "def mcpathbb(nsteps, S0, drift, vol, t):\n",
    "    lrpath=bbxpath(int(np.log2(nsteps)),0,t,vol,drift-(vol**2)/2)\n",
    "    spath=pd.Series(S0*np.exp(lrpath.values),index=lrpath.index)\n",
    "    return spath"
   ]
  },
  {
   "cell_type": "code",
   "execution_count": 82,
   "metadata": {
    "collapsed": false
   },
   "outputs": [
    {
     "data": {
      "text/plain": [
       "<matplotlib.axes._subplots.AxesSubplot at 0x11a877e50>"
      ]
     },
     "execution_count": 82,
     "metadata": {},
     "output_type": "execute_result"
    },
    {
     "data": {
      "image/png": "[encoded data removed]",
      "text/plain": [
       "<matplotlib.figure.Figure at 0x11aee89d0>"
      ]
     },
     "metadata": {},
     "output_type": "display_data"
    }
   ],
   "source": [
    "mcpathbb(nstp2,S0,r-q,vol,T).plot()"
   ]
  },
  {
   "cell_type": "markdown",
   "metadata": {},
   "source": [
    "## Monte Carlo paths generator for Brownian Bridges"
   ]
  },
  {
   "cell_type": "code",
   "execution_count": 83,
   "metadata": {
    "collapsed": true
   },
   "outputs": [],
   "source": [
    "def mcpathsbb(npaths, nsteps, S0, drift, vol, t):\n",
    "    # generate npaths using mcpathbb\n",
    "    paths=pd.DataFrame([mcpathbb(nsteps, S0, drift, vol, t) for j in range(npaths)])\n",
    "    return paths"
   ]
  },
  {
   "cell_type": "code",
   "execution_count": 84,
   "metadata": {
    "collapsed": false
   },
   "outputs": [],
   "source": [
    "testpath3=mcpathsbb(5,nst0,S0,r-q,vol,T)"
   ]
  },
  {
   "cell_type": "code",
   "execution_count": 85,
   "metadata": {
    "collapsed": false
   },
   "outputs": [
    {
     "data": {
      "text/html": [
       "<div>\n",
       "<table border=\"1\" class=\"dataframe\">\n",
       "  <thead>\n",
       "    <tr style=\"text-align: right;\">\n",
       "      <th></th>\n",
       "      <th>0.0</th>\n",
       "      <th>0.00390625</th>\n",
       "      <th>0.0078125</th>\n",
       "      <th>0.01171875</th>\n",
       "      <th>0.015625</th>\n",
       "      <th>0.01953125</th>\n",
       "      <th>0.0234375</th>\n",
       "      <th>0.02734375</th>\n",
       "      <th>0.03125</th>\n",
       "      <th>0.03515625</th>\n",
       "      <th>...</th>\n",
       "      <th>0.46484375</th>\n",
       "      <th>0.46875</th>\n",
       "      <th>0.47265625</th>\n",
       "      <th>0.4765625</th>\n",
       "      <th>0.48046875</th>\n",
       "      <th>0.484375</th>\n",
       "      <th>0.48828125</th>\n",
       "      <th>0.4921875</th>\n",
       "      <th>0.49609375</th>\n",
       "      <th>0.5</th>\n",
       "    </tr>\n",
       "  </thead>\n",
       "  <tbody>\n",
       "    <tr>\n",
       "      <th>0</th>\n",
       "      <td>100.0</td>\n",
       "      <td>101.772268</td>\n",
       "      <td>100.832601</td>\n",
       "      <td>101.048772</td>\n",
       "      <td>101.374002</td>\n",
       "      <td>102.291021</td>\n",
       "      <td>102.160411</td>\n",
       "      <td>102.439090</td>\n",
       "      <td>103.225639</td>\n",
       "      <td>101.948038</td>\n",
       "      <td>...</td>\n",
       "      <td>92.382414</td>\n",
       "      <td>92.476652</td>\n",
       "      <td>92.932523</td>\n",
       "      <td>93.420298</td>\n",
       "      <td>90.480801</td>\n",
       "      <td>90.770212</td>\n",
       "      <td>90.743564</td>\n",
       "      <td>89.986593</td>\n",
       "      <td>88.858473</td>\n",
       "      <td>89.331812</td>\n",
       "    </tr>\n",
       "    <tr>\n",
       "      <th>1</th>\n",
       "      <td>100.0</td>\n",
       "      <td>100.186166</td>\n",
       "      <td>99.702330</td>\n",
       "      <td>100.744370</td>\n",
       "      <td>99.653367</td>\n",
       "      <td>100.016643</td>\n",
       "      <td>97.921374</td>\n",
       "      <td>97.304484</td>\n",
       "      <td>96.150990</td>\n",
       "      <td>96.610923</td>\n",
       "      <td>...</td>\n",
       "      <td>101.383597</td>\n",
       "      <td>101.929245</td>\n",
       "      <td>101.762728</td>\n",
       "      <td>102.606417</td>\n",
       "      <td>104.312764</td>\n",
       "      <td>103.878828</td>\n",
       "      <td>104.195924</td>\n",
       "      <td>103.933761</td>\n",
       "      <td>103.629661</td>\n",
       "      <td>103.376399</td>\n",
       "    </tr>\n",
       "    <tr>\n",
       "      <th>2</th>\n",
       "      <td>100.0</td>\n",
       "      <td>101.120609</td>\n",
       "      <td>102.019498</td>\n",
       "      <td>101.916048</td>\n",
       "      <td>102.294312</td>\n",
       "      <td>104.185909</td>\n",
       "      <td>102.925385</td>\n",
       "      <td>102.647832</td>\n",
       "      <td>101.236587</td>\n",
       "      <td>101.089329</td>\n",
       "      <td>...</td>\n",
       "      <td>87.004768</td>\n",
       "      <td>85.897694</td>\n",
       "      <td>86.844495</td>\n",
       "      <td>86.726249</td>\n",
       "      <td>85.025789</td>\n",
       "      <td>83.913083</td>\n",
       "      <td>84.150772</td>\n",
       "      <td>86.156386</td>\n",
       "      <td>86.216084</td>\n",
       "      <td>86.714935</td>\n",
       "    </tr>\n",
       "    <tr>\n",
       "      <th>3</th>\n",
       "      <td>100.0</td>\n",
       "      <td>97.368450</td>\n",
       "      <td>97.878232</td>\n",
       "      <td>97.510509</td>\n",
       "      <td>98.194527</td>\n",
       "      <td>97.721148</td>\n",
       "      <td>97.542901</td>\n",
       "      <td>95.709934</td>\n",
       "      <td>97.672497</td>\n",
       "      <td>97.687353</td>\n",
       "      <td>...</td>\n",
       "      <td>105.742791</td>\n",
       "      <td>104.682434</td>\n",
       "      <td>104.007851</td>\n",
       "      <td>103.856057</td>\n",
       "      <td>104.666978</td>\n",
       "      <td>104.480626</td>\n",
       "      <td>103.379344</td>\n",
       "      <td>104.214347</td>\n",
       "      <td>102.654849</td>\n",
       "      <td>102.441125</td>\n",
       "    </tr>\n",
       "    <tr>\n",
       "      <th>4</th>\n",
       "      <td>100.0</td>\n",
       "      <td>100.759063</td>\n",
       "      <td>100.912634</td>\n",
       "      <td>100.550964</td>\n",
       "      <td>99.227665</td>\n",
       "      <td>98.755909</td>\n",
       "      <td>99.940514</td>\n",
       "      <td>102.615588</td>\n",
       "      <td>102.768014</td>\n",
       "      <td>101.401517</td>\n",
       "      <td>...</td>\n",
       "      <td>99.645582</td>\n",
       "      <td>99.651001</td>\n",
       "      <td>101.178729</td>\n",
       "      <td>102.602226</td>\n",
       "      <td>101.693803</td>\n",
       "      <td>100.352138</td>\n",
       "      <td>100.674459</td>\n",
       "      <td>99.401610</td>\n",
       "      <td>100.670056</td>\n",
       "      <td>98.392324</td>\n",
       "    </tr>\n",
       "  </tbody>\n",
       "</table>\n",
       "<p>5 rows × 129 columns</p>\n",
       "</div>"
      ],
      "text/plain": [
       "   0.000000    0.003906    0.007812    0.011719    0.015625    0.019531  \\\n",
       "0     100.0  101.772268  100.832601  101.048772  101.374002  102.291021   \n",
       "1     100.0  100.186166   99.702330  100.744370   99.653367  100.016643   \n",
       "2     100.0  101.120609  102.019498  101.916048  102.294312  104.185909   \n",
       "3     100.0   97.368450   97.878232   97.510509   98.194527   97.721148   \n",
       "4     100.0  100.759063  100.912634  100.550964   99.227665   98.755909   \n",
       "\n",
       "     0.023438    0.027344    0.031250    0.035156     ...        0.464844  \\\n",
       "0  102.160411  102.439090  103.225639  101.948038     ...       92.382414   \n",
       "1   97.921374   97.304484   96.150990   96.610923     ...      101.383597   \n",
       "2  102.925385  102.647832  101.236587  101.089329     ...       87.004768   \n",
       "3   97.542901   95.709934   97.672497   97.687353     ...      105.742791   \n",
       "4   99.940514  102.615588  102.768014  101.401517     ...       99.645582   \n",
       "\n",
       "     0.468750    0.472656    0.476562    0.480469    0.484375    0.488281  \\\n",
       "0   92.476652   92.932523   93.420298   90.480801   90.770212   90.743564   \n",
       "1  101.929245  101.762728  102.606417  104.312764  103.878828  104.195924   \n",
       "2   85.897694   86.844495   86.726249   85.025789   83.913083   84.150772   \n",
       "3  104.682434  104.007851  103.856057  104.666978  104.480626  103.379344   \n",
       "4   99.651001  101.178729  102.602226  101.693803  100.352138  100.674459   \n",
       "\n",
       "     0.492188    0.496094    0.500000  \n",
       "0   89.986593   88.858473   89.331812  \n",
       "1  103.933761  103.629661  103.376399  \n",
       "2   86.156386   86.216084   86.714935  \n",
       "3  104.214347  102.654849  102.441125  \n",
       "4   99.401610  100.670056   98.392324  \n",
       "\n",
       "[5 rows x 129 columns]"
      ]
     },
     "execution_count": 85,
     "metadata": {},
     "output_type": "execute_result"
    }
   ],
   "source": [
    "testpath3"
   ]
  },
  {
   "cell_type": "code",
   "execution_count": 86,
   "metadata": {
    "collapsed": false
   },
   "outputs": [
    {
     "data": {
      "text/plain": [
       "<matplotlib.axes._subplots.AxesSubplot at 0x11b1f1490>"
      ]
     },
     "execution_count": 86,
     "metadata": {},
     "output_type": "execute_result"
    },
    {
     "data": {
      "image/png": "[encoded data removed]",
      "text/plain": [
       "<matplotlib.figure.Figure at 0x11aacb6d0>"
      ]
     },
     "metadata": {},
     "output_type": "display_data"
    }
   ],
   "source": [
    "testpath3.transpose().plot()"
   ]
  },
  {
   "cell_type": "code",
   "execution_count": 87,
   "metadata": {
    "collapsed": false
   },
   "outputs": [],
   "source": [
    "testpath4=mcpathsbb(npth,1,S0,r-q,vol,T)"
   ]
  },
  {
   "cell_type": "code",
   "execution_count": 88,
   "metadata": {
    "collapsed": false
   },
   "outputs": [
    {
     "data": {
      "text/plain": [
       "[100.0, 99.85966505680484]"
      ]
     },
     "execution_count": 88,
     "metadata": {},
     "output_type": "execute_result"
    }
   ],
   "source": [
    "[100*np.exp((r-q)*T),(testpath4.transpose()).iloc[1].mean()]"
   ]
  },
  {
   "cell_type": "code",
   "execution_count": 89,
   "metadata": {
    "collapsed": true
   },
   "outputs": [],
   "source": [
    "putpocalc2=np.maximum((K-(testpath4.transpose()).iloc[1]),0).mean()\n",
    "callpocalc2=np.maximum(((testpath4.transpose()-K).iloc[1]),0).mean()"
   ]
  },
  {
   "cell_type": "code",
   "execution_count": 90,
   "metadata": {
    "collapsed": false
   },
   "outputs": [
    {
     "data": {
      "text/plain": [
       "[5.6371977797016655, 5.7018148549505101]"
      ]
     },
     "execution_count": 90,
     "metadata": {},
     "output_type": "execute_result"
    }
   ],
   "source": [
    "[putpr, putpocalc2*np.exp(-r*T)]"
   ]
  },
  {
   "cell_type": "code",
   "execution_count": 91,
   "metadata": {
    "collapsed": false
   },
   "outputs": [
    {
     "data": {
      "text/plain": [
       "[5.6371977797016655, 5.56147991175584]"
      ]
     },
     "execution_count": 91,
     "metadata": {},
     "output_type": "execute_result"
    }
   ],
   "source": [
    "[callpr, callpocalc2*np.exp(-r*T)]"
   ]
  },
  {
   "cell_type": "code",
   "execution_count": 92,
   "metadata": {
    "collapsed": false
   },
   "outputs": [
    {
     "data": {
      "text/plain": [
       "[5.6371977797016655, 5.6316473833531751]"
      ]
     },
     "execution_count": 92,
     "metadata": {},
     "output_type": "execute_result"
    }
   ],
   "source": [
    "[(putpr+callpr)/2, (putpocalc2+callpocalc2)*np.exp(-r*T)/2]"
   ]
  },
  {
   "cell_type": "markdown",
   "metadata": {},
   "source": [
    "## Controling the Brownian Bridges"
   ]
  },
  {
   "cell_type": "markdown",
   "metadata": {},
   "source": [
    "    One new point ( S(T) ) and one new interval ( S(0)->S(T) ) is defined\n",
    "    \n",
    "    The payoff is calculated using S(T)\n",
    "    \n",
    "    For each new point S(t) check if the barrier is hit ( S(t) <= H )\n",
    "    If the barrier is hit:\n",
    "        Payoff = 0\n",
    "        Stop path generation\n",
    "    \n",
    "    If barrier was not hit for the new points S(t):\n",
    "        Calculate the probability of hitting the barrier at the midpoint of each interval defined by these new S(t)\n",
    "        If the probability is lower than a threshold, freeze this interval (i.e. do not subdivide it further)\n",
    "        If the probability is higher than the threshold, generate the midpoint\n",
    "        \n",
    "    Go back to the test S(t) <= H"
   ]
  },
  {
   "cell_type": "markdown",
   "metadata": {},
   "source": [
    "The algorithm above will be run using the logreturns; asset prices will be calculated as necessary"
   ]
  },
  {
   "cell_type": "code",
   "execution_count": 93,
   "metadata": {
    "collapsed": true
   },
   "outputs": [],
   "source": [
    "def prhit(s0,sT,h,vol,dt):\n",
    "    if h<min(s0,st):\n",
    "        return np.exp((-2*np.log(h/s0)*np.log(h/sT))/(dt*vol**2))\n",
    "    else:\n",
    "        return 1"
   ]
  },
  {
   "cell_type": "code",
   "execution_count": 94,
   "metadata": {
    "collapsed": false
   },
   "outputs": [
    {
     "data": {
      "text/plain": [
       "<matplotlib.axes._subplots.AxesSubplot at 0x118fac9d0>"
      ]
     },
     "execution_count": 94,
     "metadata": {},
     "output_type": "execute_result"
    },
    {
     "data": {
      "image/png": "[encoded data removed]",
      "text/plain": [
       "<matplotlib.figure.Figure at 0x11a1faad0>"
      ]
     },
     "metadata": {},
     "output_type": "display_data"
    }
   ],
   "source": [
    "pd.Series(np.array([prhit(S0,S0,h,vol,T) for h in range(S0-20,S0)]),index=np.arange(S0-20,S0)).plot()"
   ]
  },
  {
   "cell_type": "code",
   "execution_count": 137,
   "metadata": {
    "collapsed": false
   },
   "outputs": [],
   "source": [
    "def adaptbb(nsteps, S0, K, H, drift, vol, T, alfa, ccf):\n",
    "    m=int(np.log2(nsteps))\n",
    "    h=np.log(H/S0)\n",
    "    # We started with only w0=0\n",
    "    # Now we generate the first point: wT\n",
    "    wT=drift*T+np.random.standard_normal()*vol*np.sqrt(T)\n",
    "    # And we calculate the payoff\n",
    "    ST=S0*np.exp(wT)\n",
    "    PO=max(K-ST,0)\n",
    "    # initial values for the answer\n",
    "    tint=np.array([0,T])\n",
    "    wint=np.array([0,wT])\n",
    "    w=pd.Series(wint,index=tint)\n",
    "    # Initial check for the barrier and the counter of the depth of the Brownian Bridge\n",
    "    if (wT<=h):\n",
    "        hit=1\n",
    "        PO=0\n",
    "    else:\n",
    "        hit=0\n",
    "    # Initial value for the counter of the depth of the Brownian Bridge\n",
    "    mc=1\n",
    "    # The lst arrays indicate the last points generated (to check for a barrier hit)\n",
    "    lstt=np.array([T])\n",
    "    lstw=np.array([wT])\n",
    "    # And the lstint arrays indicate the last intervals generated (to calculate the probability in their midpoints)\n",
    "    # These arrays have jx2 dimension, each call retrieves a row with the extremes of the interval\n",
    "    lstintt=np.array([[0,T]])\n",
    "    lstintw=np.array([[0,wT]])\n",
    "    lstintv=S0*np.exp(lstintw)\n",
    "    # We need to check the intervals in the case of no additional points generated\n",
    "    # So we initialize the temporary variable of the new intervals in a different way\n",
    "    loopt=np.array([[1]])\n",
    "    while (hit==0 and mc<=m and np.any(loopt)):\n",
    "        # add inner loop with j over all possible values of lstintt, lstintv and lstintw\n",
    "        loopt=np.array([0])\n",
    "        loopw=np.array([0])\n",
    "        loopintt=np.array([0,0])\n",
    "        loopintw=np.array([0,0])\n",
    "        for j in range(len(lstintt)):\n",
    "            # Adjust barrier in probability calculation\n",
    "            if prhit(lstintv[j][0],lstintv[j][1],H*ccf,vol,lstintt[j][1]-lstintt[j][0])>alfa:\n",
    "                newt=(lstintt[j][0]+lstintt[j][1])/2\n",
    "                newx=bbx(lstintt[j][0],lstintt[j][1],newt,lstintw[j][0],lstintw[j][1],vol)\n",
    "                loopt=np.append(loopt,newt)\n",
    "                loopw=np.append(loopw,newx)\n",
    "                newintt1=np.array([lstintt[j][0],newt])\n",
    "                newintt2=np.array([newt,lstintt[j][1]])\n",
    "                loopintt=np.vstack((loopintt,newintt1,newintt2))\n",
    "                newintw1=np.array([lstintw[j][0],newx])\n",
    "                newintw2=np.array([newx,lstintw[j][1]])\n",
    "                loopintw=np.vstack((loopintw,newintw1,newintw2))\n",
    "                # add to array of new points if prob>alfa\n",
    "        lstt=loopt[1:]\n",
    "        lstw=loopw[1:]\n",
    "        neww=pd.Series(lstw,index=lstt)\n",
    "        w=pd.concat([w,neww]).sort_index()\n",
    "        lstintt=loopintt[1:]\n",
    "        lstintw=loopintw[1:]\n",
    "        lstintv=S0*np.exp(lstintw)\n",
    "        mc=mc+1\n",
    "        # Just check the minimum of lstw, no need to check them all\n",
    "        if np.any(loopt):\n",
    "            if np.amin(lstw)<=h:\n",
    "                hit=1\n",
    "                PO=0\n",
    "    ans1=[S0*np.exp(w),hit,PO]\n",
    "    return ans1"
   ]
  },
  {
   "cell_type": "code",
   "execution_count": 96,
   "metadata": {
    "collapsed": true
   },
   "outputs": [],
   "source": [
    "alfa1=0.01"
   ]
  },
  {
   "cell_type": "code",
   "execution_count": 138,
   "metadata": {
    "collapsed": false
   },
   "outputs": [
    {
     "data": {
      "text/plain": [
       "[[0.0    100.000000\n",
       "  0.5    100.790067\n",
       "  dtype: float64, 0, 0], [0.0    100.000000\n",
       "  0.5    115.368405\n",
       "  dtype: float64, 0, 0], [0.0    100.00000\n",
       "  0.5    118.62238\n",
       "  dtype: float64, 0, 0], [0.0    100.000000\n",
       "  0.5    102.578343\n",
       "  dtype: float64, 0, 0], [0.0    100.000000\n",
       "  0.5    102.713434\n",
       "  dtype: float64, 0, 0], [0.0    100.000000\n",
       "  0.5     91.489381\n",
       "  dtype: float64, 0, 8.5106189638505754], [0.0    100.000000\n",
       "  0.5    104.679208\n",
       "  dtype: float64, 0, 0], [0.0    100.000000\n",
       "  0.5     68.626174\n",
       "  dtype: float64, 1, 0], [0.0    100.000000\n",
       "  0.5    101.149779\n",
       "  dtype: float64, 0, 0], [0.0    100.000000\n",
       "  0.5     84.728364\n",
       "  dtype: float64, 1, 0]]"
      ]
     },
     "execution_count": 138,
     "metadata": {},
     "output_type": "execute_result"
    }
   ],
   "source": [
    "[adaptbb(1, S0, K, H, r-q, vol, T, alfa1, ccf) for j in range(10)]"
   ]
  },
  {
   "cell_type": "code",
   "execution_count": 139,
   "metadata": {
    "collapsed": false
   },
   "outputs": [
    {
     "data": {
      "text/plain": [
       "[[0.0    100.000000\n",
       "  0.5    115.742005\n",
       "  dtype: float64, 0, 0], [0.0    100.00000\n",
       "  0.5    119.34081\n",
       "  dtype: float64, 0, 0], [0.00    100.000000\n",
       "  0.25    107.773169\n",
       "  0.50     98.934891\n",
       "  dtype: float64, 0, 1.0651089423237607], [0.00    100.000000\n",
       "  0.25     89.614371\n",
       "  0.50     91.916723\n",
       "  dtype: float64, 0, 8.0832766433878618], [0.00    100.000000\n",
       "  0.25    107.091596\n",
       "  0.50     95.029271\n",
       "  dtype: float64, 0, 4.9707286464643659]]"
      ]
     },
     "execution_count": 139,
     "metadata": {},
     "output_type": "execute_result"
    }
   ],
   "source": [
    "[adaptbb(2, S0, K, H, r-q, vol, T, alfa1, ccf) for j in range(5)]"
   ]
  },
  {
   "cell_type": "code",
   "execution_count": 140,
   "metadata": {
    "collapsed": false
   },
   "outputs": [
    {
     "data": {
      "text/plain": [
       "[[0.000    100.000000\n",
       "  0.125     91.962565\n",
       "  0.250     93.021097\n",
       "  0.375     92.863010\n",
       "  0.500     91.179758\n",
       "  dtype: float64, 0, 8.8202420512101156], [0.000    100.000000\n",
       "  0.125    105.030520\n",
       "  0.250     90.609342\n",
       "  0.375     91.035237\n",
       "  0.500     88.472433\n",
       "  dtype: float64, 0, 11.527567413530633], [0.00    100.000000\n",
       "  0.25    101.601762\n",
       "  0.50    107.571147\n",
       "  dtype: float64, 0, 0], [0.00    100.000000\n",
       "  0.25     99.901476\n",
       "  0.50     97.441797\n",
       "  dtype: float64, 0, 2.5582029585635979], [0.000    100.000000\n",
       "  0.250     97.521992\n",
       "  0.375     97.370928\n",
       "  0.500     92.420920\n",
       "  dtype: float64, 0, 7.5790801823258818], [0.0    100.000000\n",
       "  0.5     77.918408\n",
       "  dtype: float64, 1, 0], [0.0    100.00000\n",
       "  0.5    110.93359\n",
       "  dtype: float64, 0, 0], [0.0    100.000000\n",
       "  0.5    119.006503\n",
       "  dtype: float64, 0, 0], [0.00    100.000000\n",
       "  0.25     84.325682\n",
       "  0.50    105.700565\n",
       "  dtype: float64, 1, 0], [0.000    100.000000\n",
       "  0.250    106.773892\n",
       "  0.375     97.721870\n",
       "  0.500     88.664576\n",
       "  dtype: float64, 0, 11.335423836027616]]"
      ]
     },
     "execution_count": 140,
     "metadata": {},
     "output_type": "execute_result"
    }
   ],
   "source": [
    "[adaptbb(4, S0, K, H, r-q, vol, T, alfa1, ccf) for j in range(10)]"
   ]
  },
  {
   "cell_type": "code",
   "execution_count": 141,
   "metadata": {
    "collapsed": false
   },
   "outputs": [
    {
     "data": {
      "text/plain": [
       "[[0.0    100.000000\n",
       "  0.5    115.501547\n",
       "  dtype: float64, 0, 0], [0.0    100.000000\n",
       "  0.5     76.517813\n",
       "  dtype: float64, 1, 0], [0.0000    100.000000\n",
       "  0.0625     89.176046\n",
       "  0.1250     87.774163\n",
       "  0.1875     91.477103\n",
       "  0.2500     96.398720\n",
       "  0.5000    107.952648\n",
       "  dtype: float64, 0, 0], [0.0    100.000000\n",
       "  0.5    115.225553\n",
       "  dtype: float64, 0, 0], [0.0    100.000000\n",
       "  0.5    119.332988\n",
       "  dtype: float64, 0, 0], [0.0000    100.000000\n",
       "  0.1250     95.125619\n",
       "  0.2500     93.267181\n",
       "  0.3125     87.708952\n",
       "  0.3750     88.094559\n",
       "  0.4375     86.785860\n",
       "  0.5000     91.236610\n",
       "  dtype: float64, 0, 8.7633900947954402], [0.000    100.000000\n",
       "  0.250     96.820497\n",
       "  0.375    103.145316\n",
       "  0.500     92.419363\n",
       "  dtype: float64, 0, 7.5806373887869256], [0.000    100.000000\n",
       "  0.250    102.660115\n",
       "  0.375     97.962427\n",
       "  0.500     91.479421\n",
       "  dtype: float64, 0, 8.5205788273944165], [0.00    100.000000\n",
       "  0.25    106.526269\n",
       "  0.50     98.865378\n",
       "  dtype: float64, 0, 1.1346224895728056], [0.0    100.000000\n",
       "  0.5     80.444201\n",
       "  dtype: float64, 1, 0]]"
      ]
     },
     "execution_count": 141,
     "metadata": {},
     "output_type": "execute_result"
    }
   ],
   "source": [
    "[adaptbb(8, S0, K, H, r-q, vol, T, alfa1, ccf) for j in range(10)]"
   ]
  },
  {
   "cell_type": "markdown",
   "metadata": {},
   "source": [
    "### Checking the results"
   ]
  },
  {
   "cell_type": "code",
   "execution_count": 143,
   "metadata": {
    "collapsed": true
   },
   "outputs": [],
   "source": [
    "def checkpath(x, H):\n",
    "    if np.amin(x)<=H:\n",
    "        return 1\n",
    "    else:\n",
    "        return 0"
   ]
  },
  {
   "cell_type": "code",
   "execution_count": 142,
   "metadata": {
    "collapsed": false
   },
   "outputs": [],
   "source": [
    "adappathsplus1=[adaptbb(nst0, S0, K, H, r-q, vol, T, alfa1, ccf) for j in range(npth)]"
   ]
  },
  {
   "cell_type": "code",
   "execution_count": 144,
   "metadata": {
    "collapsed": false
   },
   "outputs": [],
   "source": [
    "adappaths1=[x[0] for x in adappathsplus1]\n",
    "adaphits1=np.array([x[1] for x in adappathsplus1])\n",
    "adapPOs1=np.array([x[2] for x in adappathsplus1])"
   ]
  },
  {
   "cell_type": "code",
   "execution_count": 145,
   "metadata": {
    "collapsed": false
   },
   "outputs": [
    {
     "data": {
      "text/plain": [
       "223602"
      ]
     },
     "execution_count": 145,
     "metadata": {},
     "output_type": "execute_result"
    }
   ],
   "source": [
    "adapsize1=np.sum([len(x) for x in adappaths1])\n",
    "adapsize1"
   ]
  },
  {
   "cell_type": "code",
   "execution_count": 147,
   "metadata": {
    "collapsed": false
   },
   "outputs": [],
   "source": [
    "adapmin1=np.array([checkpath(x, H) for x in adappaths1])"
   ]
  },
  {
   "cell_type": "code",
   "execution_count": 148,
   "metadata": {
    "collapsed": false
   },
   "outputs": [
    {
     "data": {
      "text/plain": [
       "False"
      ]
     },
     "execution_count": 148,
     "metadata": {},
     "output_type": "execute_result"
    }
   ],
   "source": [
    "np.any(adapmin1-adaphits1)"
   ]
  },
  {
   "cell_type": "code",
   "execution_count": 150,
   "metadata": {
    "collapsed": false
   },
   "outputs": [
    {
     "data": {
      "text/plain": [
       "[0.2233, 0.2233]"
      ]
     },
     "execution_count": 150,
     "metadata": {},
     "output_type": "execute_result"
    }
   ],
   "source": [
    "[adapmin1.mean(),adaphits1.mean()]"
   ]
  },
  {
   "cell_type": "code",
   "execution_count": 151,
   "metadata": {
    "collapsed": false
   },
   "outputs": [
    {
     "data": {
      "text/plain": [
       "1.6607253706908296"
      ]
     },
     "execution_count": 151,
     "metadata": {},
     "output_type": "execute_result"
    }
   ],
   "source": [
    "adappr1=(adapPOs1.mean())*np.exp(-r*T)\n",
    "adappr1"
   ]
  },
  {
   "cell_type": "code",
   "execution_count": 152,
   "metadata": {
    "collapsed": false
   },
   "outputs": [],
   "source": [
    "adapPOsroll1=(adapPOs1*np.exp(-r*T)).cumsum()/np.array(np.arange(1,npth+1))"
   ]
  },
  {
   "cell_type": "code",
   "execution_count": 182,
   "metadata": {
    "collapsed": false
   },
   "outputs": [
    {
     "data": {
      "text/plain": [
       "array([ 0.        ,  0.        ,  0.        , ...,  1.66059559,\n",
       "        1.66072336,  1.66072537])"
      ]
     },
     "execution_count": 182,
     "metadata": {},
     "output_type": "execute_result"
    }
   ],
   "source": [
    "adapPOsroll1"
   ]
  },
  {
   "cell_type": "code",
   "execution_count": 153,
   "metadata": {
    "collapsed": true
   },
   "outputs": [],
   "source": [
    "alfa2=0.0001"
   ]
  },
  {
   "cell_type": "code",
   "execution_count": 154,
   "metadata": {
    "collapsed": false
   },
   "outputs": [],
   "source": [
    "adappathsplus2=[adaptbb(nst0, S0, K, H, r-q, vol, T, alfa2, ccf) for j in range(npth)]"
   ]
  },
  {
   "cell_type": "code",
   "execution_count": 155,
   "metadata": {
    "collapsed": false
   },
   "outputs": [],
   "source": [
    "adappaths2=[x[0] for x in adappathsplus2]\n",
    "adaphits2=np.array([x[1] for x in adappathsplus2])\n",
    "adapPOs2=np.array([x[2] for x in adappathsplus2])"
   ]
  },
  {
   "cell_type": "code",
   "execution_count": 156,
   "metadata": {
    "collapsed": false
   },
   "outputs": [
    {
     "data": {
      "text/plain": [
       "372998"
      ]
     },
     "execution_count": 156,
     "metadata": {},
     "output_type": "execute_result"
    }
   ],
   "source": [
    "adapsize2=np.sum([len(x) for x in adappaths2])\n",
    "adapsize2"
   ]
  },
  {
   "cell_type": "code",
   "execution_count": 157,
   "metadata": {
    "collapsed": false
   },
   "outputs": [
    {
     "data": {
      "text/plain": [
       "0.23318"
      ]
     },
     "execution_count": 157,
     "metadata": {},
     "output_type": "execute_result"
    }
   ],
   "source": [
    "adaphits2.mean()"
   ]
  },
  {
   "cell_type": "code",
   "execution_count": 158,
   "metadata": {
    "collapsed": false
   },
   "outputs": [
    {
     "data": {
      "text/plain": [
       "1.6334964581129261"
      ]
     },
     "execution_count": 158,
     "metadata": {},
     "output_type": "execute_result"
    }
   ],
   "source": [
    "adappr2=(adapPOs2.mean())*np.exp(-r*T)\n",
    "adappr2"
   ]
  },
  {
   "cell_type": "code",
   "execution_count": 159,
   "metadata": {
    "collapsed": false
   },
   "outputs": [],
   "source": [
    "adapPOsroll2=(adapPOs2*np.exp(-r*T)).cumsum()/np.array(np.arange(1,npth+1))"
   ]
  },
  {
   "cell_type": "code",
   "execution_count": 162,
   "metadata": {
    "collapsed": true
   },
   "outputs": [],
   "source": [
    "npth3=10*npth"
   ]
  },
  {
   "cell_type": "code",
   "execution_count": 163,
   "metadata": {
    "collapsed": false
   },
   "outputs": [],
   "source": [
    "adappathsplus3=[adaptbb(nst0, S0, K, H, r-q, vol, T, alfa1, ccf) for j in range(npth3)]"
   ]
  },
  {
   "cell_type": "code",
   "execution_count": 164,
   "metadata": {
    "collapsed": false
   },
   "outputs": [],
   "source": [
    "adappaths3=[x[0] for x in adappathsplus3]\n",
    "adaphits3=np.array([x[1] for x in adappathsplus3])\n",
    "adapPOs3=np.array([x[2] for x in adappathsplus3])"
   ]
  },
  {
   "cell_type": "code",
   "execution_count": 165,
   "metadata": {
    "collapsed": false
   },
   "outputs": [
    {
     "data": {
      "text/plain": [
       "2240389"
      ]
     },
     "execution_count": 165,
     "metadata": {},
     "output_type": "execute_result"
    }
   ],
   "source": [
    "adapsize3=np.sum([len(x) for x in adappaths3])\n",
    "adapsize3"
   ]
  },
  {
   "cell_type": "code",
   "execution_count": 166,
   "metadata": {
    "collapsed": false
   },
   "outputs": [
    {
     "data": {
      "text/plain": [
       "0.225162"
      ]
     },
     "execution_count": 166,
     "metadata": {},
     "output_type": "execute_result"
    }
   ],
   "source": [
    "adaphits3.mean()"
   ]
  },
  {
   "cell_type": "code",
   "execution_count": 167,
   "metadata": {
    "collapsed": false
   },
   "outputs": [
    {
     "data": {
      "text/plain": [
       "1.6407223612580173"
      ]
     },
     "execution_count": 167,
     "metadata": {},
     "output_type": "execute_result"
    }
   ],
   "source": [
    "adappr3=(adapPOs3.mean())*np.exp(-r*T)\n",
    "adappr3"
   ]
  },
  {
   "cell_type": "code",
   "execution_count": 168,
   "metadata": {
    "collapsed": false
   },
   "outputs": [],
   "source": [
    "adapPOsroll3=(adapPOs3*np.exp(-r*T)).cumsum()/np.array(np.arange(1,npth3+1))"
   ]
  },
  {
   "cell_type": "markdown",
   "metadata": {},
   "source": [
    "### Convergence analysis"
   ]
  },
  {
   "cell_type": "code",
   "execution_count": 173,
   "metadata": {
    "collapsed": false
   },
   "outputs": [],
   "source": [
    "dfroll=pd.DataFrame({\"MC\":pr85roll,\"BB1\":adapPOsroll1,\"BB2\":adapPOsroll2})"
   ]
  },
  {
   "cell_type": "code",
   "execution_count": 198,
   "metadata": {
    "collapsed": false
   },
   "outputs": [],
   "source": [
    "dfroll2=pd.DataFrame({\"BB3\":adapPOsroll3})"
   ]
  },
  {
   "cell_type": "code",
   "execution_count": 199,
   "metadata": {
    "collapsed": true
   },
   "outputs": [],
   "source": [
    "dfroll2[\"MC\"]=pr85roll"
   ]
  },
  {
   "cell_type": "code",
   "execution_count": 200,
   "metadata": {
    "collapsed": false
   },
   "outputs": [],
   "source": [
    "dfroll2[\"BB1\"]=pd.Series(adapPOsroll1)\n",
    "dfroll2[\"BB2\"]=pd.Series(adapPOsroll2)"
   ]
  },
  {
   "cell_type": "code",
   "execution_count": 203,
   "metadata": {
    "collapsed": false
   },
   "outputs": [
    {
     "data": {
      "text/plain": [
       "<matplotlib.text.Text at 0x18dbb0d50>"
      ]
     },
     "execution_count": 203,
     "metadata": {},
     "output_type": "execute_result"
    },
    {
     "data": {
      "image/png": "[encoded data removed]",
      "text/plain": [
       "<matplotlib.figure.Figure at 0x1912072d0>"
      ]
     },
     "metadata": {},
     "output_type": "display_data"
    }
   ],
   "source": [
    "chrt1=dfroll.plot(ylim=[putKOprcc-0.25,putKOprcc+0.25])\n",
    "plt.axhline(putKOprcc, color='grey')\n",
    "chrt1.set_xlabel('# of paths')\n",
    "chrt1.set_ylabel('Premium values')"
   ]
  },
  {
   "cell_type": "code",
   "execution_count": 202,
   "metadata": {
    "collapsed": false
   },
   "outputs": [
    {
     "data": {
      "text/plain": [
       "<matplotlib.text.Text at 0x1276d4ed0>"
      ]
     },
     "execution_count": 202,
     "metadata": {},
     "output_type": "execute_result"
    },
    {
     "data": {
      "image/png": "[encoded data removed]",
      "text/plain": [
       "<matplotlib.figure.Figure at 0x18dcba9d0>"
      ]
     },
     "metadata": {},
     "output_type": "display_data"
    }
   ],
   "source": [
    "chrt1=dfroll2.plot(ylim=[putKOprcc-0.25,putKOprcc+0.25])\n",
    "plt.axhline(putKOprcc, color='grey')\n",
    "chrt1.set_xlabel('# of paths')\n",
    "chrt1.set_ylabel('Premium values')"
   ]
  },
  {
   "cell_type": "markdown",
   "metadata": {
    "collapsed": true
   },
   "source": [
    "## Table 1: Comparison of the number of points, calculated values and frequency of barrier hits"
   ]
  },
  {
   "cell_type": "code",
   "execution_count": 205,
   "metadata": {
    "collapsed": false
   },
   "outputs": [
    {
     "data": {
      "text/html": [
       "<div>\n",
       "<table border=\"1\" class=\"dataframe\">\n",
       "  <thead>\n",
       "    <tr style=\"text-align: right;\">\n",
       "      <th></th>\n",
       "      <th>Number of points (millions)</th>\n",
       "      <th>RKO premium</th>\n",
       "      <th>Barrier hits</th>\n",
       "    </tr>\n",
       "    <tr>\n",
       "      <th>Method</th>\n",
       "      <th></th>\n",
       "      <th></th>\n",
       "      <th></th>\n",
       "    </tr>\n",
       "  </thead>\n",
       "  <tbody>\n",
       "    <tr>\n",
       "      <th>Formula</th>\n",
       "      <td>NaN</td>\n",
       "      <td>1.69664927074</td>\n",
       "      <td>0.249879633104</td>\n",
       "    </tr>\n",
       "    <tr>\n",
       "      <th>MC</th>\n",
       "      <td>6.45</td>\n",
       "      <td>1.70771</td>\n",
       "      <td>0.2518</td>\n",
       "    </tr>\n",
       "    <tr>\n",
       "      <th>BB 1%</th>\n",
       "      <td>0.223602</td>\n",
       "      <td>1.66073</td>\n",
       "      <td>0.2233</td>\n",
       "    </tr>\n",
       "    <tr>\n",
       "      <th>BB 0.1%</th>\n",
       "      <td>0.372998</td>\n",
       "      <td>1.6335</td>\n",
       "      <td>0.23318</td>\n",
       "    </tr>\n",
       "    <tr>\n",
       "      <th>More BB 1%</th>\n",
       "      <td>2.24039</td>\n",
       "      <td>1.64072</td>\n",
       "      <td>0.225162</td>\n",
       "    </tr>\n",
       "  </tbody>\n",
       "</table>\n",
       "</div>"
      ],
      "text/plain": [
       "           Number of points (millions)    RKO premium    Barrier hits\n",
       "Method                                                               \n",
       "Formula                            NaN  1.69664927074  0.249879633104\n",
       "MC                                6.45        1.70771          0.2518\n",
       "BB 1%                         0.223602        1.66073          0.2233\n",
       "BB 0.1%                       0.372998         1.6335         0.23318\n",
       "More BB 1%                     2.24039        1.64072        0.225162"
      ]
     },
     "execution_count": 205,
     "metadata": {},
     "output_type": "execute_result"
    }
   ],
   "source": [
    "frmsize='NaN'\n",
    "frmpremium=putKOprcc\n",
    "frmhits=ph85cc\n",
    "mcsize=(nst0+1)*npth/1e+06\n",
    "mcpremium=pr85\n",
    "mchits=hit85.mean()\n",
    "bbsize1=adapsize1/1e+06\n",
    "bbpremium1=adappr1\n",
    "bbhits1=adaphits1.mean()\n",
    "bbsize2=adapsize2/1e+06\n",
    "bbpremium2=adappr2\n",
    "bbhits2=adaphits2.mean()\n",
    "bbsize3=adapsize3/1e+06\n",
    "bbpremium3=adappr3\n",
    "bbhits3=adaphits3.mean()\n",
    "frmbanumbers=np.array([frmsize,frmpremium,frmhits])\n",
    "mcnumbers=np.array([mcsize,mcpremium,mchits])\n",
    "bbnumbers1=np.array([bbsize1,bbpremium1,bbhits1])\n",
    "bbnumbers2=np.array([bbsize2,bbpremium2,bbhits2])\n",
    "bbnumbers3=np.array([bbsize3,bbpremium3,bbhits3])\n",
    "dfsumm=pd.DataFrame([frmbanumbers,mcnumbers,bbnumbers1,bbnumbers2,bbnumbers3],\\\n",
    "                    index=[\"Formula\",\"MC\",\"BB 1%\",\"BB 0.1%\",\"More BB 1%\"],\\\n",
    "                    columns=['Number of points (millions)', 'RKO premium', 'Barrier hits'])\n",
    "dfsumm.index.name='Method'\n",
    "dfsumm"
   ]
  },
  {
   "cell_type": "markdown",
   "metadata": {},
   "source": [
    "### Error analysis"
   ]
  },
  {
   "cell_type": "markdown",
   "metadata": {},
   "source": [
    "The downward bias after 10000 paths is interesting, and it doesn't disappear with more paths (see simulation 3, legend \"More BB 1%)."
   ]
  },
  {
   "cell_type": "markdown",
   "metadata": {},
   "source": [
    "## Conclusions"
   ]
  },
  {
   "cell_type": "markdown",
   "metadata": {},
   "source": [
    "  In this exercise we learned:\n",
    "  - How to price an european option with Monte Carlo\n",
    "  - How to price a barrier option with Monte Carlo\n",
    "  - The necessity of the continuity correction\n",
    "  - How to use the Brownian Bridge method to fill a path\n",
    "  - How to use an adaptative Brownian Bridge method to price a barrier option while trying to minimize the number of points generated\n",
    "  \n",
    "  \n",
    "  The algorithm to solve the last problem is interesting, because it forces one to think about the best way to structure the data in order to use the test conditions."
   ]
  },
  {
   "cell_type": "markdown",
   "metadata": {},
   "source": [
    "## References"
   ]
  },
  {
   "cell_type": "markdown",
   "metadata": {},
   "source": [
    "1. \"The Complete Guide to Option Pricing Formulas\", 2nd Edition, by Espen Gaarder Haug, McGrawHill, 2007\n",
    "2. \"Monte Carlo Methods in Financial Engineering\", Paul Glasserman, Springer, 2004\n",
    "3. \"A Continuity Correction for Discrete barrier Options\", Mark Braodie, Paul Glasserman, Steven Kou, Mathematical Finance, Vol. 7, No. 4, October 1997)\n",
    "4. \"Financial Engineering and Computation: Principles, Mathematics, Algorithms\", Yuh-Dauh Lyuu, Cambridge University Press, 2001"
   ]
  }
 ],
 "metadata": {
  "kernelspec": {
   "display_name": "Python 2",
   "language": "python",
   "name": "python2"
  },
  "language_info": {
   "codemirror_mode": {
    "name": "ipython",
    "version": 2
   },
   "file_extension": ".py",
   "mimetype": "text/x-python",
   "name": "python",
   "nbconvert_exporter": "python",
   "pygments_lexer": "ipython2",
   "version": "2.7.10"
  }
 },
 "nbformat": 4,
 "nbformat_minor": 0
}
